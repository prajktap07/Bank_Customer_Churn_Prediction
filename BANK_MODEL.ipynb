{
 "cells": [
  {
   "cell_type": "code",
   "execution_count": 1,
   "id": "82651555",
   "metadata": {},
   "outputs": [],
   "source": [
    "import pandas as pd\n",
    "import numpy as np"
   ]
  },
  {
   "cell_type": "code",
   "execution_count": 2,
   "id": "b13f0ed9",
   "metadata": {},
   "outputs": [],
   "source": [
    "# load dataset\n",
    "df=pd.read_csv('Bank Customer Churn Prediction.csv')"
   ]
  },
  {
   "cell_type": "markdown",
   "id": "cdae547b",
   "metadata": {},
   "source": [
    "# PREPROCESSING"
   ]
  },
  {
   "cell_type": "code",
   "execution_count": 3,
   "id": "14514b02",
   "metadata": {},
   "outputs": [],
   "source": [
    "# customer id is unique for every person so this not useful in our analysis\n",
    "df.drop('customer_id',axis=1,inplace=True)"
   ]
  },
  {
   "cell_type": "code",
   "execution_count": 4,
   "id": "e82fee7a",
   "metadata": {},
   "outputs": [
    {
     "data": {
      "text/html": [
       "<div>\n",
       "<style scoped>\n",
       "    .dataframe tbody tr th:only-of-type {\n",
       "        vertical-align: middle;\n",
       "    }\n",
       "\n",
       "    .dataframe tbody tr th {\n",
       "        vertical-align: top;\n",
       "    }\n",
       "\n",
       "    .dataframe thead th {\n",
       "        text-align: right;\n",
       "    }\n",
       "</style>\n",
       "<table border=\"1\" class=\"dataframe\">\n",
       "  <thead>\n",
       "    <tr style=\"text-align: right;\">\n",
       "      <th></th>\n",
       "      <th>credit_score</th>\n",
       "      <th>country</th>\n",
       "      <th>gender</th>\n",
       "      <th>age</th>\n",
       "      <th>tenure</th>\n",
       "      <th>balance</th>\n",
       "      <th>products_number</th>\n",
       "      <th>credit_card</th>\n",
       "      <th>active_member</th>\n",
       "      <th>estimated_salary</th>\n",
       "      <th>churn</th>\n",
       "    </tr>\n",
       "  </thead>\n",
       "  <tbody>\n",
       "    <tr>\n",
       "      <th>0</th>\n",
       "      <td>619</td>\n",
       "      <td>France</td>\n",
       "      <td>Female</td>\n",
       "      <td>42</td>\n",
       "      <td>2</td>\n",
       "      <td>0.00</td>\n",
       "      <td>1</td>\n",
       "      <td>1</td>\n",
       "      <td>1</td>\n",
       "      <td>101348.88</td>\n",
       "      <td>1</td>\n",
       "    </tr>\n",
       "    <tr>\n",
       "      <th>1</th>\n",
       "      <td>608</td>\n",
       "      <td>Spain</td>\n",
       "      <td>Female</td>\n",
       "      <td>41</td>\n",
       "      <td>1</td>\n",
       "      <td>83807.86</td>\n",
       "      <td>1</td>\n",
       "      <td>0</td>\n",
       "      <td>1</td>\n",
       "      <td>112542.58</td>\n",
       "      <td>0</td>\n",
       "    </tr>\n",
       "    <tr>\n",
       "      <th>2</th>\n",
       "      <td>502</td>\n",
       "      <td>France</td>\n",
       "      <td>Female</td>\n",
       "      <td>42</td>\n",
       "      <td>8</td>\n",
       "      <td>159660.80</td>\n",
       "      <td>3</td>\n",
       "      <td>1</td>\n",
       "      <td>0</td>\n",
       "      <td>113931.57</td>\n",
       "      <td>1</td>\n",
       "    </tr>\n",
       "    <tr>\n",
       "      <th>3</th>\n",
       "      <td>699</td>\n",
       "      <td>France</td>\n",
       "      <td>Female</td>\n",
       "      <td>39</td>\n",
       "      <td>1</td>\n",
       "      <td>0.00</td>\n",
       "      <td>2</td>\n",
       "      <td>0</td>\n",
       "      <td>0</td>\n",
       "      <td>93826.63</td>\n",
       "      <td>0</td>\n",
       "    </tr>\n",
       "    <tr>\n",
       "      <th>4</th>\n",
       "      <td>850</td>\n",
       "      <td>Spain</td>\n",
       "      <td>Female</td>\n",
       "      <td>43</td>\n",
       "      <td>2</td>\n",
       "      <td>125510.82</td>\n",
       "      <td>1</td>\n",
       "      <td>1</td>\n",
       "      <td>1</td>\n",
       "      <td>79084.10</td>\n",
       "      <td>0</td>\n",
       "    </tr>\n",
       "  </tbody>\n",
       "</table>\n",
       "</div>"
      ],
      "text/plain": [
       "   credit_score country  gender  age  tenure    balance  products_number  \\\n",
       "0           619  France  Female   42       2       0.00                1   \n",
       "1           608   Spain  Female   41       1   83807.86                1   \n",
       "2           502  France  Female   42       8  159660.80                3   \n",
       "3           699  France  Female   39       1       0.00                2   \n",
       "4           850   Spain  Female   43       2  125510.82                1   \n",
       "\n",
       "   credit_card  active_member  estimated_salary  churn  \n",
       "0            1              1         101348.88      1  \n",
       "1            0              1         112542.58      0  \n",
       "2            1              0         113931.57      1  \n",
       "3            0              0          93826.63      0  \n",
       "4            1              1          79084.10      0  "
      ]
     },
     "execution_count": 4,
     "metadata": {},
     "output_type": "execute_result"
    }
   ],
   "source": [
    "df.head()"
   ]
  },
  {
   "cell_type": "code",
   "execution_count": 5,
   "id": "7de32e94",
   "metadata": {},
   "outputs": [],
   "source": [
    "#split our dataframe into x-feature variable and y-target variable.\n",
    "X=df.drop('churn',axis=1) # Features (all columns except 'churn')\n",
    "Y=df['churn'] # Target variable ('churn' column)"
   ]
  },
  {
   "cell_type": "code",
   "execution_count": 6,
   "id": "d88fd020",
   "metadata": {},
   "outputs": [
    {
     "data": {
      "text/html": [
       "<div>\n",
       "<style scoped>\n",
       "    .dataframe tbody tr th:only-of-type {\n",
       "        vertical-align: middle;\n",
       "    }\n",
       "\n",
       "    .dataframe tbody tr th {\n",
       "        vertical-align: top;\n",
       "    }\n",
       "\n",
       "    .dataframe thead th {\n",
       "        text-align: right;\n",
       "    }\n",
       "</style>\n",
       "<table border=\"1\" class=\"dataframe\">\n",
       "  <thead>\n",
       "    <tr style=\"text-align: right;\">\n",
       "      <th></th>\n",
       "      <th>credit_score</th>\n",
       "      <th>country</th>\n",
       "      <th>gender</th>\n",
       "      <th>age</th>\n",
       "      <th>tenure</th>\n",
       "      <th>balance</th>\n",
       "      <th>products_number</th>\n",
       "      <th>credit_card</th>\n",
       "      <th>active_member</th>\n",
       "      <th>estimated_salary</th>\n",
       "    </tr>\n",
       "  </thead>\n",
       "  <tbody>\n",
       "    <tr>\n",
       "      <th>0</th>\n",
       "      <td>619</td>\n",
       "      <td>France</td>\n",
       "      <td>Female</td>\n",
       "      <td>42</td>\n",
       "      <td>2</td>\n",
       "      <td>0.00</td>\n",
       "      <td>1</td>\n",
       "      <td>1</td>\n",
       "      <td>1</td>\n",
       "      <td>101348.88</td>\n",
       "    </tr>\n",
       "    <tr>\n",
       "      <th>1</th>\n",
       "      <td>608</td>\n",
       "      <td>Spain</td>\n",
       "      <td>Female</td>\n",
       "      <td>41</td>\n",
       "      <td>1</td>\n",
       "      <td>83807.86</td>\n",
       "      <td>1</td>\n",
       "      <td>0</td>\n",
       "      <td>1</td>\n",
       "      <td>112542.58</td>\n",
       "    </tr>\n",
       "    <tr>\n",
       "      <th>2</th>\n",
       "      <td>502</td>\n",
       "      <td>France</td>\n",
       "      <td>Female</td>\n",
       "      <td>42</td>\n",
       "      <td>8</td>\n",
       "      <td>159660.80</td>\n",
       "      <td>3</td>\n",
       "      <td>1</td>\n",
       "      <td>0</td>\n",
       "      <td>113931.57</td>\n",
       "    </tr>\n",
       "    <tr>\n",
       "      <th>3</th>\n",
       "      <td>699</td>\n",
       "      <td>France</td>\n",
       "      <td>Female</td>\n",
       "      <td>39</td>\n",
       "      <td>1</td>\n",
       "      <td>0.00</td>\n",
       "      <td>2</td>\n",
       "      <td>0</td>\n",
       "      <td>0</td>\n",
       "      <td>93826.63</td>\n",
       "    </tr>\n",
       "    <tr>\n",
       "      <th>4</th>\n",
       "      <td>850</td>\n",
       "      <td>Spain</td>\n",
       "      <td>Female</td>\n",
       "      <td>43</td>\n",
       "      <td>2</td>\n",
       "      <td>125510.82</td>\n",
       "      <td>1</td>\n",
       "      <td>1</td>\n",
       "      <td>1</td>\n",
       "      <td>79084.10</td>\n",
       "    </tr>\n",
       "  </tbody>\n",
       "</table>\n",
       "</div>"
      ],
      "text/plain": [
       "   credit_score country  gender  age  tenure    balance  products_number  \\\n",
       "0           619  France  Female   42       2       0.00                1   \n",
       "1           608   Spain  Female   41       1   83807.86                1   \n",
       "2           502  France  Female   42       8  159660.80                3   \n",
       "3           699  France  Female   39       1       0.00                2   \n",
       "4           850   Spain  Female   43       2  125510.82                1   \n",
       "\n",
       "   credit_card  active_member  estimated_salary  \n",
       "0            1              1         101348.88  \n",
       "1            0              1         112542.58  \n",
       "2            1              0         113931.57  \n",
       "3            0              0          93826.63  \n",
       "4            1              1          79084.10  "
      ]
     },
     "execution_count": 6,
     "metadata": {},
     "output_type": "execute_result"
    }
   ],
   "source": [
    "X.head() # preview of feature varibale"
   ]
  },
  {
   "cell_type": "code",
   "execution_count": 7,
   "id": "8f1d8fb7",
   "metadata": {},
   "outputs": [
    {
     "data": {
      "text/plain": [
       "0    1\n",
       "1    0\n",
       "2    1\n",
       "3    0\n",
       "4    0\n",
       "Name: churn, dtype: int64"
      ]
     },
     "execution_count": 7,
     "metadata": {},
     "output_type": "execute_result"
    }
   ],
   "source": [
    "Y.head() # preview of target varibale"
   ]
  },
  {
   "cell_type": "code",
   "execution_count": 8,
   "id": "8a7dd86f",
   "metadata": {},
   "outputs": [
    {
     "name": "stdout",
     "output_type": "stream",
     "text": [
      "num_columns : ['credit_score', 'age', 'tenure', 'balance', 'products_number', 'credit_card', 'active_member', 'estimated_salary']\n",
      "cat_columns ['country', 'gender']\n"
     ]
    }
   ],
   "source": [
    "# find list of numerical feature and categorical feature\n",
    "\n",
    "# List numerical features\n",
    "num_columns = X.select_dtypes(include='number').columns.tolist()\n",
    "print('num_columns :',num_columns)\n",
    "\n",
    "# List categorical features\n",
    "cat_columns = X.select_dtypes(include='object').columns.tolist()\n",
    "print('cat_columns',cat_columns)\n"
   ]
  },
  {
   "cell_type": "raw",
   "id": "d844b58f",
   "metadata": {},
   "source": [
    "#create train -test split\n",
    "\n",
    "#30% of observations will be set aside for the test set the rest, 70%, will be used as the training set\n",
    "\n",
    "# randomstate:This ensures that every time you run the code with the same random_state value, you will get the same randomized results.\n",
    "# stratify: Stratified sampling ensures that the target variable's class distribution is preserved in both the train and test sets.\n",
    "\n",
    "\n",
    "#test_size: It specifies the proportion of the data that should be allocated to the test set. In this case, it is set to 0.3, which means 30% of the data will be used for testing."
   ]
  },
  {
   "cell_type": "code",
   "execution_count": 9,
   "id": "681dc05a",
   "metadata": {},
   "outputs": [],
   "source": [
    "from sklearn.model_selection import train_test_split\n",
    "random_state=10\n",
    "\n",
    "# Split X and y into train and test sets\n",
    "X_train, X_test, y_train, y_test = train_test_split(X, Y,\n",
    "                                                    test_size=0.3,\n",
    "                                                    random_state=random_state,\n",
    "                                                    stratify=df.churn)\n"
   ]
  },
  {
   "cell_type": "code",
   "execution_count": 10,
   "id": "f964f73b",
   "metadata": {},
   "outputs": [
    {
     "name": "stdout",
     "output_type": "stream",
     "text": [
      "X_train: 7000\n",
      "X_test: 3000\n",
      "y_train: 7000\n",
      "y_test: 3000\n"
     ]
    }
   ],
   "source": [
    "# Print number of observations in X_train, X_test, y_train, and y_test\n",
    "print('X_train:', len(X_train))\n",
    "print('X_test:', len(X_test))\n",
    "print('y_train:', len(y_train))\n",
    "print('y_test:', len(y_test))\n",
    "\n"
   ]
  },
  {
   "cell_type": "code",
   "execution_count": 11,
   "id": "cb0c3463",
   "metadata": {},
   "outputs": [
    {
     "name": "stdout",
     "output_type": "stream",
     "text": [
      "[0, 3, 4, 5, 6, 7, 8, 9]\n",
      "[1, 2]\n"
     ]
    }
   ],
   "source": [
    "# for numerical fetures\n",
    "num_features = [] \n",
    "\n",
    "for i in num_columns:\n",
    "    location = X.columns.get_loc(i) # this give loaction/index of the current column\n",
    "    num_features.append(location)\n",
    "print(num_features)\n",
    "\n",
    "\n",
    "# for categorical features\n",
    "cat_features = []\n",
    "\n",
    "for i in cat_columns:\n",
    "    location = X.columns.get_loc(i)\n",
    "    cat_features.append(location)\n",
    "print(cat_features)\n",
    "\n"
   ]
  },
  {
   "cell_type": "code",
   "execution_count": 12,
   "id": "5d5e4f7d",
   "metadata": {},
   "outputs": [
    {
     "data": {
      "text/plain": [
       "ColumnTransformer(transformers=[('minmaxscaler', MinMaxScaler(),\n",
       "                                 [0, 3, 4, 5, 6, 7, 8, 9]),\n",
       "                                ('onehotencoder', OneHotEncoder(sparse=False),\n",
       "                                 [1, 2])])"
      ]
     },
     "execution_count": 12,
     "metadata": {},
     "output_type": "execute_result"
    }
   ],
   "source": [
    "\n",
    "from sklearn.preprocessing import MinMaxScaler, OneHotEncoder, LabelEncoder\n",
    "from sklearn.compose import ColumnTransformer, make_column_transformer\n",
    "\n",
    "# Need to be numeric not string to specify columns name \n",
    "preprocess = make_column_transformer(\n",
    "    (MinMaxScaler(), [0,3,4,5,6,7,8,9]),\n",
    "    (OneHotEncoder(sparse=False), [1,2])\n",
    ")\n",
    "preprocess"
   ]
  },
  {
   "cell_type": "code",
   "execution_count": 13,
   "id": "388c2400",
   "metadata": {},
   "outputs": [],
   "source": [
    "# importing models\n",
    "import pandas as pd\n",
    "import numpy as np\n",
    "from sklearn.linear_model import LogisticRegression\n",
    "from sklearn.svm import SVC\n",
    "from sklearn.neighbors import KNeighborsClassifier\n",
    "from sklearn.tree import DecisionTreeClassifier\n",
    "from sklearn.ensemble import RandomForestClassifier\n",
    "import xgboost as xgb\n",
    "from sklearn.ensemble import GradientBoostingClassifier\n",
    "# Function for creating model pipelines - \n",
    "from sklearn.pipeline import make_pipeline\n",
    "#foe evaluation of model --Classification metrics\n",
    "from sklearn.metrics import confusion_matrix,f1_score,precision_score,recall_score,accuracy_score"
   ]
  },
  {
   "cell_type": "markdown",
   "id": "a4133420",
   "metadata": {},
   "source": [
    "# FOR LOGISTIC REGRESSION MODEl.."
   ]
  },
  {
   "cell_type": "code",
   "execution_count": 14,
   "id": "8e0955dc",
   "metadata": {},
   "outputs": [
    {
     "data": {
      "text/plain": [
       "Pipeline(steps=[('columntransformer',\n",
       "                 ColumnTransformer(transformers=[('minmaxscaler',\n",
       "                                                  MinMaxScaler(),\n",
       "                                                  [0, 3, 4, 5, 6, 7, 8, 9]),\n",
       "                                                 ('onehotencoder',\n",
       "                                                  OneHotEncoder(sparse=False),\n",
       "                                                  [1, 2])])),\n",
       "                ('logisticregression', LogisticRegression(random_state=10))])"
      ]
     },
     "execution_count": 14,
     "metadata": {},
     "output_type": "execute_result"
    }
   ],
   "source": [
    "# Import classifier\n",
    "from sklearn.linear_model import LogisticRegression \n",
    "\n",
    "# Define model with pipeline\n",
    "Logistic_model = make_pipeline(preprocess,LogisticRegression(random_state=random_state))\n",
    "\n",
    "Logistic_model"
   ]
  },
  {
   "cell_type": "code",
   "execution_count": 15,
   "id": "3d77b3e0",
   "metadata": {},
   "outputs": [],
   "source": [
    "from sklearn.model_selection import GridSearchCV  # used for hyperparameter tunning"
   ]
  },
  {
   "cell_type": "code",
   "execution_count": 17,
   "id": "cbd1e044",
   "metadata": {},
   "outputs": [],
   "source": [
    "lr_param_grid = {\n",
    "    'logisticregression__C' : [0.01, 0.05, 0.1, 0.5, 1, 5],\n",
    "    'logisticregression__solver' : ['liblinear', 'newton-cg', 'lbfgs', 'sag', 'saga']\n",
    "}\n",
    "\n",
    "lr_grid = GridSearchCV(Logistic_model, lr_param_grid, verbose=3, cv= 5, scoring='accuracy')"
   ]
  },
  {
   "cell_type": "code",
   "execution_count": 18,
   "id": "1a60c5ab",
   "metadata": {},
   "outputs": [
    {
     "name": "stdout",
     "output_type": "stream",
     "text": [
      "Fitting 5 folds for each of 30 candidates, totalling 150 fits\n",
      "[CV 1/5] END logisticregression__C=0.01, logisticregression__solver=liblinear;, score=0.798 total time=   0.0s\n",
      "[CV 2/5] END logisticregression__C=0.01, logisticregression__solver=liblinear;, score=0.797 total time=   0.0s\n",
      "[CV 3/5] END logisticregression__C=0.01, logisticregression__solver=liblinear;, score=0.797 total time=   0.0s\n",
      "[CV 4/5] END logisticregression__C=0.01, logisticregression__solver=liblinear;, score=0.797 total time=   0.0s\n",
      "[CV 5/5] END logisticregression__C=0.01, logisticregression__solver=liblinear;, score=0.797 total time=   0.0s\n",
      "[CV 1/5] END logisticregression__C=0.01, logisticregression__solver=newton-cg;, score=0.796 total time=   0.0s\n",
      "[CV 2/5] END logisticregression__C=0.01, logisticregression__solver=newton-cg;, score=0.796 total time=   0.0s\n",
      "[CV 3/5] END logisticregression__C=0.01, logisticregression__solver=newton-cg;, score=0.796 total time=   0.0s\n",
      "[CV 4/5] END logisticregression__C=0.01, logisticregression__solver=newton-cg;, score=0.796 total time=   0.0s\n",
      "[CV 5/5] END logisticregression__C=0.01, logisticregression__solver=newton-cg;, score=0.796 total time=   0.0s\n",
      "[CV 1/5] END logisticregression__C=0.01, logisticregression__solver=lbfgs;, score=0.796 total time=   0.0s\n",
      "[CV 2/5] END logisticregression__C=0.01, logisticregression__solver=lbfgs;, score=0.796 total time=   0.0s\n",
      "[CV 3/5] END logisticregression__C=0.01, logisticregression__solver=lbfgs;, score=0.796 total time=   0.0s\n",
      "[CV 4/5] END logisticregression__C=0.01, logisticregression__solver=lbfgs;, score=0.796 total time=   0.0s\n",
      "[CV 5/5] END logisticregression__C=0.01, logisticregression__solver=lbfgs;, score=0.796 total time=   0.0s\n",
      "[CV 1/5] END logisticregression__C=0.01, logisticregression__solver=sag;, score=0.796 total time=   0.0s\n",
      "[CV 2/5] END logisticregression__C=0.01, logisticregression__solver=sag;, score=0.796 total time=   0.0s\n",
      "[CV 3/5] END logisticregression__C=0.01, logisticregression__solver=sag;, score=0.796 total time=   0.0s\n",
      "[CV 4/5] END logisticregression__C=0.01, logisticregression__solver=sag;, score=0.796 total time=   0.0s\n",
      "[CV 5/5] END logisticregression__C=0.01, logisticregression__solver=sag;, score=0.796 total time=   0.0s\n",
      "[CV 1/5] END logisticregression__C=0.01, logisticregression__solver=saga;, score=0.796 total time=   0.0s\n",
      "[CV 2/5] END logisticregression__C=0.01, logisticregression__solver=saga;, score=0.796 total time=   0.0s\n",
      "[CV 3/5] END logisticregression__C=0.01, logisticregression__solver=saga;, score=0.796 total time=   0.0s\n",
      "[CV 4/5] END logisticregression__C=0.01, logisticregression__solver=saga;, score=0.796 total time=   0.0s\n",
      "[CV 5/5] END logisticregression__C=0.01, logisticregression__solver=saga;, score=0.796 total time=   0.0s\n",
      "[CV 1/5] END logisticregression__C=0.05, logisticregression__solver=liblinear;, score=0.806 total time=   0.0s\n",
      "[CV 2/5] END logisticregression__C=0.05, logisticregression__solver=liblinear;, score=0.811 total time=   0.0s\n",
      "[CV 3/5] END logisticregression__C=0.05, logisticregression__solver=liblinear;, score=0.813 total time=   0.0s\n",
      "[CV 4/5] END logisticregression__C=0.05, logisticregression__solver=liblinear;, score=0.809 total time=   0.0s\n",
      "[CV 5/5] END logisticregression__C=0.05, logisticregression__solver=liblinear;, score=0.814 total time=   0.0s\n",
      "[CV 1/5] END logisticregression__C=0.05, logisticregression__solver=newton-cg;, score=0.805 total time=   0.0s\n",
      "[CV 2/5] END logisticregression__C=0.05, logisticregression__solver=newton-cg;, score=0.810 total time=   0.0s\n",
      "[CV 3/5] END logisticregression__C=0.05, logisticregression__solver=newton-cg;, score=0.813 total time=   0.0s\n",
      "[CV 4/5] END logisticregression__C=0.05, logisticregression__solver=newton-cg;, score=0.809 total time=   0.0s\n",
      "[CV 5/5] END logisticregression__C=0.05, logisticregression__solver=newton-cg;, score=0.816 total time=   0.0s\n",
      "[CV 1/5] END logisticregression__C=0.05, logisticregression__solver=lbfgs;, score=0.805 total time=   0.0s\n",
      "[CV 2/5] END logisticregression__C=0.05, logisticregression__solver=lbfgs;, score=0.810 total time=   0.0s\n",
      "[CV 3/5] END logisticregression__C=0.05, logisticregression__solver=lbfgs;, score=0.813 total time=   0.0s\n",
      "[CV 4/5] END logisticregression__C=0.05, logisticregression__solver=lbfgs;, score=0.809 total time=   0.0s\n",
      "[CV 5/5] END logisticregression__C=0.05, logisticregression__solver=lbfgs;, score=0.816 total time=   0.0s\n",
      "[CV 1/5] END logisticregression__C=0.05, logisticregression__solver=sag;, score=0.805 total time=   0.0s\n",
      "[CV 2/5] END logisticregression__C=0.05, logisticregression__solver=sag;, score=0.810 total time=   0.0s\n",
      "[CV 3/5] END logisticregression__C=0.05, logisticregression__solver=sag;, score=0.813 total time=   0.0s\n",
      "[CV 4/5] END logisticregression__C=0.05, logisticregression__solver=sag;, score=0.810 total time=   0.0s\n",
      "[CV 5/5] END logisticregression__C=0.05, logisticregression__solver=sag;, score=0.816 total time=   0.0s\n",
      "[CV 1/5] END logisticregression__C=0.05, logisticregression__solver=saga;, score=0.805 total time=   0.0s\n",
      "[CV 2/5] END logisticregression__C=0.05, logisticregression__solver=saga;, score=0.810 total time=   0.0s\n",
      "[CV 3/5] END logisticregression__C=0.05, logisticregression__solver=saga;, score=0.813 total time=   0.0s\n",
      "[CV 4/5] END logisticregression__C=0.05, logisticregression__solver=saga;, score=0.809 total time=   0.0s\n",
      "[CV 5/5] END logisticregression__C=0.05, logisticregression__solver=saga;, score=0.816 total time=   0.0s\n",
      "[CV 1/5] END logisticregression__C=0.1, logisticregression__solver=liblinear;, score=0.811 total time=   0.0s\n",
      "[CV 2/5] END logisticregression__C=0.1, logisticregression__solver=liblinear;, score=0.816 total time=   0.0s\n",
      "[CV 3/5] END logisticregression__C=0.1, logisticregression__solver=liblinear;, score=0.818 total time=   0.0s\n",
      "[CV 4/5] END logisticregression__C=0.1, logisticregression__solver=liblinear;, score=0.807 total time=   0.0s\n",
      "[CV 5/5] END logisticregression__C=0.1, logisticregression__solver=liblinear;, score=0.820 total time=   0.0s\n",
      "[CV 1/5] END logisticregression__C=0.1, logisticregression__solver=newton-cg;, score=0.811 total time=   0.0s\n",
      "[CV 2/5] END logisticregression__C=0.1, logisticregression__solver=newton-cg;, score=0.817 total time=   0.0s\n",
      "[CV 3/5] END logisticregression__C=0.1, logisticregression__solver=newton-cg;, score=0.816 total time=   0.0s\n",
      "[CV 4/5] END logisticregression__C=0.1, logisticregression__solver=newton-cg;, score=0.806 total time=   0.0s\n",
      "[CV 5/5] END logisticregression__C=0.1, logisticregression__solver=newton-cg;, score=0.820 total time=   0.0s\n",
      "[CV 1/5] END logisticregression__C=0.1, logisticregression__solver=lbfgs;, score=0.811 total time=   0.0s\n",
      "[CV 2/5] END logisticregression__C=0.1, logisticregression__solver=lbfgs;, score=0.817 total time=   0.0s\n",
      "[CV 3/5] END logisticregression__C=0.1, logisticregression__solver=lbfgs;, score=0.816 total time=   0.0s\n",
      "[CV 4/5] END logisticregression__C=0.1, logisticregression__solver=lbfgs;, score=0.806 total time=   0.0s\n",
      "[CV 5/5] END logisticregression__C=0.1, logisticregression__solver=lbfgs;, score=0.820 total time=   0.0s\n",
      "[CV 1/5] END logisticregression__C=0.1, logisticregression__solver=sag;, score=0.811 total time=   0.0s\n",
      "[CV 2/5] END logisticregression__C=0.1, logisticregression__solver=sag;, score=0.817 total time=   0.0s\n",
      "[CV 3/5] END logisticregression__C=0.1, logisticregression__solver=sag;, score=0.816 total time=   0.0s\n",
      "[CV 4/5] END logisticregression__C=0.1, logisticregression__solver=sag;, score=0.806 total time=   0.0s\n",
      "[CV 5/5] END logisticregression__C=0.1, logisticregression__solver=sag;, score=0.820 total time=   0.0s\n",
      "[CV 1/5] END logisticregression__C=0.1, logisticregression__solver=saga;, score=0.811 total time=   0.0s\n",
      "[CV 2/5] END logisticregression__C=0.1, logisticregression__solver=saga;, score=0.817 total time=   0.0s\n",
      "[CV 3/5] END logisticregression__C=0.1, logisticregression__solver=saga;, score=0.816 total time=   0.0s\n",
      "[CV 4/5] END logisticregression__C=0.1, logisticregression__solver=saga;, score=0.806 total time=   0.0s\n",
      "[CV 5/5] END logisticregression__C=0.1, logisticregression__solver=saga;, score=0.820 total time=   0.0s\n",
      "[CV 1/5] END logisticregression__C=0.5, logisticregression__solver=liblinear;, score=0.811 total time=   0.0s\n",
      "[CV 2/5] END logisticregression__C=0.5, logisticregression__solver=liblinear;, score=0.808 total time=   0.0s\n",
      "[CV 3/5] END logisticregression__C=0.5, logisticregression__solver=liblinear;, score=0.812 total time=   0.0s\n",
      "[CV 4/5] END logisticregression__C=0.5, logisticregression__solver=liblinear;, score=0.814 total time=   0.0s\n",
      "[CV 5/5] END logisticregression__C=0.5, logisticregression__solver=liblinear;, score=0.824 total time=   0.0s\n",
      "[CV 1/5] END logisticregression__C=0.5, logisticregression__solver=newton-cg;, score=0.812 total time=   0.0s\n"
     ]
    },
    {
     "name": "stdout",
     "output_type": "stream",
     "text": [
      "[CV 2/5] END logisticregression__C=0.5, logisticregression__solver=newton-cg;, score=0.810 total time=   0.0s\n",
      "[CV 3/5] END logisticregression__C=0.5, logisticregression__solver=newton-cg;, score=0.811 total time=   0.0s\n",
      "[CV 4/5] END logisticregression__C=0.5, logisticregression__solver=newton-cg;, score=0.814 total time=   0.0s\n",
      "[CV 5/5] END logisticregression__C=0.5, logisticregression__solver=newton-cg;, score=0.823 total time=   0.0s\n",
      "[CV 1/5] END logisticregression__C=0.5, logisticregression__solver=lbfgs;, score=0.812 total time=   0.0s\n",
      "[CV 2/5] END logisticregression__C=0.5, logisticregression__solver=lbfgs;, score=0.810 total time=   0.0s\n",
      "[CV 3/5] END logisticregression__C=0.5, logisticregression__solver=lbfgs;, score=0.811 total time=   0.0s\n",
      "[CV 4/5] END logisticregression__C=0.5, logisticregression__solver=lbfgs;, score=0.814 total time=   0.0s\n",
      "[CV 5/5] END logisticregression__C=0.5, logisticregression__solver=lbfgs;, score=0.823 total time=   0.0s\n",
      "[CV 1/5] END logisticregression__C=0.5, logisticregression__solver=sag;, score=0.812 total time=   0.0s\n",
      "[CV 2/5] END logisticregression__C=0.5, logisticregression__solver=sag;, score=0.810 total time=   0.0s\n",
      "[CV 3/5] END logisticregression__C=0.5, logisticregression__solver=sag;, score=0.811 total time=   0.0s\n",
      "[CV 4/5] END logisticregression__C=0.5, logisticregression__solver=sag;, score=0.814 total time=   0.0s\n",
      "[CV 5/5] END logisticregression__C=0.5, logisticregression__solver=sag;, score=0.823 total time=   0.0s\n",
      "[CV 1/5] END logisticregression__C=0.5, logisticregression__solver=saga;, score=0.812 total time=   0.0s\n",
      "[CV 2/5] END logisticregression__C=0.5, logisticregression__solver=saga;, score=0.810 total time=   0.0s\n",
      "[CV 3/5] END logisticregression__C=0.5, logisticregression__solver=saga;, score=0.811 total time=   0.0s\n",
      "[CV 4/5] END logisticregression__C=0.5, logisticregression__solver=saga;, score=0.814 total time=   0.0s\n",
      "[CV 5/5] END logisticregression__C=0.5, logisticregression__solver=saga;, score=0.823 total time=   0.0s\n",
      "[CV 1/5] END logisticregression__C=1, logisticregression__solver=liblinear;, score=0.807 total time=   0.0s\n",
      "[CV 2/5] END logisticregression__C=1, logisticregression__solver=liblinear;, score=0.808 total time=   0.0s\n",
      "[CV 3/5] END logisticregression__C=1, logisticregression__solver=liblinear;, score=0.810 total time=   0.0s\n",
      "[CV 4/5] END logisticregression__C=1, logisticregression__solver=liblinear;, score=0.814 total time=   0.0s\n",
      "[CV 5/5] END logisticregression__C=1, logisticregression__solver=liblinear;, score=0.821 total time=   0.0s\n",
      "[CV 1/5] END logisticregression__C=1, logisticregression__solver=newton-cg;, score=0.807 total time=   0.0s\n",
      "[CV 2/5] END logisticregression__C=1, logisticregression__solver=newton-cg;, score=0.808 total time=   0.0s\n",
      "[CV 3/5] END logisticregression__C=1, logisticregression__solver=newton-cg;, score=0.810 total time=   0.0s\n",
      "[CV 4/5] END logisticregression__C=1, logisticregression__solver=newton-cg;, score=0.813 total time=   0.0s\n",
      "[CV 5/5] END logisticregression__C=1, logisticregression__solver=newton-cg;, score=0.821 total time=   0.0s\n",
      "[CV 1/5] END logisticregression__C=1, logisticregression__solver=lbfgs;, score=0.806 total time=   0.0s\n",
      "[CV 2/5] END logisticregression__C=1, logisticregression__solver=lbfgs;, score=0.808 total time=   0.0s\n",
      "[CV 3/5] END logisticregression__C=1, logisticregression__solver=lbfgs;, score=0.810 total time=   0.0s\n",
      "[CV 4/5] END logisticregression__C=1, logisticregression__solver=lbfgs;, score=0.813 total time=   0.0s\n",
      "[CV 5/5] END logisticregression__C=1, logisticregression__solver=lbfgs;, score=0.821 total time=   0.0s\n",
      "[CV 1/5] END logisticregression__C=1, logisticregression__solver=sag;, score=0.807 total time=   0.0s\n",
      "[CV 2/5] END logisticregression__C=1, logisticregression__solver=sag;, score=0.808 total time=   0.0s\n",
      "[CV 3/5] END logisticregression__C=1, logisticregression__solver=sag;, score=0.810 total time=   0.0s\n",
      "[CV 4/5] END logisticregression__C=1, logisticregression__solver=sag;, score=0.813 total time=   0.0s\n",
      "[CV 5/5] END logisticregression__C=1, logisticregression__solver=sag;, score=0.821 total time=   0.0s\n",
      "[CV 1/5] END logisticregression__C=1, logisticregression__solver=saga;, score=0.807 total time=   0.0s\n",
      "[CV 2/5] END logisticregression__C=1, logisticregression__solver=saga;, score=0.808 total time=   0.0s\n",
      "[CV 3/5] END logisticregression__C=1, logisticregression__solver=saga;, score=0.810 total time=   0.0s\n",
      "[CV 4/5] END logisticregression__C=1, logisticregression__solver=saga;, score=0.813 total time=   0.0s\n",
      "[CV 5/5] END logisticregression__C=1, logisticregression__solver=saga;, score=0.821 total time=   0.0s\n",
      "[CV 1/5] END logisticregression__C=5, logisticregression__solver=liblinear;, score=0.807 total time=   0.0s\n",
      "[CV 2/5] END logisticregression__C=5, logisticregression__solver=liblinear;, score=0.807 total time=   0.0s\n",
      "[CV 3/5] END logisticregression__C=5, logisticregression__solver=liblinear;, score=0.811 total time=   0.0s\n",
      "[CV 4/5] END logisticregression__C=5, logisticregression__solver=liblinear;, score=0.813 total time=   0.0s\n",
      "[CV 5/5] END logisticregression__C=5, logisticregression__solver=liblinear;, score=0.822 total time=   0.0s\n",
      "[CV 1/5] END logisticregression__C=5, logisticregression__solver=newton-cg;, score=0.808 total time=   0.0s\n",
      "[CV 2/5] END logisticregression__C=5, logisticregression__solver=newton-cg;, score=0.807 total time=   0.0s\n",
      "[CV 3/5] END logisticregression__C=5, logisticregression__solver=newton-cg;, score=0.811 total time=   0.0s\n",
      "[CV 4/5] END logisticregression__C=5, logisticregression__solver=newton-cg;, score=0.813 total time=   0.0s\n",
      "[CV 5/5] END logisticregression__C=5, logisticregression__solver=newton-cg;, score=0.822 total time=   0.0s\n",
      "[CV 1/5] END logisticregression__C=5, logisticregression__solver=lbfgs;, score=0.808 total time=   0.0s\n",
      "[CV 2/5] END logisticregression__C=5, logisticregression__solver=lbfgs;, score=0.807 total time=   0.0s\n",
      "[CV 3/5] END logisticregression__C=5, logisticregression__solver=lbfgs;, score=0.811 total time=   0.0s\n",
      "[CV 4/5] END logisticregression__C=5, logisticregression__solver=lbfgs;, score=0.813 total time=   0.0s\n",
      "[CV 5/5] END logisticregression__C=5, logisticregression__solver=lbfgs;, score=0.822 total time=   0.0s\n",
      "[CV 1/5] END logisticregression__C=5, logisticregression__solver=sag;, score=0.808 total time=   0.0s\n",
      "[CV 2/5] END logisticregression__C=5, logisticregression__solver=sag;, score=0.807 total time=   0.0s\n",
      "[CV 3/5] END logisticregression__C=5, logisticregression__solver=sag;, score=0.811 total time=   0.0s\n",
      "[CV 4/5] END logisticregression__C=5, logisticregression__solver=sag;, score=0.813 total time=   0.0s\n",
      "[CV 5/5] END logisticregression__C=5, logisticregression__solver=sag;, score=0.822 total time=   0.0s\n"
     ]
    },
    {
     "name": "stderr",
     "output_type": "stream",
     "text": [
      "C:\\ProgramData\\Anaconda3\\lib\\site-packages\\sklearn\\linear_model\\_sag.py:328: ConvergenceWarning: The max_iter was reached which means the coef_ did not converge\n",
      "  warnings.warn(\"The max_iter was reached which means \"\n",
      "C:\\ProgramData\\Anaconda3\\lib\\site-packages\\sklearn\\linear_model\\_sag.py:328: ConvergenceWarning: The max_iter was reached which means the coef_ did not converge\n",
      "  warnings.warn(\"The max_iter was reached which means \"\n"
     ]
    },
    {
     "name": "stdout",
     "output_type": "stream",
     "text": [
      "[CV 1/5] END logisticregression__C=5, logisticregression__solver=saga;, score=0.808 total time=   2.8s\n",
      "[CV 2/5] END logisticregression__C=5, logisticregression__solver=saga;, score=0.807 total time=   0.0s\n"
     ]
    },
    {
     "name": "stderr",
     "output_type": "stream",
     "text": [
      "C:\\ProgramData\\Anaconda3\\lib\\site-packages\\sklearn\\linear_model\\_sag.py:328: ConvergenceWarning: The max_iter was reached which means the coef_ did not converge\n",
      "  warnings.warn(\"The max_iter was reached which means \"\n",
      "C:\\ProgramData\\Anaconda3\\lib\\site-packages\\sklearn\\linear_model\\_sag.py:328: ConvergenceWarning: The max_iter was reached which means the coef_ did not converge\n",
      "  warnings.warn(\"The max_iter was reached which means \"\n"
     ]
    },
    {
     "name": "stdout",
     "output_type": "stream",
     "text": [
      "[CV 3/5] END logisticregression__C=5, logisticregression__solver=saga;, score=0.811 total time=   0.1s\n",
      "[CV 4/5] END logisticregression__C=5, logisticregression__solver=saga;, score=0.813 total time=   0.0s\n",
      "[CV 5/5] END logisticregression__C=5, logisticregression__solver=saga;, score=0.822 total time=   0.1s\n",
      "Best Hyperparameters for logistic_reg: {'logisticregression__C': 0.1, 'logisticregression__solver': 'liblinear'}\n",
      "Best Score for logistic_reg: 0.8142857142857143\n"
     ]
    },
    {
     "name": "stderr",
     "output_type": "stream",
     "text": [
      "C:\\ProgramData\\Anaconda3\\lib\\site-packages\\sklearn\\linear_model\\_sag.py:328: ConvergenceWarning: The max_iter was reached which means the coef_ did not converge\n",
      "  warnings.warn(\"The max_iter was reached which means \"\n"
     ]
    }
   ],
   "source": [
    "# Fit the GridSearchCV object to the training data\n",
    "lr_grid.fit(X_train, y_train)\n",
    "\n",
    "# Get the best hyperparameters and best score for Lr\n",
    "best_params = lr_grid.best_params_\n",
    "best_score = lr_grid.best_score_\n",
    "\n"
   ]
  },
  {
   "cell_type": "code",
   "execution_count": 19,
   "id": "f7870838",
   "metadata": {},
   "outputs": [
    {
     "name": "stdout",
     "output_type": "stream",
     "text": [
      "Best Hyperparameters for logistic_reg: {'logisticregression__C': 0.1, 'logisticregression__solver': 'liblinear'}\n",
      "Best Score for logistic_reg: 0.8142857142857143\n"
     ]
    }
   ],
   "source": [
    "print(\"Best Hyperparameters for logistic_reg:\", best_params)\n",
    "print(\"Best Score for logistic_reg:\", best_score)"
   ]
  },
  {
   "cell_type": "code",
   "execution_count": 20,
   "id": "a7410657",
   "metadata": {},
   "outputs": [
    {
     "name": "stdout",
     "output_type": "stream",
     "text": [
      "Training Data Score: 0.8138571428571428\n",
      "Testing Data Score: 0.8086666666666666\n"
     ]
    }
   ],
   "source": [
    "print(f\"Training Data Score: {lr_grid.score(X_train, y_train)}\")\n",
    "print(f\"Testing Data Score: {lr_grid.score(X_test, y_test)}\")"
   ]
  },
  {
   "cell_type": "code",
   "execution_count": 25,
   "id": "c2848a02",
   "metadata": {},
   "outputs": [],
   "source": [
    "# Use the best estimator to make predictions on new data (X_test)\n",
    "y_pred = lr_grid.best_estimator_.predict(X_test)\n",
    "#if you give only best_params:AttributeError: 'dict' object has no attribute 'predict'"
   ]
  },
  {
   "cell_type": "code",
   "execution_count": 26,
   "id": "e8edfc66",
   "metadata": {},
   "outputs": [
    {
     "name": "stdout",
     "output_type": "stream",
     "text": [
      "Classification Report:\n",
      "              precision    recall  f1-score   support\n",
      "\n",
      "           0       0.82      0.98      0.89      2389\n",
      "           1       0.65      0.13      0.22       611\n",
      "\n",
      "    accuracy                           0.81      3000\n",
      "   macro avg       0.73      0.56      0.56      3000\n",
      "weighted avg       0.78      0.81      0.75      3000\n",
      "\n"
     ]
    }
   ],
   "source": [
    "# Calculate the classification report\n",
    "from sklearn.metrics import classification_report\n",
    "classification_rep_lr = classification_report(y_test, y_pred)\n",
    "print(\"Classification Report:\")\n",
    "print(classification_rep_lr)\n",
    "\n"
   ]
  },
  {
   "cell_type": "code",
   "execution_count": 27,
   "id": "9bf15d72",
   "metadata": {},
   "outputs": [
    {
     "name": "stdout",
     "output_type": "stream",
     "text": [
      "Confusion Matrix:\n",
      "[[2345   44]\n",
      " [ 530   81]]\n"
     ]
    }
   ],
   "source": [
    " # Calculate the confusion matrix\n",
    "confusion_mat_lr = confusion_matrix(y_test, y_pred)\n",
    "print(\"Confusion Matrix:\")\n",
    "print(confusion_mat_lr)"
   ]
  },
  {
   "cell_type": "markdown",
   "id": "eed95230",
   "metadata": {},
   "source": [
    "# FOR SVC MODEL.."
   ]
  },
  {
   "cell_type": "code",
   "execution_count": 28,
   "id": "26c42a77",
   "metadata": {},
   "outputs": [
    {
     "name": "stdout",
     "output_type": "stream",
     "text": [
      "Fitting 5 folds for each of 16 candidates, totalling 80 fits\n",
      "[CV 1/5] END svc__C=0.01, svc__gamma=scale, svc__kernel=linear;, score=0.796 total time=   0.4s\n",
      "[CV 2/5] END svc__C=0.01, svc__gamma=scale, svc__kernel=linear;, score=0.796 total time=   0.3s\n",
      "[CV 3/5] END svc__C=0.01, svc__gamma=scale, svc__kernel=linear;, score=0.796 total time=   0.5s\n",
      "[CV 4/5] END svc__C=0.01, svc__gamma=scale, svc__kernel=linear;, score=0.796 total time=   0.3s\n",
      "[CV 5/5] END svc__C=0.01, svc__gamma=scale, svc__kernel=linear;, score=0.796 total time=   0.4s\n",
      "[CV 1/5] END svc__C=0.01, svc__gamma=scale, svc__kernel=rbf;, score=0.796 total time=   0.9s\n",
      "[CV 2/5] END svc__C=0.01, svc__gamma=scale, svc__kernel=rbf;, score=0.796 total time=   1.0s\n",
      "[CV 3/5] END svc__C=0.01, svc__gamma=scale, svc__kernel=rbf;, score=0.796 total time=   0.9s\n",
      "[CV 4/5] END svc__C=0.01, svc__gamma=scale, svc__kernel=rbf;, score=0.796 total time=   0.8s\n",
      "[CV 5/5] END svc__C=0.01, svc__gamma=scale, svc__kernel=rbf;, score=0.796 total time=   0.9s\n",
      "[CV 1/5] END svc__C=0.01, svc__gamma=auto, svc__kernel=linear;, score=0.796 total time=   0.4s\n",
      "[CV 2/5] END svc__C=0.01, svc__gamma=auto, svc__kernel=linear;, score=0.796 total time=   0.4s\n",
      "[CV 3/5] END svc__C=0.01, svc__gamma=auto, svc__kernel=linear;, score=0.796 total time=   0.4s\n",
      "[CV 4/5] END svc__C=0.01, svc__gamma=auto, svc__kernel=linear;, score=0.796 total time=   0.4s\n",
      "[CV 5/5] END svc__C=0.01, svc__gamma=auto, svc__kernel=linear;, score=0.796 total time=   0.4s\n",
      "[CV 1/5] END svc__C=0.01, svc__gamma=auto, svc__kernel=rbf;, score=0.796 total time=   0.9s\n",
      "[CV 2/5] END svc__C=0.01, svc__gamma=auto, svc__kernel=rbf;, score=0.796 total time=   0.9s\n",
      "[CV 3/5] END svc__C=0.01, svc__gamma=auto, svc__kernel=rbf;, score=0.796 total time=   0.8s\n",
      "[CV 4/5] END svc__C=0.01, svc__gamma=auto, svc__kernel=rbf;, score=0.796 total time=   1.0s\n",
      "[CV 5/5] END svc__C=0.01, svc__gamma=auto, svc__kernel=rbf;, score=0.796 total time=   1.0s\n",
      "[CV 1/5] END svc__C=0.1, svc__gamma=scale, svc__kernel=linear;, score=0.796 total time=   0.4s\n",
      "[CV 2/5] END svc__C=0.1, svc__gamma=scale, svc__kernel=linear;, score=0.796 total time=   0.3s\n",
      "[CV 3/5] END svc__C=0.1, svc__gamma=scale, svc__kernel=linear;, score=0.796 total time=   0.4s\n",
      "[CV 4/5] END svc__C=0.1, svc__gamma=scale, svc__kernel=linear;, score=0.796 total time=   0.5s\n",
      "[CV 5/5] END svc__C=0.1, svc__gamma=scale, svc__kernel=linear;, score=0.796 total time=   0.4s\n",
      "[CV 1/5] END svc__C=0.1, svc__gamma=scale, svc__kernel=rbf;, score=0.796 total time=   0.9s\n",
      "[CV 2/5] END svc__C=0.1, svc__gamma=scale, svc__kernel=rbf;, score=0.796 total time=   1.1s\n",
      "[CV 3/5] END svc__C=0.1, svc__gamma=scale, svc__kernel=rbf;, score=0.796 total time=   1.0s\n",
      "[CV 4/5] END svc__C=0.1, svc__gamma=scale, svc__kernel=rbf;, score=0.796 total time=   1.0s\n",
      "[CV 5/5] END svc__C=0.1, svc__gamma=scale, svc__kernel=rbf;, score=0.796 total time=   0.9s\n",
      "[CV 1/5] END svc__C=0.1, svc__gamma=auto, svc__kernel=linear;, score=0.796 total time=   0.4s\n",
      "[CV 2/5] END svc__C=0.1, svc__gamma=auto, svc__kernel=linear;, score=0.796 total time=   0.4s\n",
      "[CV 3/5] END svc__C=0.1, svc__gamma=auto, svc__kernel=linear;, score=0.796 total time=   0.4s\n",
      "[CV 4/5] END svc__C=0.1, svc__gamma=auto, svc__kernel=linear;, score=0.796 total time=   0.4s\n",
      "[CV 5/5] END svc__C=0.1, svc__gamma=auto, svc__kernel=linear;, score=0.796 total time=   0.4s\n",
      "[CV 1/5] END svc__C=0.1, svc__gamma=auto, svc__kernel=rbf;, score=0.796 total time=   1.0s\n",
      "[CV 2/5] END svc__C=0.1, svc__gamma=auto, svc__kernel=rbf;, score=0.796 total time=   0.9s\n",
      "[CV 3/5] END svc__C=0.1, svc__gamma=auto, svc__kernel=rbf;, score=0.796 total time=   1.0s\n",
      "[CV 4/5] END svc__C=0.1, svc__gamma=auto, svc__kernel=rbf;, score=0.796 total time=   0.9s\n",
      "[CV 5/5] END svc__C=0.1, svc__gamma=auto, svc__kernel=rbf;, score=0.796 total time=   0.9s\n",
      "[CV 1/5] END svc__C=1, svc__gamma=scale, svc__kernel=linear;, score=0.796 total time=   0.4s\n",
      "[CV 2/5] END svc__C=1, svc__gamma=scale, svc__kernel=linear;, score=0.796 total time=   0.4s\n",
      "[CV 3/5] END svc__C=1, svc__gamma=scale, svc__kernel=linear;, score=0.796 total time=   0.4s\n",
      "[CV 4/5] END svc__C=1, svc__gamma=scale, svc__kernel=linear;, score=0.796 total time=   0.4s\n",
      "[CV 5/5] END svc__C=1, svc__gamma=scale, svc__kernel=linear;, score=0.796 total time=   0.4s\n",
      "[CV 1/5] END svc__C=1, svc__gamma=scale, svc__kernel=rbf;, score=0.828 total time=   1.0s\n",
      "[CV 2/5] END svc__C=1, svc__gamma=scale, svc__kernel=rbf;, score=0.832 total time=   1.0s\n",
      "[CV 3/5] END svc__C=1, svc__gamma=scale, svc__kernel=rbf;, score=0.835 total time=   0.9s\n",
      "[CV 4/5] END svc__C=1, svc__gamma=scale, svc__kernel=rbf;, score=0.830 total time=   0.9s\n",
      "[CV 5/5] END svc__C=1, svc__gamma=scale, svc__kernel=rbf;, score=0.839 total time=   1.0s\n",
      "[CV 1/5] END svc__C=1, svc__gamma=auto, svc__kernel=linear;, score=0.796 total time=   0.5s\n",
      "[CV 2/5] END svc__C=1, svc__gamma=auto, svc__kernel=linear;, score=0.796 total time=   0.4s\n",
      "[CV 3/5] END svc__C=1, svc__gamma=auto, svc__kernel=linear;, score=0.796 total time=   0.5s\n",
      "[CV 4/5] END svc__C=1, svc__gamma=auto, svc__kernel=linear;, score=0.796 total time=   0.4s\n",
      "[CV 5/5] END svc__C=1, svc__gamma=auto, svc__kernel=linear;, score=0.796 total time=   0.4s\n",
      "[CV 1/5] END svc__C=1, svc__gamma=auto, svc__kernel=rbf;, score=0.796 total time=   1.0s\n",
      "[CV 2/5] END svc__C=1, svc__gamma=auto, svc__kernel=rbf;, score=0.796 total time=   1.0s\n",
      "[CV 3/5] END svc__C=1, svc__gamma=auto, svc__kernel=rbf;, score=0.796 total time=   0.9s\n",
      "[CV 4/5] END svc__C=1, svc__gamma=auto, svc__kernel=rbf;, score=0.796 total time=   0.9s\n",
      "[CV 5/5] END svc__C=1, svc__gamma=auto, svc__kernel=rbf;, score=0.796 total time=   1.0s\n",
      "[CV 1/5] END svc__C=10, svc__gamma=scale, svc__kernel=linear;, score=0.796 total time=   0.5s\n",
      "[CV 2/5] END svc__C=10, svc__gamma=scale, svc__kernel=linear;, score=0.796 total time=   0.6s\n",
      "[CV 3/5] END svc__C=10, svc__gamma=scale, svc__kernel=linear;, score=0.796 total time=   0.4s\n",
      "[CV 4/5] END svc__C=10, svc__gamma=scale, svc__kernel=linear;, score=0.796 total time=   0.7s\n",
      "[CV 5/5] END svc__C=10, svc__gamma=scale, svc__kernel=linear;, score=0.796 total time=   0.6s\n",
      "[CV 1/5] END svc__C=10, svc__gamma=scale, svc__kernel=rbf;, score=0.851 total time=   1.1s\n",
      "[CV 2/5] END svc__C=10, svc__gamma=scale, svc__kernel=rbf;, score=0.844 total time=   1.0s\n",
      "[CV 3/5] END svc__C=10, svc__gamma=scale, svc__kernel=rbf;, score=0.845 total time=   1.1s\n",
      "[CV 4/5] END svc__C=10, svc__gamma=scale, svc__kernel=rbf;, score=0.851 total time=   1.1s\n",
      "[CV 5/5] END svc__C=10, svc__gamma=scale, svc__kernel=rbf;, score=0.856 total time=   1.1s\n",
      "[CV 1/5] END svc__C=10, svc__gamma=auto, svc__kernel=linear;, score=0.796 total time=   0.5s\n",
      "[CV 2/5] END svc__C=10, svc__gamma=auto, svc__kernel=linear;, score=0.796 total time=   0.5s\n",
      "[CV 3/5] END svc__C=10, svc__gamma=auto, svc__kernel=linear;, score=0.796 total time=   0.6s\n",
      "[CV 4/5] END svc__C=10, svc__gamma=auto, svc__kernel=linear;, score=0.796 total time=   0.5s\n",
      "[CV 5/5] END svc__C=10, svc__gamma=auto, svc__kernel=linear;, score=0.796 total time=   0.4s\n",
      "[CV 1/5] END svc__C=10, svc__gamma=auto, svc__kernel=rbf;, score=0.831 total time=   0.9s\n",
      "[CV 2/5] END svc__C=10, svc__gamma=auto, svc__kernel=rbf;, score=0.835 total time=   1.0s\n",
      "[CV 3/5] END svc__C=10, svc__gamma=auto, svc__kernel=rbf;, score=0.835 total time=   0.9s\n",
      "[CV 4/5] END svc__C=10, svc__gamma=auto, svc__kernel=rbf;, score=0.833 total time=   0.9s\n",
      "[CV 5/5] END svc__C=10, svc__gamma=auto, svc__kernel=rbf;, score=0.845 total time=   1.1s\n",
      "Best Hyperparameters for SVC: {'svc__C': 10, 'svc__gamma': 'scale', 'svc__kernel': 'rbf'}\n",
      "Best Score for SVC: 0.8492857142857144\n",
      "Training Data Score: 0.8641428571428571\n",
      "Testing Data Score: 0.8583333333333333\n"
     ]
    }
   ],
   "source": [
    "\n",
    "\n",
    "# Define the pipeline\n",
    "SVC_model = make_pipeline(preprocess, SVC(random_state=random_state))\n",
    "\n",
    "# Define the parameter grid\n",
    "svc_param_grid = {\n",
    "    'svc__C': [0.01, 0.1, 1, 10],\n",
    "    'svc__kernel': ['linear', 'rbf'],\n",
    "    'svc__gamma': ['scale', 'auto']\n",
    "}\n",
    "\n",
    "# Create the GridSearchCV model\n",
    "svc_grid = GridSearchCV(SVC_model, svc_param_grid, verbose=3, cv=5, scoring='accuracy')\n",
    "\n",
    "# Fit the GridSearchCV object to the training data\n",
    "svc_grid.fit(X_train, y_train)\n",
    "\n",
    "# Get the best hyperparameters and best score for SVC\n",
    "best_params = svc_grid.best_params_\n",
    "best_score = svc_grid.best_score_\n",
    "print(\"Best Hyperparameters for SVC:\", best_params)\n",
    "print(\"Best Score for SVC:\", best_score)\n",
    "\n",
    "print(f\"Training Data Score: {svc_grid.score(X_train, y_train)}\")\n",
    "print(f\"Testing Data Score: {svc_grid.score(X_test, y_test)}\")\n",
    "\n",
    "# Use the best estimator to make predictions on new data (X_test)\n",
    "y_pred = svc_grid.best_estimator_.predict(X_test)\n"
   ]
  },
  {
   "cell_type": "code",
   "execution_count": 29,
   "id": "0e9d43a3",
   "metadata": {},
   "outputs": [
    {
     "name": "stdout",
     "output_type": "stream",
     "text": [
      "Classification Report:\n",
      "              precision    recall  f1-score   support\n",
      "\n",
      "           0       0.86      0.98      0.92      2389\n",
      "           1       0.82      0.39      0.53       611\n",
      "\n",
      "    accuracy                           0.86      3000\n",
      "   macro avg       0.84      0.68      0.72      3000\n",
      "weighted avg       0.85      0.86      0.84      3000\n",
      "\n"
     ]
    }
   ],
   "source": [
    "# Calculate the classification report\n",
    "\n",
    "classification_rep_svc = classification_report(y_test, y_pred)\n",
    "print(\"Classification Report:\")\n",
    "print(classification_rep_svc)"
   ]
  },
  {
   "cell_type": "code",
   "execution_count": 30,
   "id": "71f06988",
   "metadata": {},
   "outputs": [
    {
     "name": "stdout",
     "output_type": "stream",
     "text": [
      "Confusion Matrix:\n",
      "[[2337   52]\n",
      " [ 373  238]]\n"
     ]
    }
   ],
   "source": [
    " # Calculate the confusion matrix\n",
    "confusion_mat_svc = confusion_matrix(y_test, y_pred)\n",
    "print(\"Confusion Matrix:\")\n",
    "print(confusion_mat_svc)"
   ]
  },
  {
   "cell_type": "markdown",
   "id": "518a2d46",
   "metadata": {},
   "source": [
    "# FOR RANDOM_FOREST MODEL.."
   ]
  },
  {
   "cell_type": "code",
   "execution_count": 31,
   "id": "451077a1",
   "metadata": {},
   "outputs": [
    {
     "name": "stdout",
     "output_type": "stream",
     "text": [
      "Fitting 5 folds for each of 27 candidates, totalling 135 fits\n",
      "[CV 1/5] END randomforestclassifier__max_depth=None, randomforestclassifier__min_samples_split=2, randomforestclassifier__n_estimators=100;, score=0.859 total time=   0.5s\n",
      "[CV 2/5] END randomforestclassifier__max_depth=None, randomforestclassifier__min_samples_split=2, randomforestclassifier__n_estimators=100;, score=0.850 total time=   0.5s\n",
      "[CV 3/5] END randomforestclassifier__max_depth=None, randomforestclassifier__min_samples_split=2, randomforestclassifier__n_estimators=100;, score=0.858 total time=   0.5s\n",
      "[CV 4/5] END randomforestclassifier__max_depth=None, randomforestclassifier__min_samples_split=2, randomforestclassifier__n_estimators=100;, score=0.851 total time=   0.5s\n",
      "[CV 5/5] END randomforestclassifier__max_depth=None, randomforestclassifier__min_samples_split=2, randomforestclassifier__n_estimators=100;, score=0.862 total time=   0.6s\n",
      "[CV 1/5] END randomforestclassifier__max_depth=None, randomforestclassifier__min_samples_split=2, randomforestclassifier__n_estimators=200;, score=0.856 total time=   1.2s\n",
      "[CV 2/5] END randomforestclassifier__max_depth=None, randomforestclassifier__min_samples_split=2, randomforestclassifier__n_estimators=200;, score=0.853 total time=   1.2s\n",
      "[CV 3/5] END randomforestclassifier__max_depth=None, randomforestclassifier__min_samples_split=2, randomforestclassifier__n_estimators=200;, score=0.858 total time=   1.1s\n",
      "[CV 4/5] END randomforestclassifier__max_depth=None, randomforestclassifier__min_samples_split=2, randomforestclassifier__n_estimators=200;, score=0.858 total time=   1.4s\n",
      "[CV 5/5] END randomforestclassifier__max_depth=None, randomforestclassifier__min_samples_split=2, randomforestclassifier__n_estimators=200;, score=0.864 total time=   1.1s\n",
      "[CV 1/5] END randomforestclassifier__max_depth=None, randomforestclassifier__min_samples_split=2, randomforestclassifier__n_estimators=300;, score=0.861 total time=   1.6s\n",
      "[CV 2/5] END randomforestclassifier__max_depth=None, randomforestclassifier__min_samples_split=2, randomforestclassifier__n_estimators=300;, score=0.854 total time=   2.0s\n",
      "[CV 3/5] END randomforestclassifier__max_depth=None, randomforestclassifier__min_samples_split=2, randomforestclassifier__n_estimators=300;, score=0.861 total time=   2.0s\n",
      "[CV 4/5] END randomforestclassifier__max_depth=None, randomforestclassifier__min_samples_split=2, randomforestclassifier__n_estimators=300;, score=0.861 total time=   1.8s\n",
      "[CV 5/5] END randomforestclassifier__max_depth=None, randomforestclassifier__min_samples_split=2, randomforestclassifier__n_estimators=300;, score=0.866 total time=   1.7s\n",
      "[CV 1/5] END randomforestclassifier__max_depth=None, randomforestclassifier__min_samples_split=5, randomforestclassifier__n_estimators=100;, score=0.860 total time=   0.5s\n",
      "[CV 2/5] END randomforestclassifier__max_depth=None, randomforestclassifier__min_samples_split=5, randomforestclassifier__n_estimators=100;, score=0.856 total time=   0.5s\n",
      "[CV 3/5] END randomforestclassifier__max_depth=None, randomforestclassifier__min_samples_split=5, randomforestclassifier__n_estimators=100;, score=0.859 total time=   0.6s\n",
      "[CV 4/5] END randomforestclassifier__max_depth=None, randomforestclassifier__min_samples_split=5, randomforestclassifier__n_estimators=100;, score=0.864 total time=   0.5s\n",
      "[CV 5/5] END randomforestclassifier__max_depth=None, randomforestclassifier__min_samples_split=5, randomforestclassifier__n_estimators=100;, score=0.859 total time=   0.5s\n",
      "[CV 1/5] END randomforestclassifier__max_depth=None, randomforestclassifier__min_samples_split=5, randomforestclassifier__n_estimators=200;, score=0.859 total time=   1.0s\n",
      "[CV 2/5] END randomforestclassifier__max_depth=None, randomforestclassifier__min_samples_split=5, randomforestclassifier__n_estimators=200;, score=0.857 total time=   1.0s\n",
      "[CV 3/5] END randomforestclassifier__max_depth=None, randomforestclassifier__min_samples_split=5, randomforestclassifier__n_estimators=200;, score=0.859 total time=   1.0s\n",
      "[CV 4/5] END randomforestclassifier__max_depth=None, randomforestclassifier__min_samples_split=5, randomforestclassifier__n_estimators=200;, score=0.860 total time=   1.0s\n",
      "[CV 5/5] END randomforestclassifier__max_depth=None, randomforestclassifier__min_samples_split=5, randomforestclassifier__n_estimators=200;, score=0.864 total time=   1.1s\n",
      "[CV 1/5] END randomforestclassifier__max_depth=None, randomforestclassifier__min_samples_split=5, randomforestclassifier__n_estimators=300;, score=0.861 total time=   1.6s\n",
      "[CV 2/5] END randomforestclassifier__max_depth=None, randomforestclassifier__min_samples_split=5, randomforestclassifier__n_estimators=300;, score=0.856 total time=   1.6s\n",
      "[CV 3/5] END randomforestclassifier__max_depth=None, randomforestclassifier__min_samples_split=5, randomforestclassifier__n_estimators=300;, score=0.861 total time=   1.5s\n",
      "[CV 4/5] END randomforestclassifier__max_depth=None, randomforestclassifier__min_samples_split=5, randomforestclassifier__n_estimators=300;, score=0.859 total time=   1.5s\n",
      "[CV 5/5] END randomforestclassifier__max_depth=None, randomforestclassifier__min_samples_split=5, randomforestclassifier__n_estimators=300;, score=0.863 total time=   1.5s\n",
      "[CV 1/5] END randomforestclassifier__max_depth=None, randomforestclassifier__min_samples_split=10, randomforestclassifier__n_estimators=100;, score=0.858 total time=   0.4s\n",
      "[CV 2/5] END randomforestclassifier__max_depth=None, randomforestclassifier__min_samples_split=10, randomforestclassifier__n_estimators=100;, score=0.855 total time=   0.4s\n",
      "[CV 3/5] END randomforestclassifier__max_depth=None, randomforestclassifier__min_samples_split=10, randomforestclassifier__n_estimators=100;, score=0.864 total time=   0.4s\n",
      "[CV 4/5] END randomforestclassifier__max_depth=None, randomforestclassifier__min_samples_split=10, randomforestclassifier__n_estimators=100;, score=0.861 total time=   0.4s\n",
      "[CV 5/5] END randomforestclassifier__max_depth=None, randomforestclassifier__min_samples_split=10, randomforestclassifier__n_estimators=100;, score=0.866 total time=   0.5s\n",
      "[CV 1/5] END randomforestclassifier__max_depth=None, randomforestclassifier__min_samples_split=10, randomforestclassifier__n_estimators=200;, score=0.858 total time=   1.1s\n",
      "[CV 2/5] END randomforestclassifier__max_depth=None, randomforestclassifier__min_samples_split=10, randomforestclassifier__n_estimators=200;, score=0.854 total time=   0.9s\n",
      "[CV 3/5] END randomforestclassifier__max_depth=None, randomforestclassifier__min_samples_split=10, randomforestclassifier__n_estimators=200;, score=0.859 total time=   0.9s\n",
      "[CV 4/5] END randomforestclassifier__max_depth=None, randomforestclassifier__min_samples_split=10, randomforestclassifier__n_estimators=200;, score=0.864 total time=   0.9s\n",
      "[CV 5/5] END randomforestclassifier__max_depth=None, randomforestclassifier__min_samples_split=10, randomforestclassifier__n_estimators=200;, score=0.863 total time=   0.9s\n",
      "[CV 1/5] END randomforestclassifier__max_depth=None, randomforestclassifier__min_samples_split=10, randomforestclassifier__n_estimators=300;, score=0.861 total time=   1.4s\n",
      "[CV 2/5] END randomforestclassifier__max_depth=None, randomforestclassifier__min_samples_split=10, randomforestclassifier__n_estimators=300;, score=0.858 total time=   1.4s\n",
      "[CV 3/5] END randomforestclassifier__max_depth=None, randomforestclassifier__min_samples_split=10, randomforestclassifier__n_estimators=300;, score=0.861 total time=   1.4s\n",
      "[CV 4/5] END randomforestclassifier__max_depth=None, randomforestclassifier__min_samples_split=10, randomforestclassifier__n_estimators=300;, score=0.861 total time=   1.5s\n",
      "[CV 5/5] END randomforestclassifier__max_depth=None, randomforestclassifier__min_samples_split=10, randomforestclassifier__n_estimators=300;, score=0.864 total time=   1.3s\n",
      "[CV 1/5] END randomforestclassifier__max_depth=5, randomforestclassifier__min_samples_split=2, randomforestclassifier__n_estimators=100;, score=0.850 total time=   0.2s\n",
      "[CV 2/5] END randomforestclassifier__max_depth=5, randomforestclassifier__min_samples_split=2, randomforestclassifier__n_estimators=100;, score=0.841 total time=   0.2s\n",
      "[CV 3/5] END randomforestclassifier__max_depth=5, randomforestclassifier__min_samples_split=2, randomforestclassifier__n_estimators=100;, score=0.846 total time=   0.2s\n"
     ]
    },
    {
     "name": "stdout",
     "output_type": "stream",
     "text": [
      "[CV 4/5] END randomforestclassifier__max_depth=5, randomforestclassifier__min_samples_split=2, randomforestclassifier__n_estimators=100;, score=0.849 total time=   0.3s\n",
      "[CV 5/5] END randomforestclassifier__max_depth=5, randomforestclassifier__min_samples_split=2, randomforestclassifier__n_estimators=100;, score=0.850 total time=   0.3s\n",
      "[CV 1/5] END randomforestclassifier__max_depth=5, randomforestclassifier__min_samples_split=2, randomforestclassifier__n_estimators=200;, score=0.851 total time=   0.5s\n",
      "[CV 2/5] END randomforestclassifier__max_depth=5, randomforestclassifier__min_samples_split=2, randomforestclassifier__n_estimators=200;, score=0.846 total time=   0.5s\n",
      "[CV 3/5] END randomforestclassifier__max_depth=5, randomforestclassifier__min_samples_split=2, randomforestclassifier__n_estimators=200;, score=0.851 total time=   0.5s\n",
      "[CV 4/5] END randomforestclassifier__max_depth=5, randomforestclassifier__min_samples_split=2, randomforestclassifier__n_estimators=200;, score=0.849 total time=   0.6s\n",
      "[CV 5/5] END randomforestclassifier__max_depth=5, randomforestclassifier__min_samples_split=2, randomforestclassifier__n_estimators=200;, score=0.849 total time=   0.7s\n",
      "[CV 1/5] END randomforestclassifier__max_depth=5, randomforestclassifier__min_samples_split=2, randomforestclassifier__n_estimators=300;, score=0.849 total time=   0.9s\n",
      "[CV 2/5] END randomforestclassifier__max_depth=5, randomforestclassifier__min_samples_split=2, randomforestclassifier__n_estimators=300;, score=0.846 total time=   1.0s\n",
      "[CV 3/5] END randomforestclassifier__max_depth=5, randomforestclassifier__min_samples_split=2, randomforestclassifier__n_estimators=300;, score=0.851 total time=   1.0s\n",
      "[CV 4/5] END randomforestclassifier__max_depth=5, randomforestclassifier__min_samples_split=2, randomforestclassifier__n_estimators=300;, score=0.846 total time=   0.8s\n",
      "[CV 5/5] END randomforestclassifier__max_depth=5, randomforestclassifier__min_samples_split=2, randomforestclassifier__n_estimators=300;, score=0.852 total time=   0.9s\n",
      "[CV 1/5] END randomforestclassifier__max_depth=5, randomforestclassifier__min_samples_split=5, randomforestclassifier__n_estimators=100;, score=0.844 total time=   0.2s\n",
      "[CV 2/5] END randomforestclassifier__max_depth=5, randomforestclassifier__min_samples_split=5, randomforestclassifier__n_estimators=100;, score=0.841 total time=   0.2s\n",
      "[CV 3/5] END randomforestclassifier__max_depth=5, randomforestclassifier__min_samples_split=5, randomforestclassifier__n_estimators=100;, score=0.845 total time=   0.3s\n",
      "[CV 4/5] END randomforestclassifier__max_depth=5, randomforestclassifier__min_samples_split=5, randomforestclassifier__n_estimators=100;, score=0.850 total time=   0.2s\n",
      "[CV 5/5] END randomforestclassifier__max_depth=5, randomforestclassifier__min_samples_split=5, randomforestclassifier__n_estimators=100;, score=0.851 total time=   0.2s\n",
      "[CV 1/5] END randomforestclassifier__max_depth=5, randomforestclassifier__min_samples_split=5, randomforestclassifier__n_estimators=200;, score=0.850 total time=   0.6s\n",
      "[CV 2/5] END randomforestclassifier__max_depth=5, randomforestclassifier__min_samples_split=5, randomforestclassifier__n_estimators=200;, score=0.849 total time=   0.6s\n",
      "[CV 3/5] END randomforestclassifier__max_depth=5, randomforestclassifier__min_samples_split=5, randomforestclassifier__n_estimators=200;, score=0.850 total time=   0.5s\n",
      "[CV 4/5] END randomforestclassifier__max_depth=5, randomforestclassifier__min_samples_split=5, randomforestclassifier__n_estimators=200;, score=0.851 total time=   0.5s\n",
      "[CV 5/5] END randomforestclassifier__max_depth=5, randomforestclassifier__min_samples_split=5, randomforestclassifier__n_estimators=200;, score=0.849 total time=   0.6s\n",
      "[CV 1/5] END randomforestclassifier__max_depth=5, randomforestclassifier__min_samples_split=5, randomforestclassifier__n_estimators=300;, score=0.851 total time=   0.8s\n",
      "[CV 2/5] END randomforestclassifier__max_depth=5, randomforestclassifier__min_samples_split=5, randomforestclassifier__n_estimators=300;, score=0.847 total time=   0.8s\n",
      "[CV 3/5] END randomforestclassifier__max_depth=5, randomforestclassifier__min_samples_split=5, randomforestclassifier__n_estimators=300;, score=0.850 total time=   0.9s\n",
      "[CV 4/5] END randomforestclassifier__max_depth=5, randomforestclassifier__min_samples_split=5, randomforestclassifier__n_estimators=300;, score=0.850 total time=   0.7s\n",
      "[CV 5/5] END randomforestclassifier__max_depth=5, randomforestclassifier__min_samples_split=5, randomforestclassifier__n_estimators=300;, score=0.851 total time=   0.8s\n",
      "[CV 1/5] END randomforestclassifier__max_depth=5, randomforestclassifier__min_samples_split=10, randomforestclassifier__n_estimators=100;, score=0.844 total time=   0.2s\n",
      "[CV 2/5] END randomforestclassifier__max_depth=5, randomforestclassifier__min_samples_split=10, randomforestclassifier__n_estimators=100;, score=0.837 total time=   0.3s\n",
      "[CV 3/5] END randomforestclassifier__max_depth=5, randomforestclassifier__min_samples_split=10, randomforestclassifier__n_estimators=100;, score=0.846 total time=   0.3s\n",
      "[CV 4/5] END randomforestclassifier__max_depth=5, randomforestclassifier__min_samples_split=10, randomforestclassifier__n_estimators=100;, score=0.849 total time=   0.3s\n",
      "[CV 5/5] END randomforestclassifier__max_depth=5, randomforestclassifier__min_samples_split=10, randomforestclassifier__n_estimators=100;, score=0.849 total time=   0.2s\n",
      "[CV 1/5] END randomforestclassifier__max_depth=5, randomforestclassifier__min_samples_split=10, randomforestclassifier__n_estimators=200;, score=0.847 total time=   0.5s\n",
      "[CV 2/5] END randomforestclassifier__max_depth=5, randomforestclassifier__min_samples_split=10, randomforestclassifier__n_estimators=200;, score=0.849 total time=   0.5s\n",
      "[CV 3/5] END randomforestclassifier__max_depth=5, randomforestclassifier__min_samples_split=10, randomforestclassifier__n_estimators=200;, score=0.851 total time=   0.6s\n",
      "[CV 4/5] END randomforestclassifier__max_depth=5, randomforestclassifier__min_samples_split=10, randomforestclassifier__n_estimators=200;, score=0.851 total time=   0.6s\n",
      "[CV 5/5] END randomforestclassifier__max_depth=5, randomforestclassifier__min_samples_split=10, randomforestclassifier__n_estimators=200;, score=0.849 total time=   0.6s\n",
      "[CV 1/5] END randomforestclassifier__max_depth=5, randomforestclassifier__min_samples_split=10, randomforestclassifier__n_estimators=300;, score=0.848 total time=   0.9s\n",
      "[CV 2/5] END randomforestclassifier__max_depth=5, randomforestclassifier__min_samples_split=10, randomforestclassifier__n_estimators=300;, score=0.847 total time=   0.8s\n",
      "[CV 3/5] END randomforestclassifier__max_depth=5, randomforestclassifier__min_samples_split=10, randomforestclassifier__n_estimators=300;, score=0.850 total time=   0.8s\n",
      "[CV 4/5] END randomforestclassifier__max_depth=5, randomforestclassifier__min_samples_split=10, randomforestclassifier__n_estimators=300;, score=0.844 total time=   0.8s\n",
      "[CV 5/5] END randomforestclassifier__max_depth=5, randomforestclassifier__min_samples_split=10, randomforestclassifier__n_estimators=300;, score=0.851 total time=   0.8s\n",
      "[CV 1/5] END randomforestclassifier__max_depth=10, randomforestclassifier__min_samples_split=2, randomforestclassifier__n_estimators=100;, score=0.854 total time=   0.4s\n",
      "[CV 2/5] END randomforestclassifier__max_depth=10, randomforestclassifier__min_samples_split=2, randomforestclassifier__n_estimators=100;, score=0.860 total time=   0.4s\n",
      "[CV 3/5] END randomforestclassifier__max_depth=10, randomforestclassifier__min_samples_split=2, randomforestclassifier__n_estimators=100;, score=0.861 total time=   0.4s\n",
      "[CV 4/5] END randomforestclassifier__max_depth=10, randomforestclassifier__min_samples_split=2, randomforestclassifier__n_estimators=100;, score=0.856 total time=   0.4s\n",
      "[CV 5/5] END randomforestclassifier__max_depth=10, randomforestclassifier__min_samples_split=2, randomforestclassifier__n_estimators=100;, score=0.866 total time=   0.4s\n",
      "[CV 1/5] END randomforestclassifier__max_depth=10, randomforestclassifier__min_samples_split=2, randomforestclassifier__n_estimators=200;, score=0.856 total time=   0.9s\n",
      "[CV 2/5] END randomforestclassifier__max_depth=10, randomforestclassifier__min_samples_split=2, randomforestclassifier__n_estimators=200;, score=0.862 total time=   0.9s\n"
     ]
    },
    {
     "name": "stdout",
     "output_type": "stream",
     "text": [
      "[CV 3/5] END randomforestclassifier__max_depth=10, randomforestclassifier__min_samples_split=2, randomforestclassifier__n_estimators=200;, score=0.860 total time=   0.9s\n",
      "[CV 4/5] END randomforestclassifier__max_depth=10, randomforestclassifier__min_samples_split=2, randomforestclassifier__n_estimators=200;, score=0.857 total time=   1.0s\n",
      "[CV 5/5] END randomforestclassifier__max_depth=10, randomforestclassifier__min_samples_split=2, randomforestclassifier__n_estimators=200;, score=0.867 total time=   0.8s\n",
      "[CV 1/5] END randomforestclassifier__max_depth=10, randomforestclassifier__min_samples_split=2, randomforestclassifier__n_estimators=300;, score=0.855 total time=   1.2s\n",
      "[CV 2/5] END randomforestclassifier__max_depth=10, randomforestclassifier__min_samples_split=2, randomforestclassifier__n_estimators=300;, score=0.865 total time=   1.2s\n",
      "[CV 3/5] END randomforestclassifier__max_depth=10, randomforestclassifier__min_samples_split=2, randomforestclassifier__n_estimators=300;, score=0.863 total time=   1.2s\n",
      "[CV 4/5] END randomforestclassifier__max_depth=10, randomforestclassifier__min_samples_split=2, randomforestclassifier__n_estimators=300;, score=0.858 total time=   1.6s\n",
      "[CV 5/5] END randomforestclassifier__max_depth=10, randomforestclassifier__min_samples_split=2, randomforestclassifier__n_estimators=300;, score=0.865 total time=   1.8s\n",
      "[CV 1/5] END randomforestclassifier__max_depth=10, randomforestclassifier__min_samples_split=5, randomforestclassifier__n_estimators=100;, score=0.857 total time=   0.5s\n",
      "[CV 2/5] END randomforestclassifier__max_depth=10, randomforestclassifier__min_samples_split=5, randomforestclassifier__n_estimators=100;, score=0.861 total time=   0.5s\n",
      "[CV 3/5] END randomforestclassifier__max_depth=10, randomforestclassifier__min_samples_split=5, randomforestclassifier__n_estimators=100;, score=0.860 total time=   0.5s\n",
      "[CV 4/5] END randomforestclassifier__max_depth=10, randomforestclassifier__min_samples_split=5, randomforestclassifier__n_estimators=100;, score=0.860 total time=   0.5s\n",
      "[CV 5/5] END randomforestclassifier__max_depth=10, randomforestclassifier__min_samples_split=5, randomforestclassifier__n_estimators=100;, score=0.866 total time=   0.4s\n",
      "[CV 1/5] END randomforestclassifier__max_depth=10, randomforestclassifier__min_samples_split=5, randomforestclassifier__n_estimators=200;, score=0.859 total time=   0.9s\n",
      "[CV 2/5] END randomforestclassifier__max_depth=10, randomforestclassifier__min_samples_split=5, randomforestclassifier__n_estimators=200;, score=0.863 total time=   1.0s\n",
      "[CV 3/5] END randomforestclassifier__max_depth=10, randomforestclassifier__min_samples_split=5, randomforestclassifier__n_estimators=200;, score=0.861 total time=   0.9s\n",
      "[CV 4/5] END randomforestclassifier__max_depth=10, randomforestclassifier__min_samples_split=5, randomforestclassifier__n_estimators=200;, score=0.864 total time=   0.9s\n",
      "[CV 5/5] END randomforestclassifier__max_depth=10, randomforestclassifier__min_samples_split=5, randomforestclassifier__n_estimators=200;, score=0.866 total time=   0.8s\n",
      "[CV 1/5] END randomforestclassifier__max_depth=10, randomforestclassifier__min_samples_split=5, randomforestclassifier__n_estimators=300;, score=0.857 total time=   1.4s\n",
      "[CV 2/5] END randomforestclassifier__max_depth=10, randomforestclassifier__min_samples_split=5, randomforestclassifier__n_estimators=300;, score=0.863 total time=   1.2s\n",
      "[CV 3/5] END randomforestclassifier__max_depth=10, randomforestclassifier__min_samples_split=5, randomforestclassifier__n_estimators=300;, score=0.861 total time=   1.2s\n",
      "[CV 4/5] END randomforestclassifier__max_depth=10, randomforestclassifier__min_samples_split=5, randomforestclassifier__n_estimators=300;, score=0.862 total time=   1.3s\n",
      "[CV 5/5] END randomforestclassifier__max_depth=10, randomforestclassifier__min_samples_split=5, randomforestclassifier__n_estimators=300;, score=0.869 total time=   1.3s\n",
      "[CV 1/5] END randomforestclassifier__max_depth=10, randomforestclassifier__min_samples_split=10, randomforestclassifier__n_estimators=100;, score=0.858 total time=   0.5s\n",
      "[CV 2/5] END randomforestclassifier__max_depth=10, randomforestclassifier__min_samples_split=10, randomforestclassifier__n_estimators=100;, score=0.862 total time=   0.4s\n",
      "[CV 3/5] END randomforestclassifier__max_depth=10, randomforestclassifier__min_samples_split=10, randomforestclassifier__n_estimators=100;, score=0.860 total time=   0.4s\n",
      "[CV 4/5] END randomforestclassifier__max_depth=10, randomforestclassifier__min_samples_split=10, randomforestclassifier__n_estimators=100;, score=0.858 total time=   0.4s\n",
      "[CV 5/5] END randomforestclassifier__max_depth=10, randomforestclassifier__min_samples_split=10, randomforestclassifier__n_estimators=100;, score=0.866 total time=   0.5s\n",
      "[CV 1/5] END randomforestclassifier__max_depth=10, randomforestclassifier__min_samples_split=10, randomforestclassifier__n_estimators=200;, score=0.856 total time=   0.8s\n",
      "[CV 2/5] END randomforestclassifier__max_depth=10, randomforestclassifier__min_samples_split=10, randomforestclassifier__n_estimators=200;, score=0.858 total time=   1.0s\n",
      "[CV 3/5] END randomforestclassifier__max_depth=10, randomforestclassifier__min_samples_split=10, randomforestclassifier__n_estimators=200;, score=0.861 total time=   0.9s\n",
      "[CV 4/5] END randomforestclassifier__max_depth=10, randomforestclassifier__min_samples_split=10, randomforestclassifier__n_estimators=200;, score=0.859 total time=   0.9s\n",
      "[CV 5/5] END randomforestclassifier__max_depth=10, randomforestclassifier__min_samples_split=10, randomforestclassifier__n_estimators=200;, score=0.865 total time=   0.9s\n",
      "[CV 1/5] END randomforestclassifier__max_depth=10, randomforestclassifier__min_samples_split=10, randomforestclassifier__n_estimators=300;, score=0.856 total time=   1.5s\n",
      "[CV 2/5] END randomforestclassifier__max_depth=10, randomforestclassifier__min_samples_split=10, randomforestclassifier__n_estimators=300;, score=0.860 total time=   1.4s\n",
      "[CV 3/5] END randomforestclassifier__max_depth=10, randomforestclassifier__min_samples_split=10, randomforestclassifier__n_estimators=300;, score=0.862 total time=   1.8s\n",
      "[CV 4/5] END randomforestclassifier__max_depth=10, randomforestclassifier__min_samples_split=10, randomforestclassifier__n_estimators=300;, score=0.858 total time=   1.5s\n",
      "[CV 5/5] END randomforestclassifier__max_depth=10, randomforestclassifier__min_samples_split=10, randomforestclassifier__n_estimators=300;, score=0.864 total time=   1.5s\n",
      "Best Hyperparameters for Random Forest: {'randomforestclassifier__max_depth': 10, 'randomforestclassifier__min_samples_split': 5, 'randomforestclassifier__n_estimators': 200}\n",
      "Best Score for Random Forest: 0.8624285714285713\n",
      "Training Data Score: 0.9002857142857142\n",
      "Testing Data Score: 0.864\n"
     ]
    }
   ],
   "source": [
    "from sklearn.ensemble import RandomForestClassifier\n",
    "\n",
    "# Define the pipeline\n",
    "RF_model = make_pipeline(preprocess, RandomForestClassifier(random_state=random_state))\n",
    "\n",
    "# Define the parameter grid\n",
    "rf_param_grid = {\n",
    "    'randomforestclassifier__n_estimators': [100, 200, 300],\n",
    "    'randomforestclassifier__max_depth': [None, 5, 10],\n",
    "    'randomforestclassifier__min_samples_split': [2, 5, 10]\n",
    "}\n",
    "\n",
    "# Create the GridSearchCV model\n",
    "rf_grid = GridSearchCV(RF_model, rf_param_grid, verbose=3, cv=5, scoring='accuracy')\n",
    "\n",
    "# Fit the GridSearchCV object to the training data\n",
    "rf_grid.fit(X_train, y_train)\n",
    "\n",
    "# Get the best hyperparameters and best score for Random Forest\n",
    "best_params = rf_grid.best_params_\n",
    "best_score = rf_grid.best_score_\n",
    "print(\"Best Hyperparameters for Random Forest:\", best_params)\n",
    "print(\"Best Score for Random Forest:\", best_score)\n",
    "\n",
    "print(f\"Training Data Score: {rf_grid.score(X_train, y_train)}\")\n",
    "print(f\"Testing Data Score: {rf_grid.score(X_test, y_test)}\")\n",
    "\n",
    "# Use the best estimator to make predictions on new data (X_test)\n",
    "y_pred = rf_grid.best_estimator_.predict(X_test)\n"
   ]
  },
  {
   "cell_type": "code",
   "execution_count": 32,
   "id": "921b2f69",
   "metadata": {},
   "outputs": [
    {
     "name": "stdout",
     "output_type": "stream",
     "text": [
      "Classification Report:\n",
      "              precision    recall  f1-score   support\n",
      "\n",
      "           0       0.87      0.97      0.92      2389\n",
      "           1       0.80      0.44      0.57       611\n",
      "\n",
      "    accuracy                           0.86      3000\n",
      "   macro avg       0.84      0.71      0.74      3000\n",
      "weighted avg       0.86      0.86      0.85      3000\n",
      "\n"
     ]
    }
   ],
   "source": [
    "# Calculate the classification report\n",
    "\n",
    "classification_rep_RF = classification_report(y_test, y_pred)\n",
    "print(\"Classification Report:\")\n",
    "print(classification_rep_RF)"
   ]
  },
  {
   "cell_type": "code",
   "execution_count": 33,
   "id": "1906ed4e",
   "metadata": {},
   "outputs": [
    {
     "name": "stdout",
     "output_type": "stream",
     "text": [
      "Confusion Matrix:\n",
      "[[2324   65]\n",
      " [ 343  268]]\n"
     ]
    }
   ],
   "source": [
    " # Calculate the confusion matrix\n",
    "confusion_mat_RF = confusion_matrix(y_test, y_pred)\n",
    "print(\"Confusion Matrix:\")\n",
    "print(confusion_mat_RF)"
   ]
  },
  {
   "cell_type": "markdown",
   "id": "8812d7ce",
   "metadata": {},
   "source": [
    "# FOR DECISON_TREE_MODEL..."
   ]
  },
  {
   "cell_type": "code",
   "execution_count": 34,
   "id": "bd608f57",
   "metadata": {},
   "outputs": [
    {
     "name": "stdout",
     "output_type": "stream",
     "text": [
      "Fitting 5 folds for each of 9 candidates, totalling 45 fits\n",
      "[CV 1/5] END decisiontreeclassifier__max_depth=None, decisiontreeclassifier__min_samples_split=2;, score=0.787 total time=   0.0s\n",
      "[CV 2/5] END decisiontreeclassifier__max_depth=None, decisiontreeclassifier__min_samples_split=2;, score=0.814 total time=   0.0s\n",
      "[CV 3/5] END decisiontreeclassifier__max_depth=None, decisiontreeclassifier__min_samples_split=2;, score=0.784 total time=   0.0s\n",
      "[CV 4/5] END decisiontreeclassifier__max_depth=None, decisiontreeclassifier__min_samples_split=2;, score=0.804 total time=   0.0s\n",
      "[CV 5/5] END decisiontreeclassifier__max_depth=None, decisiontreeclassifier__min_samples_split=2;, score=0.809 total time=   0.0s\n",
      "[CV 1/5] END decisiontreeclassifier__max_depth=None, decisiontreeclassifier__min_samples_split=5;, score=0.790 total time=   0.0s\n",
      "[CV 2/5] END decisiontreeclassifier__max_depth=None, decisiontreeclassifier__min_samples_split=5;, score=0.811 total time=   0.0s\n",
      "[CV 3/5] END decisiontreeclassifier__max_depth=None, decisiontreeclassifier__min_samples_split=5;, score=0.794 total time=   0.0s\n",
      "[CV 4/5] END decisiontreeclassifier__max_depth=None, decisiontreeclassifier__min_samples_split=5;, score=0.812 total time=   0.0s\n",
      "[CV 5/5] END decisiontreeclassifier__max_depth=None, decisiontreeclassifier__min_samples_split=5;, score=0.815 total time=   0.0s\n",
      "[CV 1/5] END decisiontreeclassifier__max_depth=None, decisiontreeclassifier__min_samples_split=10;, score=0.791 total time=   0.0s\n",
      "[CV 2/5] END decisiontreeclassifier__max_depth=None, decisiontreeclassifier__min_samples_split=10;, score=0.814 total time=   0.0s\n",
      "[CV 3/5] END decisiontreeclassifier__max_depth=None, decisiontreeclassifier__min_samples_split=10;, score=0.805 total time=   0.0s\n",
      "[CV 4/5] END decisiontreeclassifier__max_depth=None, decisiontreeclassifier__min_samples_split=10;, score=0.813 total time=   0.0s\n",
      "[CV 5/5] END decisiontreeclassifier__max_depth=None, decisiontreeclassifier__min_samples_split=10;, score=0.832 total time=   0.0s\n",
      "[CV 1/5] END decisiontreeclassifier__max_depth=5, decisiontreeclassifier__min_samples_split=2;, score=0.852 total time=   0.0s\n",
      "[CV 2/5] END decisiontreeclassifier__max_depth=5, decisiontreeclassifier__min_samples_split=2;, score=0.851 total time=   0.0s\n",
      "[CV 3/5] END decisiontreeclassifier__max_depth=5, decisiontreeclassifier__min_samples_split=2;, score=0.858 total time=   0.0s\n",
      "[CV 4/5] END decisiontreeclassifier__max_depth=5, decisiontreeclassifier__min_samples_split=2;, score=0.854 total time=   0.0s\n",
      "[CV 5/5] END decisiontreeclassifier__max_depth=5, decisiontreeclassifier__min_samples_split=2;, score=0.853 total time=   0.0s\n",
      "[CV 1/5] END decisiontreeclassifier__max_depth=5, decisiontreeclassifier__min_samples_split=5;, score=0.852 total time=   0.0s\n",
      "[CV 2/5] END decisiontreeclassifier__max_depth=5, decisiontreeclassifier__min_samples_split=5;, score=0.851 total time=   0.0s\n",
      "[CV 3/5] END decisiontreeclassifier__max_depth=5, decisiontreeclassifier__min_samples_split=5;, score=0.859 total time=   0.0s\n",
      "[CV 4/5] END decisiontreeclassifier__max_depth=5, decisiontreeclassifier__min_samples_split=5;, score=0.854 total time=   0.0s\n",
      "[CV 5/5] END decisiontreeclassifier__max_depth=5, decisiontreeclassifier__min_samples_split=5;, score=0.853 total time=   0.0s\n",
      "[CV 1/5] END decisiontreeclassifier__max_depth=5, decisiontreeclassifier__min_samples_split=10;, score=0.852 total time=   0.0s\n",
      "[CV 2/5] END decisiontreeclassifier__max_depth=5, decisiontreeclassifier__min_samples_split=10;, score=0.851 total time=   0.0s\n",
      "[CV 3/5] END decisiontreeclassifier__max_depth=5, decisiontreeclassifier__min_samples_split=10;, score=0.859 total time=   0.0s\n",
      "[CV 4/5] END decisiontreeclassifier__max_depth=5, decisiontreeclassifier__min_samples_split=10;, score=0.854 total time=   0.0s\n",
      "[CV 5/5] END decisiontreeclassifier__max_depth=5, decisiontreeclassifier__min_samples_split=10;, score=0.853 total time=   0.0s\n",
      "[CV 1/5] END decisiontreeclassifier__max_depth=10, decisiontreeclassifier__min_samples_split=2;, score=0.819 total time=   0.0s\n",
      "[CV 2/5] END decisiontreeclassifier__max_depth=10, decisiontreeclassifier__min_samples_split=2;, score=0.834 total time=   0.0s\n",
      "[CV 3/5] END decisiontreeclassifier__max_depth=10, decisiontreeclassifier__min_samples_split=2;, score=0.834 total time=   0.0s\n",
      "[CV 4/5] END decisiontreeclassifier__max_depth=10, decisiontreeclassifier__min_samples_split=2;, score=0.837 total time=   0.0s\n",
      "[CV 5/5] END decisiontreeclassifier__max_depth=10, decisiontreeclassifier__min_samples_split=2;, score=0.849 total time=   0.0s\n",
      "[CV 1/5] END decisiontreeclassifier__max_depth=10, decisiontreeclassifier__min_samples_split=5;, score=0.819 total time=   0.0s\n",
      "[CV 2/5] END decisiontreeclassifier__max_depth=10, decisiontreeclassifier__min_samples_split=5;, score=0.839 total time=   0.0s\n",
      "[CV 3/5] END decisiontreeclassifier__max_depth=10, decisiontreeclassifier__min_samples_split=5;, score=0.835 total time=   0.0s\n",
      "[CV 4/5] END decisiontreeclassifier__max_depth=10, decisiontreeclassifier__min_samples_split=5;, score=0.837 total time=   0.0s\n",
      "[CV 5/5] END decisiontreeclassifier__max_depth=10, decisiontreeclassifier__min_samples_split=5;, score=0.854 total time=   0.0s\n",
      "[CV 1/5] END decisiontreeclassifier__max_depth=10, decisiontreeclassifier__min_samples_split=10;, score=0.818 total time=   0.0s\n",
      "[CV 2/5] END decisiontreeclassifier__max_depth=10, decisiontreeclassifier__min_samples_split=10;, score=0.841 total time=   0.0s\n",
      "[CV 3/5] END decisiontreeclassifier__max_depth=10, decisiontreeclassifier__min_samples_split=10;, score=0.836 total time=   0.0s\n",
      "[CV 4/5] END decisiontreeclassifier__max_depth=10, decisiontreeclassifier__min_samples_split=10;, score=0.834 total time=   0.0s\n",
      "[CV 5/5] END decisiontreeclassifier__max_depth=10, decisiontreeclassifier__min_samples_split=10;, score=0.861 total time=   0.0s\n",
      "Best Hyperparameters for Decision Tree: {'decisiontreeclassifier__max_depth': 5, 'decisiontreeclassifier__min_samples_split': 5}\n",
      "Best Score for Decision Tree: 0.8537142857142858\n",
      "Training Data Score: 0.8578571428571429\n",
      "Testing Data Score: 0.854\n"
     ]
    }
   ],
   "source": [
    "\n",
    "# Define the pipeline\n",
    "DT_model = make_pipeline(preprocess, DecisionTreeClassifier(random_state=random_state))\n",
    "\n",
    "# Define the parameter grid\n",
    "dt_param_grid = {\n",
    "    'decisiontreeclassifier__max_depth': [None, 5, 10],\n",
    "    'decisiontreeclassifier__min_samples_split': [2, 5, 10]\n",
    "}\n",
    "\n",
    "# Create the GridSearchCV model\n",
    "dt_grid = GridSearchCV(DT_model, dt_param_grid, verbose=3, cv=5, scoring='accuracy')\n",
    "\n",
    "# Fit the GridSearchCV object to the training data\n",
    "dt_grid.fit(X_train, y_train)\n",
    "\n",
    "# Get the best hyperparameters and best score for Decision Tree\n",
    "best_params = dt_grid.best_params_\n",
    "best_score = dt_grid.best_score_\n",
    "print(\"Best Hyperparameters for Decision Tree:\", best_params)\n",
    "print(\"Best Score for Decision Tree:\", best_score)\n",
    "\n",
    "print(f\"Training Data Score: {dt_grid.score(X_train, y_train)}\")\n",
    "print(f\"Testing Data Score: {dt_grid.score(X_test, y_test)}\")\n",
    "\n",
    "# Use the best estimator to make predictions on new data (X_test)\n",
    "y_pred = dt_grid.best_estimator_.predict(X_test)\n"
   ]
  },
  {
   "cell_type": "code",
   "execution_count": 35,
   "id": "487c9119",
   "metadata": {},
   "outputs": [
    {
     "name": "stdout",
     "output_type": "stream",
     "text": [
      "Classification Report:\n",
      "              precision    recall  f1-score   support\n",
      "\n",
      "           0       0.85      0.98      0.91      2389\n",
      "           1       0.84      0.35      0.49       611\n",
      "\n",
      "    accuracy                           0.85      3000\n",
      "   macro avg       0.85      0.67      0.70      3000\n",
      "weighted avg       0.85      0.85      0.83      3000\n",
      "\n"
     ]
    }
   ],
   "source": [
    "# Calculate the classification report\n",
    "\n",
    "classification_rep_DT = classification_report(y_test, y_pred)\n",
    "print(\"Classification Report:\")\n",
    "print(classification_rep_DT)"
   ]
  },
  {
   "cell_type": "code",
   "execution_count": 36,
   "id": "4a796737",
   "metadata": {},
   "outputs": [
    {
     "name": "stdout",
     "output_type": "stream",
     "text": [
      "Confusion Matrix:\n",
      "[[2350   39]\n",
      " [ 399  212]]\n"
     ]
    }
   ],
   "source": [
    " # Calculate the confusion matrix\n",
    "confusion_mat_DT = confusion_matrix(y_test, y_pred)\n",
    "print(\"Confusion Matrix:\")\n",
    "print(confusion_mat_DT)"
   ]
  },
  {
   "cell_type": "markdown",
   "id": "9757b317",
   "metadata": {},
   "source": [
    "# FOR KNN_MODEL.."
   ]
  },
  {
   "cell_type": "code",
   "execution_count": 38,
   "id": "97440f98",
   "metadata": {},
   "outputs": [
    {
     "name": "stdout",
     "output_type": "stream",
     "text": [
      "Fitting 5 folds for each of 6 candidates, totalling 30 fits\n",
      "[CV 1/5] END kneighborsclassifier__n_neighbors=3, kneighborsclassifier__weights=uniform;, score=0.804 total time=   0.1s\n",
      "[CV 2/5] END kneighborsclassifier__n_neighbors=3, kneighborsclassifier__weights=uniform;, score=0.796 total time=   0.1s\n",
      "[CV 3/5] END kneighborsclassifier__n_neighbors=3, kneighborsclassifier__weights=uniform;, score=0.810 total time=   0.0s\n",
      "[CV 4/5] END kneighborsclassifier__n_neighbors=3, kneighborsclassifier__weights=uniform;, score=0.791 total time=   0.0s\n",
      "[CV 5/5] END kneighborsclassifier__n_neighbors=3, kneighborsclassifier__weights=uniform;, score=0.806 total time=   0.0s\n",
      "[CV 1/5] END kneighborsclassifier__n_neighbors=3, kneighborsclassifier__weights=distance;, score=0.806 total time=   0.0s\n",
      "[CV 2/5] END kneighborsclassifier__n_neighbors=3, kneighborsclassifier__weights=distance;, score=0.795 total time=   0.0s\n",
      "[CV 3/5] END kneighborsclassifier__n_neighbors=3, kneighborsclassifier__weights=distance;, score=0.809 total time=   0.0s\n",
      "[CV 4/5] END kneighborsclassifier__n_neighbors=3, kneighborsclassifier__weights=distance;, score=0.793 total time=   0.0s\n",
      "[CV 5/5] END kneighborsclassifier__n_neighbors=3, kneighborsclassifier__weights=distance;, score=0.803 total time=   0.0s\n",
      "[CV 1/5] END kneighborsclassifier__n_neighbors=5, kneighborsclassifier__weights=uniform;, score=0.804 total time=   0.0s\n",
      "[CV 2/5] END kneighborsclassifier__n_neighbors=5, kneighborsclassifier__weights=uniform;, score=0.818 total time=   0.0s\n",
      "[CV 3/5] END kneighborsclassifier__n_neighbors=5, kneighborsclassifier__weights=uniform;, score=0.806 total time=   0.0s\n",
      "[CV 4/5] END kneighborsclassifier__n_neighbors=5, kneighborsclassifier__weights=uniform;, score=0.810 total time=   0.0s\n",
      "[CV 5/5] END kneighborsclassifier__n_neighbors=5, kneighborsclassifier__weights=uniform;, score=0.820 total time=   0.0s\n",
      "[CV 1/5] END kneighborsclassifier__n_neighbors=5, kneighborsclassifier__weights=distance;, score=0.806 total time=   0.0s\n",
      "[CV 2/5] END kneighborsclassifier__n_neighbors=5, kneighborsclassifier__weights=distance;, score=0.819 total time=   0.0s\n",
      "[CV 3/5] END kneighborsclassifier__n_neighbors=5, kneighborsclassifier__weights=distance;, score=0.809 total time=   0.1s\n",
      "[CV 4/5] END kneighborsclassifier__n_neighbors=5, kneighborsclassifier__weights=distance;, score=0.812 total time=   0.0s\n",
      "[CV 5/5] END kneighborsclassifier__n_neighbors=5, kneighborsclassifier__weights=distance;, score=0.816 total time=   0.0s\n",
      "[CV 1/5] END kneighborsclassifier__n_neighbors=7, kneighborsclassifier__weights=uniform;, score=0.811 total time=   0.0s\n",
      "[CV 2/5] END kneighborsclassifier__n_neighbors=7, kneighborsclassifier__weights=uniform;, score=0.821 total time=   0.1s\n",
      "[CV 3/5] END kneighborsclassifier__n_neighbors=7, kneighborsclassifier__weights=uniform;, score=0.813 total time=   0.1s\n",
      "[CV 4/5] END kneighborsclassifier__n_neighbors=7, kneighborsclassifier__weights=uniform;, score=0.820 total time=   0.0s\n",
      "[CV 5/5] END kneighborsclassifier__n_neighbors=7, kneighborsclassifier__weights=uniform;, score=0.815 total time=   0.0s\n",
      "[CV 1/5] END kneighborsclassifier__n_neighbors=7, kneighborsclassifier__weights=distance;, score=0.817 total time=   0.0s\n",
      "[CV 2/5] END kneighborsclassifier__n_neighbors=7, kneighborsclassifier__weights=distance;, score=0.824 total time=   0.0s\n",
      "[CV 3/5] END kneighborsclassifier__n_neighbors=7, kneighborsclassifier__weights=distance;, score=0.815 total time=   0.0s\n",
      "[CV 4/5] END kneighborsclassifier__n_neighbors=7, kneighborsclassifier__weights=distance;, score=0.821 total time=   0.0s\n",
      "[CV 5/5] END kneighborsclassifier__n_neighbors=7, kneighborsclassifier__weights=distance;, score=0.811 total time=   0.0s\n",
      "Best Hyperparameters for KNN: {'kneighborsclassifier__n_neighbors': 7, 'kneighborsclassifier__weights': 'distance'}\n",
      "Best Score for KNN: 0.8177142857142856\n",
      "Training Data Score: 1.0\n",
      "Testing Data Score: 0.812\n"
     ]
    }
   ],
   "source": [
    "from sklearn.neighbors import KNeighborsClassifier\n",
    "\n",
    "# Define the pipeline\n",
    "KNN_model = make_pipeline(preprocess, KNeighborsClassifier())\n",
    "\n",
    "# Define the parameter grid\n",
    "knn_param_grid = {\n",
    "    'kneighborsclassifier__n_neighbors': [3, 5, 7],\n",
    "    'kneighborsclassifier__weights': ['uniform', 'distance']\n",
    "}\n",
    "\n",
    "# Create the GridSearchCV model\n",
    "knn_grid = GridSearchCV(KNN_model, knn_param_grid, verbose=3, cv=5, scoring='accuracy')\n",
    "\n",
    "# Fit the GridSearchCV object to the training data\n",
    "knn_grid.fit(X_train, y_train)\n",
    "\n",
    "# Get the best hyperparameters and best score for KNN\n",
    "best_params = knn_grid.best_params_\n",
    "best_score = knn_grid.best_score_\n",
    "print(\"Best Hyperparameters for KNN:\", best_params)\n",
    "print(\"Best Score for KNN:\", best_score)\n",
    "\n",
    "print(f\"Training Data Score: {knn_grid.score(X_train, y_train)}\")\n",
    "print(f\"Testing Data Score: {knn_grid.score(X_test, y_test)}\")\n",
    "\n",
    "# Use the best estimator to make predictions on new data (X_test)\n",
    "y_pred = knn_grid.best_estimator_.predict(X_test)"
   ]
  },
  {
   "cell_type": "code",
   "execution_count": 39,
   "id": "ee86a957",
   "metadata": {},
   "outputs": [
    {
     "name": "stdout",
     "output_type": "stream",
     "text": [
      "Classification Report:\n",
      "              precision    recall  f1-score   support\n",
      "\n",
      "           0       0.84      0.95      0.89      2389\n",
      "           1       0.58      0.28      0.38       611\n",
      "\n",
      "    accuracy                           0.81      3000\n",
      "   macro avg       0.71      0.61      0.63      3000\n",
      "weighted avg       0.78      0.81      0.79      3000\n",
      "\n"
     ]
    }
   ],
   "source": [
    "# Calculate the classification report\n",
    "\n",
    "classification_rep_KNN = classification_report(y_test, y_pred)\n",
    "print(\"Classification Report:\")\n",
    "print(classification_rep_KNN)"
   ]
  },
  {
   "cell_type": "code",
   "execution_count": 40,
   "id": "87ade812",
   "metadata": {},
   "outputs": [
    {
     "name": "stdout",
     "output_type": "stream",
     "text": [
      "Confusion Matrix:\n",
      "[[2265  124]\n",
      " [ 440  171]]\n"
     ]
    }
   ],
   "source": [
    " # Calculate the confusion matrix\n",
    "confusion_mat_KNN = confusion_matrix(y_test, y_pred)\n",
    "print(\"Confusion Matrix:\")\n",
    "print(confusion_mat_KNN)"
   ]
  },
  {
   "cell_type": "markdown",
   "id": "e9ae9879",
   "metadata": {},
   "source": [
    "# FOR GradientBoostingClassifier MODEL.."
   ]
  },
  {
   "cell_type": "code",
   "execution_count": 41,
   "id": "9a98813d",
   "metadata": {},
   "outputs": [
    {
     "name": "stdout",
     "output_type": "stream",
     "text": [
      "Fitting 5 folds for each of 27 candidates, totalling 135 fits\n",
      "[CV 1/5] END gradientboostingclassifier__learning_rate=0.01, gradientboostingclassifier__max_depth=3, gradientboostingclassifier__n_estimators=100;, score=0.841 total time=   0.7s\n",
      "[CV 2/5] END gradientboostingclassifier__learning_rate=0.01, gradientboostingclassifier__max_depth=3, gradientboostingclassifier__n_estimators=100;, score=0.835 total time=   0.6s\n",
      "[CV 3/5] END gradientboostingclassifier__learning_rate=0.01, gradientboostingclassifier__max_depth=3, gradientboostingclassifier__n_estimators=100;, score=0.846 total time=   0.7s\n",
      "[CV 4/5] END gradientboostingclassifier__learning_rate=0.01, gradientboostingclassifier__max_depth=3, gradientboostingclassifier__n_estimators=100;, score=0.850 total time=   0.6s\n",
      "[CV 5/5] END gradientboostingclassifier__learning_rate=0.01, gradientboostingclassifier__max_depth=3, gradientboostingclassifier__n_estimators=100;, score=0.844 total time=   0.6s\n",
      "[CV 1/5] END gradientboostingclassifier__learning_rate=0.01, gradientboostingclassifier__max_depth=3, gradientboostingclassifier__n_estimators=200;, score=0.851 total time=   1.3s\n",
      "[CV 2/5] END gradientboostingclassifier__learning_rate=0.01, gradientboostingclassifier__max_depth=3, gradientboostingclassifier__n_estimators=200;, score=0.854 total time=   1.3s\n",
      "[CV 3/5] END gradientboostingclassifier__learning_rate=0.01, gradientboostingclassifier__max_depth=3, gradientboostingclassifier__n_estimators=200;, score=0.861 total time=   1.2s\n",
      "[CV 4/5] END gradientboostingclassifier__learning_rate=0.01, gradientboostingclassifier__max_depth=3, gradientboostingclassifier__n_estimators=200;, score=0.857 total time=   1.2s\n",
      "[CV 5/5] END gradientboostingclassifier__learning_rate=0.01, gradientboostingclassifier__max_depth=3, gradientboostingclassifier__n_estimators=200;, score=0.859 total time=   1.2s\n",
      "[CV 1/5] END gradientboostingclassifier__learning_rate=0.01, gradientboostingclassifier__max_depth=3, gradientboostingclassifier__n_estimators=300;, score=0.854 total time=   1.8s\n",
      "[CV 2/5] END gradientboostingclassifier__learning_rate=0.01, gradientboostingclassifier__max_depth=3, gradientboostingclassifier__n_estimators=300;, score=0.854 total time=   1.9s\n",
      "[CV 3/5] END gradientboostingclassifier__learning_rate=0.01, gradientboostingclassifier__max_depth=3, gradientboostingclassifier__n_estimators=300;, score=0.866 total time=   1.9s\n",
      "[CV 4/5] END gradientboostingclassifier__learning_rate=0.01, gradientboostingclassifier__max_depth=3, gradientboostingclassifier__n_estimators=300;, score=0.859 total time=   2.0s\n",
      "[CV 5/5] END gradientboostingclassifier__learning_rate=0.01, gradientboostingclassifier__max_depth=3, gradientboostingclassifier__n_estimators=300;, score=0.867 total time=   1.9s\n",
      "[CV 1/5] END gradientboostingclassifier__learning_rate=0.01, gradientboostingclassifier__max_depth=5, gradientboostingclassifier__n_estimators=100;, score=0.849 total time=   1.0s\n",
      "[CV 2/5] END gradientboostingclassifier__learning_rate=0.01, gradientboostingclassifier__max_depth=5, gradientboostingclassifier__n_estimators=100;, score=0.848 total time=   1.0s\n",
      "[CV 3/5] END gradientboostingclassifier__learning_rate=0.01, gradientboostingclassifier__max_depth=5, gradientboostingclassifier__n_estimators=100;, score=0.861 total time=   1.0s\n",
      "[CV 4/5] END gradientboostingclassifier__learning_rate=0.01, gradientboostingclassifier__max_depth=5, gradientboostingclassifier__n_estimators=100;, score=0.854 total time=   1.1s\n",
      "[CV 5/5] END gradientboostingclassifier__learning_rate=0.01, gradientboostingclassifier__max_depth=5, gradientboostingclassifier__n_estimators=100;, score=0.854 total time=   1.0s\n",
      "[CV 1/5] END gradientboostingclassifier__learning_rate=0.01, gradientboostingclassifier__max_depth=5, gradientboostingclassifier__n_estimators=200;, score=0.854 total time=   2.2s\n",
      "[CV 2/5] END gradientboostingclassifier__learning_rate=0.01, gradientboostingclassifier__max_depth=5, gradientboostingclassifier__n_estimators=200;, score=0.854 total time=   2.1s\n",
      "[CV 3/5] END gradientboostingclassifier__learning_rate=0.01, gradientboostingclassifier__max_depth=5, gradientboostingclassifier__n_estimators=200;, score=0.866 total time=   2.1s\n",
      "[CV 4/5] END gradientboostingclassifier__learning_rate=0.01, gradientboostingclassifier__max_depth=5, gradientboostingclassifier__n_estimators=200;, score=0.859 total time=   2.1s\n",
      "[CV 5/5] END gradientboostingclassifier__learning_rate=0.01, gradientboostingclassifier__max_depth=5, gradientboostingclassifier__n_estimators=200;, score=0.865 total time=   2.0s\n",
      "[CV 1/5] END gradientboostingclassifier__learning_rate=0.01, gradientboostingclassifier__max_depth=5, gradientboostingclassifier__n_estimators=300;, score=0.856 total time=   3.1s\n",
      "[CV 2/5] END gradientboostingclassifier__learning_rate=0.01, gradientboostingclassifier__max_depth=5, gradientboostingclassifier__n_estimators=300;, score=0.863 total time=   3.3s\n",
      "[CV 3/5] END gradientboostingclassifier__learning_rate=0.01, gradientboostingclassifier__max_depth=5, gradientboostingclassifier__n_estimators=300;, score=0.864 total time=   3.7s\n",
      "[CV 4/5] END gradientboostingclassifier__learning_rate=0.01, gradientboostingclassifier__max_depth=5, gradientboostingclassifier__n_estimators=300;, score=0.864 total time=   3.6s\n",
      "[CV 5/5] END gradientboostingclassifier__learning_rate=0.01, gradientboostingclassifier__max_depth=5, gradientboostingclassifier__n_estimators=300;, score=0.869 total time=   3.3s\n",
      "[CV 1/5] END gradientboostingclassifier__learning_rate=0.01, gradientboostingclassifier__max_depth=7, gradientboostingclassifier__n_estimators=100;, score=0.849 total time=   1.5s\n",
      "[CV 2/5] END gradientboostingclassifier__learning_rate=0.01, gradientboostingclassifier__max_depth=7, gradientboostingclassifier__n_estimators=100;, score=0.854 total time=   1.5s\n",
      "[CV 3/5] END gradientboostingclassifier__learning_rate=0.01, gradientboostingclassifier__max_depth=7, gradientboostingclassifier__n_estimators=100;, score=0.855 total time=   1.7s\n",
      "[CV 4/5] END gradientboostingclassifier__learning_rate=0.01, gradientboostingclassifier__max_depth=7, gradientboostingclassifier__n_estimators=100;, score=0.853 total time=   1.7s\n",
      "[CV 5/5] END gradientboostingclassifier__learning_rate=0.01, gradientboostingclassifier__max_depth=7, gradientboostingclassifier__n_estimators=100;, score=0.854 total time=   1.6s\n",
      "[CV 1/5] END gradientboostingclassifier__learning_rate=0.01, gradientboostingclassifier__max_depth=7, gradientboostingclassifier__n_estimators=200;, score=0.849 total time=   3.5s\n",
      "[CV 2/5] END gradientboostingclassifier__learning_rate=0.01, gradientboostingclassifier__max_depth=7, gradientboostingclassifier__n_estimators=200;, score=0.860 total time=   3.3s\n",
      "[CV 3/5] END gradientboostingclassifier__learning_rate=0.01, gradientboostingclassifier__max_depth=7, gradientboostingclassifier__n_estimators=200;, score=0.862 total time=   3.6s\n",
      "[CV 4/5] END gradientboostingclassifier__learning_rate=0.01, gradientboostingclassifier__max_depth=7, gradientboostingclassifier__n_estimators=200;, score=0.856 total time=   3.6s\n",
      "[CV 5/5] END gradientboostingclassifier__learning_rate=0.01, gradientboostingclassifier__max_depth=7, gradientboostingclassifier__n_estimators=200;, score=0.866 total time=   3.3s\n",
      "[CV 1/5] END gradientboostingclassifier__learning_rate=0.01, gradientboostingclassifier__max_depth=7, gradientboostingclassifier__n_estimators=300;, score=0.852 total time=   5.0s\n",
      "[CV 2/5] END gradientboostingclassifier__learning_rate=0.01, gradientboostingclassifier__max_depth=7, gradientboostingclassifier__n_estimators=300;, score=0.856 total time=   4.6s\n",
      "[CV 3/5] END gradientboostingclassifier__learning_rate=0.01, gradientboostingclassifier__max_depth=7, gradientboostingclassifier__n_estimators=300;, score=0.858 total time=   4.8s\n",
      "[CV 4/5] END gradientboostingclassifier__learning_rate=0.01, gradientboostingclassifier__max_depth=7, gradientboostingclassifier__n_estimators=300;, score=0.858 total time=   4.8s\n",
      "[CV 5/5] END gradientboostingclassifier__learning_rate=0.01, gradientboostingclassifier__max_depth=7, gradientboostingclassifier__n_estimators=300;, score=0.865 total time=   4.7s\n",
      "[CV 1/5] END gradientboostingclassifier__learning_rate=0.1, gradientboostingclassifier__max_depth=3, gradientboostingclassifier__n_estimators=100;, score=0.857 total time=   0.7s\n"
     ]
    },
    {
     "name": "stdout",
     "output_type": "stream",
     "text": [
      "[CV 2/5] END gradientboostingclassifier__learning_rate=0.1, gradientboostingclassifier__max_depth=3, gradientboostingclassifier__n_estimators=100;, score=0.856 total time=   0.7s\n",
      "[CV 3/5] END gradientboostingclassifier__learning_rate=0.1, gradientboostingclassifier__max_depth=3, gradientboostingclassifier__n_estimators=100;, score=0.866 total time=   0.7s\n",
      "[CV 4/5] END gradientboostingclassifier__learning_rate=0.1, gradientboostingclassifier__max_depth=3, gradientboostingclassifier__n_estimators=100;, score=0.873 total time=   0.8s\n",
      "[CV 5/5] END gradientboostingclassifier__learning_rate=0.1, gradientboostingclassifier__max_depth=3, gradientboostingclassifier__n_estimators=100;, score=0.869 total time=   0.6s\n",
      "[CV 1/5] END gradientboostingclassifier__learning_rate=0.1, gradientboostingclassifier__max_depth=3, gradientboostingclassifier__n_estimators=200;, score=0.860 total time=   1.5s\n",
      "[CV 2/5] END gradientboostingclassifier__learning_rate=0.1, gradientboostingclassifier__max_depth=3, gradientboostingclassifier__n_estimators=200;, score=0.856 total time=   1.7s\n",
      "[CV 3/5] END gradientboostingclassifier__learning_rate=0.1, gradientboostingclassifier__max_depth=3, gradientboostingclassifier__n_estimators=200;, score=0.860 total time=   1.4s\n",
      "[CV 4/5] END gradientboostingclassifier__learning_rate=0.1, gradientboostingclassifier__max_depth=3, gradientboostingclassifier__n_estimators=200;, score=0.866 total time=   1.5s\n",
      "[CV 5/5] END gradientboostingclassifier__learning_rate=0.1, gradientboostingclassifier__max_depth=3, gradientboostingclassifier__n_estimators=200;, score=0.863 total time=   1.7s\n",
      "[CV 1/5] END gradientboostingclassifier__learning_rate=0.1, gradientboostingclassifier__max_depth=3, gradientboostingclassifier__n_estimators=300;, score=0.861 total time=   2.2s\n",
      "[CV 2/5] END gradientboostingclassifier__learning_rate=0.1, gradientboostingclassifier__max_depth=3, gradientboostingclassifier__n_estimators=300;, score=0.859 total time=   2.5s\n",
      "[CV 3/5] END gradientboostingclassifier__learning_rate=0.1, gradientboostingclassifier__max_depth=3, gradientboostingclassifier__n_estimators=300;, score=0.857 total time=   2.0s\n",
      "[CV 4/5] END gradientboostingclassifier__learning_rate=0.1, gradientboostingclassifier__max_depth=3, gradientboostingclassifier__n_estimators=300;, score=0.866 total time=   2.0s\n",
      "[CV 5/5] END gradientboostingclassifier__learning_rate=0.1, gradientboostingclassifier__max_depth=3, gradientboostingclassifier__n_estimators=300;, score=0.861 total time=   2.3s\n",
      "[CV 1/5] END gradientboostingclassifier__learning_rate=0.1, gradientboostingclassifier__max_depth=5, gradientboostingclassifier__n_estimators=100;, score=0.848 total time=   1.0s\n",
      "[CV 2/5] END gradientboostingclassifier__learning_rate=0.1, gradientboostingclassifier__max_depth=5, gradientboostingclassifier__n_estimators=100;, score=0.862 total time=   1.0s\n",
      "[CV 3/5] END gradientboostingclassifier__learning_rate=0.1, gradientboostingclassifier__max_depth=5, gradientboostingclassifier__n_estimators=100;, score=0.861 total time=   1.1s\n",
      "[CV 4/5] END gradientboostingclassifier__learning_rate=0.1, gradientboostingclassifier__max_depth=5, gradientboostingclassifier__n_estimators=100;, score=0.862 total time=   1.2s\n",
      "[CV 5/5] END gradientboostingclassifier__learning_rate=0.1, gradientboostingclassifier__max_depth=5, gradientboostingclassifier__n_estimators=100;, score=0.864 total time=   1.2s\n",
      "[CV 1/5] END gradientboostingclassifier__learning_rate=0.1, gradientboostingclassifier__max_depth=5, gradientboostingclassifier__n_estimators=200;, score=0.856 total time=   2.2s\n",
      "[CV 2/5] END gradientboostingclassifier__learning_rate=0.1, gradientboostingclassifier__max_depth=5, gradientboostingclassifier__n_estimators=200;, score=0.859 total time=   2.4s\n",
      "[CV 3/5] END gradientboostingclassifier__learning_rate=0.1, gradientboostingclassifier__max_depth=5, gradientboostingclassifier__n_estimators=200;, score=0.861 total time=   2.2s\n",
      "[CV 4/5] END gradientboostingclassifier__learning_rate=0.1, gradientboostingclassifier__max_depth=5, gradientboostingclassifier__n_estimators=200;, score=0.851 total time=   1.9s\n",
      "[CV 5/5] END gradientboostingclassifier__learning_rate=0.1, gradientboostingclassifier__max_depth=5, gradientboostingclassifier__n_estimators=200;, score=0.859 total time=   1.9s\n",
      "[CV 1/5] END gradientboostingclassifier__learning_rate=0.1, gradientboostingclassifier__max_depth=5, gradientboostingclassifier__n_estimators=300;, score=0.846 total time=   3.2s\n",
      "[CV 2/5] END gradientboostingclassifier__learning_rate=0.1, gradientboostingclassifier__max_depth=5, gradientboostingclassifier__n_estimators=300;, score=0.857 total time=   3.3s\n",
      "[CV 3/5] END gradientboostingclassifier__learning_rate=0.1, gradientboostingclassifier__max_depth=5, gradientboostingclassifier__n_estimators=300;, score=0.860 total time=   3.0s\n",
      "[CV 4/5] END gradientboostingclassifier__learning_rate=0.1, gradientboostingclassifier__max_depth=5, gradientboostingclassifier__n_estimators=300;, score=0.846 total time=   3.2s\n",
      "[CV 5/5] END gradientboostingclassifier__learning_rate=0.1, gradientboostingclassifier__max_depth=5, gradientboostingclassifier__n_estimators=300;, score=0.861 total time=   3.0s\n",
      "[CV 1/5] END gradientboostingclassifier__learning_rate=0.1, gradientboostingclassifier__max_depth=7, gradientboostingclassifier__n_estimators=100;, score=0.853 total time=   1.5s\n",
      "[CV 2/5] END gradientboostingclassifier__learning_rate=0.1, gradientboostingclassifier__max_depth=7, gradientboostingclassifier__n_estimators=100;, score=0.851 total time=   1.4s\n",
      "[CV 3/5] END gradientboostingclassifier__learning_rate=0.1, gradientboostingclassifier__max_depth=7, gradientboostingclassifier__n_estimators=100;, score=0.854 total time=   1.7s\n",
      "[CV 4/5] END gradientboostingclassifier__learning_rate=0.1, gradientboostingclassifier__max_depth=7, gradientboostingclassifier__n_estimators=100;, score=0.854 total time=   1.5s\n",
      "[CV 5/5] END gradientboostingclassifier__learning_rate=0.1, gradientboostingclassifier__max_depth=7, gradientboostingclassifier__n_estimators=100;, score=0.860 total time=   1.6s\n",
      "[CV 1/5] END gradientboostingclassifier__learning_rate=0.1, gradientboostingclassifier__max_depth=7, gradientboostingclassifier__n_estimators=200;, score=0.852 total time=   3.2s\n",
      "[CV 2/5] END gradientboostingclassifier__learning_rate=0.1, gradientboostingclassifier__max_depth=7, gradientboostingclassifier__n_estimators=200;, score=0.853 total time=   3.2s\n",
      "[CV 3/5] END gradientboostingclassifier__learning_rate=0.1, gradientboostingclassifier__max_depth=7, gradientboostingclassifier__n_estimators=200;, score=0.853 total time=   3.1s\n",
      "[CV 4/5] END gradientboostingclassifier__learning_rate=0.1, gradientboostingclassifier__max_depth=7, gradientboostingclassifier__n_estimators=200;, score=0.853 total time=   3.1s\n",
      "[CV 5/5] END gradientboostingclassifier__learning_rate=0.1, gradientboostingclassifier__max_depth=7, gradientboostingclassifier__n_estimators=200;, score=0.859 total time=   3.0s\n",
      "[CV 1/5] END gradientboostingclassifier__learning_rate=0.1, gradientboostingclassifier__max_depth=7, gradientboostingclassifier__n_estimators=300;, score=0.849 total time=   4.7s\n",
      "[CV 2/5] END gradientboostingclassifier__learning_rate=0.1, gradientboostingclassifier__max_depth=7, gradientboostingclassifier__n_estimators=300;, score=0.854 total time=   4.9s\n",
      "[CV 3/5] END gradientboostingclassifier__learning_rate=0.1, gradientboostingclassifier__max_depth=7, gradientboostingclassifier__n_estimators=300;, score=0.856 total time=   4.5s\n",
      "[CV 4/5] END gradientboostingclassifier__learning_rate=0.1, gradientboostingclassifier__max_depth=7, gradientboostingclassifier__n_estimators=300;, score=0.850 total time=   4.8s\n",
      "[CV 5/5] END gradientboostingclassifier__learning_rate=0.1, gradientboostingclassifier__max_depth=7, gradientboostingclassifier__n_estimators=300;, score=0.856 total time=   4.6s\n",
      "[CV 1/5] END gradientboostingclassifier__learning_rate=1.0, gradientboostingclassifier__max_depth=3, gradientboostingclassifier__n_estimators=100;, score=0.834 total time=   0.5s\n",
      "[CV 2/5] END gradientboostingclassifier__learning_rate=1.0, gradientboostingclassifier__max_depth=3, gradientboostingclassifier__n_estimators=100;, score=0.826 total time=   0.6s\n"
     ]
    },
    {
     "name": "stdout",
     "output_type": "stream",
     "text": [
      "[CV 3/5] END gradientboostingclassifier__learning_rate=1.0, gradientboostingclassifier__max_depth=3, gradientboostingclassifier__n_estimators=100;, score=0.824 total time=   0.5s\n",
      "[CV 4/5] END gradientboostingclassifier__learning_rate=1.0, gradientboostingclassifier__max_depth=3, gradientboostingclassifier__n_estimators=100;, score=0.849 total time=   0.6s\n",
      "[CV 5/5] END gradientboostingclassifier__learning_rate=1.0, gradientboostingclassifier__max_depth=3, gradientboostingclassifier__n_estimators=100;, score=0.851 total time=   0.6s\n",
      "[CV 1/5] END gradientboostingclassifier__learning_rate=1.0, gradientboostingclassifier__max_depth=3, gradientboostingclassifier__n_estimators=200;, score=0.824 total time=   1.3s\n",
      "[CV 2/5] END gradientboostingclassifier__learning_rate=1.0, gradientboostingclassifier__max_depth=3, gradientboostingclassifier__n_estimators=200;, score=0.812 total time=   1.2s\n",
      "[CV 3/5] END gradientboostingclassifier__learning_rate=1.0, gradientboostingclassifier__max_depth=3, gradientboostingclassifier__n_estimators=200;, score=0.821 total time=   1.5s\n",
      "[CV 4/5] END gradientboostingclassifier__learning_rate=1.0, gradientboostingclassifier__max_depth=3, gradientboostingclassifier__n_estimators=200;, score=0.829 total time=   1.2s\n",
      "[CV 5/5] END gradientboostingclassifier__learning_rate=1.0, gradientboostingclassifier__max_depth=3, gradientboostingclassifier__n_estimators=200;, score=0.837 total time=   1.4s\n",
      "[CV 1/5] END gradientboostingclassifier__learning_rate=1.0, gradientboostingclassifier__max_depth=3, gradientboostingclassifier__n_estimators=300;, score=0.824 total time=   1.9s\n",
      "[CV 2/5] END gradientboostingclassifier__learning_rate=1.0, gradientboostingclassifier__max_depth=3, gradientboostingclassifier__n_estimators=300;, score=0.821 total time=   1.8s\n",
      "[CV 3/5] END gradientboostingclassifier__learning_rate=1.0, gradientboostingclassifier__max_depth=3, gradientboostingclassifier__n_estimators=300;, score=0.820 total time=   2.1s\n",
      "[CV 4/5] END gradientboostingclassifier__learning_rate=1.0, gradientboostingclassifier__max_depth=3, gradientboostingclassifier__n_estimators=300;, score=0.831 total time=   2.0s\n",
      "[CV 5/5] END gradientboostingclassifier__learning_rate=1.0, gradientboostingclassifier__max_depth=3, gradientboostingclassifier__n_estimators=300;, score=0.839 total time=   2.0s\n",
      "[CV 1/5] END gradientboostingclassifier__learning_rate=1.0, gradientboostingclassifier__max_depth=5, gradientboostingclassifier__n_estimators=100;, score=0.831 total time=   1.0s\n",
      "[CV 2/5] END gradientboostingclassifier__learning_rate=1.0, gradientboostingclassifier__max_depth=5, gradientboostingclassifier__n_estimators=100;, score=0.832 total time=   0.9s\n",
      "[CV 3/5] END gradientboostingclassifier__learning_rate=1.0, gradientboostingclassifier__max_depth=5, gradientboostingclassifier__n_estimators=100;, score=0.821 total time=   1.0s\n",
      "[CV 4/5] END gradientboostingclassifier__learning_rate=1.0, gradientboostingclassifier__max_depth=5, gradientboostingclassifier__n_estimators=100;, score=0.827 total time=   1.0s\n",
      "[CV 5/5] END gradientboostingclassifier__learning_rate=1.0, gradientboostingclassifier__max_depth=5, gradientboostingclassifier__n_estimators=100;, score=0.836 total time=   0.9s\n",
      "[CV 1/5] END gradientboostingclassifier__learning_rate=1.0, gradientboostingclassifier__max_depth=5, gradientboostingclassifier__n_estimators=200;, score=0.845 total time=   2.0s\n",
      "[CV 2/5] END gradientboostingclassifier__learning_rate=1.0, gradientboostingclassifier__max_depth=5, gradientboostingclassifier__n_estimators=200;, score=0.836 total time=   1.9s\n",
      "[CV 3/5] END gradientboostingclassifier__learning_rate=1.0, gradientboostingclassifier__max_depth=5, gradientboostingclassifier__n_estimators=200;, score=0.829 total time=   2.0s\n",
      "[CV 4/5] END gradientboostingclassifier__learning_rate=1.0, gradientboostingclassifier__max_depth=5, gradientboostingclassifier__n_estimators=200;, score=0.827 total time=   2.0s\n",
      "[CV 5/5] END gradientboostingclassifier__learning_rate=1.0, gradientboostingclassifier__max_depth=5, gradientboostingclassifier__n_estimators=200;, score=0.845 total time=   2.0s\n",
      "[CV 1/5] END gradientboostingclassifier__learning_rate=1.0, gradientboostingclassifier__max_depth=5, gradientboostingclassifier__n_estimators=300;, score=0.845 total time=   3.1s\n",
      "[CV 2/5] END gradientboostingclassifier__learning_rate=1.0, gradientboostingclassifier__max_depth=5, gradientboostingclassifier__n_estimators=300;, score=0.845 total time=   3.0s\n",
      "[CV 3/5] END gradientboostingclassifier__learning_rate=1.0, gradientboostingclassifier__max_depth=5, gradientboostingclassifier__n_estimators=300;, score=0.829 total time=   3.0s\n",
      "[CV 4/5] END gradientboostingclassifier__learning_rate=1.0, gradientboostingclassifier__max_depth=5, gradientboostingclassifier__n_estimators=300;, score=0.829 total time=   3.5s\n",
      "[CV 5/5] END gradientboostingclassifier__learning_rate=1.0, gradientboostingclassifier__max_depth=5, gradientboostingclassifier__n_estimators=300;, score=0.846 total time=   3.3s\n",
      "[CV 1/5] END gradientboostingclassifier__learning_rate=1.0, gradientboostingclassifier__max_depth=7, gradientboostingclassifier__n_estimators=100;, score=0.838 total time=   1.5s\n",
      "[CV 2/5] END gradientboostingclassifier__learning_rate=1.0, gradientboostingclassifier__max_depth=7, gradientboostingclassifier__n_estimators=100;, score=0.828 total time=   1.5s\n",
      "[CV 3/5] END gradientboostingclassifier__learning_rate=1.0, gradientboostingclassifier__max_depth=7, gradientboostingclassifier__n_estimators=100;, score=0.839 total time=   1.5s\n",
      "[CV 4/5] END gradientboostingclassifier__learning_rate=1.0, gradientboostingclassifier__max_depth=7, gradientboostingclassifier__n_estimators=100;, score=0.829 total time=   1.5s\n",
      "[CV 5/5] END gradientboostingclassifier__learning_rate=1.0, gradientboostingclassifier__max_depth=7, gradientboostingclassifier__n_estimators=100;, score=0.836 total time=   1.5s\n",
      "[CV 1/5] END gradientboostingclassifier__learning_rate=1.0, gradientboostingclassifier__max_depth=7, gradientboostingclassifier__n_estimators=200;, score=0.845 total time=   3.4s\n",
      "[CV 2/5] END gradientboostingclassifier__learning_rate=1.0, gradientboostingclassifier__max_depth=7, gradientboostingclassifier__n_estimators=200;, score=0.840 total time=   3.3s\n",
      "[CV 3/5] END gradientboostingclassifier__learning_rate=1.0, gradientboostingclassifier__max_depth=7, gradientboostingclassifier__n_estimators=200;, score=0.844 total time=   3.1s\n",
      "[CV 4/5] END gradientboostingclassifier__learning_rate=1.0, gradientboostingclassifier__max_depth=7, gradientboostingclassifier__n_estimators=200;, score=0.836 total time=   3.3s\n",
      "[CV 5/5] END gradientboostingclassifier__learning_rate=1.0, gradientboostingclassifier__max_depth=7, gradientboostingclassifier__n_estimators=200;, score=0.839 total time=   3.0s\n",
      "[CV 1/5] END gradientboostingclassifier__learning_rate=1.0, gradientboostingclassifier__max_depth=7, gradientboostingclassifier__n_estimators=300;, score=0.846 total time=   4.6s\n",
      "[CV 2/5] END gradientboostingclassifier__learning_rate=1.0, gradientboostingclassifier__max_depth=7, gradientboostingclassifier__n_estimators=300;, score=0.842 total time=   5.1s\n",
      "[CV 3/5] END gradientboostingclassifier__learning_rate=1.0, gradientboostingclassifier__max_depth=7, gradientboostingclassifier__n_estimators=300;, score=0.839 total time=   5.1s\n",
      "[CV 4/5] END gradientboostingclassifier__learning_rate=1.0, gradientboostingclassifier__max_depth=7, gradientboostingclassifier__n_estimators=300;, score=0.840 total time=   4.9s\n",
      "[CV 5/5] END gradientboostingclassifier__learning_rate=1.0, gradientboostingclassifier__max_depth=7, gradientboostingclassifier__n_estimators=300;, score=0.848 total time=   5.1s\n",
      "Best Hyperparameters for Gradient Boosting: {'gradientboostingclassifier__learning_rate': 0.1, 'gradientboostingclassifier__max_depth': 3, 'gradientboostingclassifier__n_estimators': 100}\n",
      "Best Score for Gradient Boosting: 0.8641428571428571\n",
      "Training Data Score: 0.8761428571428571\n",
      "Testing Data Score: 0.864\n"
     ]
    }
   ],
   "source": [
    "from sklearn.ensemble import GradientBoostingClassifier\n",
    "\n",
    "# Define the pipeline\n",
    "GB_model = make_pipeline(preprocess, GradientBoostingClassifier(random_state=random_state))\n",
    "\n",
    "# Define the parameter grid\n",
    "gb_param_grid = {\n",
    "    'gradientboostingclassifier__n_estimators': [100, 200, 300],\n",
    "    'gradientboostingclassifier__learning_rate': [0.01, 0.1, 1.0],\n",
    "    'gradientboostingclassifier__max_depth': [3, 5, 7]\n",
    "}\n",
    "\n",
    "# Create the GridSearchCV model\n",
    "gb_grid = GridSearchCV(GB_model, gb_param_grid, verbose=3, cv=5, scoring='accuracy')\n",
    "\n",
    "# Fit the GridSearchCV object to the training data\n",
    "gb_grid.fit(X_train, y_train)\n",
    "\n",
    "# Get the best hyperparameters and best score for Gradient Boosting\n",
    "best_params = gb_grid.best_params_\n",
    "best_score = gb_grid.best_score_\n",
    "print(\"Best Hyperparameters for Gradient Boosting:\", best_params)\n",
    "print(\"Best Score for Gradient Boosting:\", best_score)\n",
    "\n",
    "print(f\"Training Data Score: {gb_grid.score(X_train, y_train)}\")\n",
    "print(f\"Testing Data Score: {gb_grid.score(X_test, y_test)}\")\n",
    "\n",
    "# Use the best estimator to make predictions on new data (X_test)\n",
    "y_pred = gb_grid.best_estimator_.predict(X_test)\n"
   ]
  },
  {
   "cell_type": "code",
   "execution_count": 42,
   "id": "969ebc20",
   "metadata": {},
   "outputs": [
    {
     "name": "stdout",
     "output_type": "stream",
     "text": [
      "Classification Report:\n",
      "              precision    recall  f1-score   support\n",
      "\n",
      "           0       0.87      0.97      0.92      2389\n",
      "           1       0.78      0.46      0.58       611\n",
      "\n",
      "    accuracy                           0.86      3000\n",
      "   macro avg       0.83      0.71      0.75      3000\n",
      "weighted avg       0.86      0.86      0.85      3000\n",
      "\n"
     ]
    }
   ],
   "source": [
    "# Calculate the classification report\n",
    "\n",
    "classification_rep_GB = classification_report(y_test, y_pred)\n",
    "print(\"Classification Report:\")\n",
    "print(classification_rep_GB)"
   ]
  },
  {
   "cell_type": "code",
   "execution_count": 43,
   "id": "b1b94ff4",
   "metadata": {},
   "outputs": [
    {
     "name": "stdout",
     "output_type": "stream",
     "text": [
      "Confusion Matrix:\n",
      "[[2312   77]\n",
      " [ 331  280]]\n"
     ]
    }
   ],
   "source": [
    " # Calculate the confusion matrix\n",
    "confusion_mat_GB = confusion_matrix(y_test, y_pred)\n",
    "print(\"Confusion Matrix:\")\n",
    "print(confusion_mat_GB)"
   ]
  },
  {
   "cell_type": "markdown",
   "id": "8e6b2e2d",
   "metadata": {},
   "source": [
    "# FOR XGB MODEL.."
   ]
  },
  {
   "cell_type": "code",
   "execution_count": 45,
   "id": "1c1d9596",
   "metadata": {},
   "outputs": [
    {
     "name": "stdout",
     "output_type": "stream",
     "text": [
      "Fitting 5 folds for each of 27 candidates, totalling 135 fits\n",
      "[CV 1/5] END xgbclassifier__learning_rate=0.01, xgbclassifier__max_depth=3, xgbclassifier__n_estimators=100;, score=0.849 total time=   0.0s\n",
      "[CV 2/5] END xgbclassifier__learning_rate=0.01, xgbclassifier__max_depth=3, xgbclassifier__n_estimators=100;, score=0.853 total time=   0.1s\n",
      "[CV 3/5] END xgbclassifier__learning_rate=0.01, xgbclassifier__max_depth=3, xgbclassifier__n_estimators=100;, score=0.854 total time=   0.0s\n",
      "[CV 4/5] END xgbclassifier__learning_rate=0.01, xgbclassifier__max_depth=3, xgbclassifier__n_estimators=100;, score=0.854 total time=   0.0s\n",
      "[CV 5/5] END xgbclassifier__learning_rate=0.01, xgbclassifier__max_depth=3, xgbclassifier__n_estimators=100;, score=0.858 total time=   0.0s\n",
      "[CV 1/5] END xgbclassifier__learning_rate=0.01, xgbclassifier__max_depth=3, xgbclassifier__n_estimators=200;, score=0.851 total time=   0.2s\n",
      "[CV 2/5] END xgbclassifier__learning_rate=0.01, xgbclassifier__max_depth=3, xgbclassifier__n_estimators=200;, score=0.857 total time=   0.2s\n",
      "[CV 3/5] END xgbclassifier__learning_rate=0.01, xgbclassifier__max_depth=3, xgbclassifier__n_estimators=200;, score=0.854 total time=   0.2s\n",
      "[CV 4/5] END xgbclassifier__learning_rate=0.01, xgbclassifier__max_depth=3, xgbclassifier__n_estimators=200;, score=0.856 total time=   0.2s\n",
      "[CV 5/5] END xgbclassifier__learning_rate=0.01, xgbclassifier__max_depth=3, xgbclassifier__n_estimators=200;, score=0.866 total time=   0.2s\n",
      "[CV 1/5] END xgbclassifier__learning_rate=0.01, xgbclassifier__max_depth=3, xgbclassifier__n_estimators=300;, score=0.858 total time=   0.3s\n",
      "[CV 2/5] END xgbclassifier__learning_rate=0.01, xgbclassifier__max_depth=3, xgbclassifier__n_estimators=300;, score=0.856 total time=   0.3s\n",
      "[CV 3/5] END xgbclassifier__learning_rate=0.01, xgbclassifier__max_depth=3, xgbclassifier__n_estimators=300;, score=0.861 total time=   0.3s\n",
      "[CV 4/5] END xgbclassifier__learning_rate=0.01, xgbclassifier__max_depth=3, xgbclassifier__n_estimators=300;, score=0.857 total time=   0.3s\n",
      "[CV 5/5] END xgbclassifier__learning_rate=0.01, xgbclassifier__max_depth=3, xgbclassifier__n_estimators=300;, score=0.871 total time=   0.3s\n",
      "[CV 1/5] END xgbclassifier__learning_rate=0.01, xgbclassifier__max_depth=5, xgbclassifier__n_estimators=100;, score=0.852 total time=   0.1s\n",
      "[CV 2/5] END xgbclassifier__learning_rate=0.01, xgbclassifier__max_depth=5, xgbclassifier__n_estimators=100;, score=0.855 total time=   0.1s\n",
      "[CV 3/5] END xgbclassifier__learning_rate=0.01, xgbclassifier__max_depth=5, xgbclassifier__n_estimators=100;, score=0.860 total time=   0.1s\n",
      "[CV 4/5] END xgbclassifier__learning_rate=0.01, xgbclassifier__max_depth=5, xgbclassifier__n_estimators=100;, score=0.859 total time=   0.1s\n",
      "[CV 5/5] END xgbclassifier__learning_rate=0.01, xgbclassifier__max_depth=5, xgbclassifier__n_estimators=100;, score=0.866 total time=   0.1s\n",
      "[CV 1/5] END xgbclassifier__learning_rate=0.01, xgbclassifier__max_depth=5, xgbclassifier__n_estimators=200;, score=0.851 total time=   0.3s\n",
      "[CV 2/5] END xgbclassifier__learning_rate=0.01, xgbclassifier__max_depth=5, xgbclassifier__n_estimators=200;, score=0.860 total time=   0.3s\n",
      "[CV 3/5] END xgbclassifier__learning_rate=0.01, xgbclassifier__max_depth=5, xgbclassifier__n_estimators=200;, score=0.866 total time=   0.3s\n",
      "[CV 4/5] END xgbclassifier__learning_rate=0.01, xgbclassifier__max_depth=5, xgbclassifier__n_estimators=200;, score=0.868 total time=   0.4s\n",
      "[CV 5/5] END xgbclassifier__learning_rate=0.01, xgbclassifier__max_depth=5, xgbclassifier__n_estimators=200;, score=0.867 total time=   0.4s\n",
      "[CV 1/5] END xgbclassifier__learning_rate=0.01, xgbclassifier__max_depth=5, xgbclassifier__n_estimators=300;, score=0.854 total time=   0.5s\n",
      "[CV 2/5] END xgbclassifier__learning_rate=0.01, xgbclassifier__max_depth=5, xgbclassifier__n_estimators=300;, score=0.859 total time=   0.5s\n",
      "[CV 3/5] END xgbclassifier__learning_rate=0.01, xgbclassifier__max_depth=5, xgbclassifier__n_estimators=300;, score=0.863 total time=   0.5s\n",
      "[CV 4/5] END xgbclassifier__learning_rate=0.01, xgbclassifier__max_depth=5, xgbclassifier__n_estimators=300;, score=0.867 total time=   0.5s\n",
      "[CV 5/5] END xgbclassifier__learning_rate=0.01, xgbclassifier__max_depth=5, xgbclassifier__n_estimators=300;, score=0.867 total time=   0.5s\n",
      "[CV 1/5] END xgbclassifier__learning_rate=0.01, xgbclassifier__max_depth=7, xgbclassifier__n_estimators=100;, score=0.856 total time=   0.2s\n",
      "[CV 2/5] END xgbclassifier__learning_rate=0.01, xgbclassifier__max_depth=7, xgbclassifier__n_estimators=100;, score=0.861 total time=   0.2s\n",
      "[CV 3/5] END xgbclassifier__learning_rate=0.01, xgbclassifier__max_depth=7, xgbclassifier__n_estimators=100;, score=0.854 total time=   0.2s\n",
      "[CV 4/5] END xgbclassifier__learning_rate=0.01, xgbclassifier__max_depth=7, xgbclassifier__n_estimators=100;, score=0.859 total time=   0.2s\n",
      "[CV 5/5] END xgbclassifier__learning_rate=0.01, xgbclassifier__max_depth=7, xgbclassifier__n_estimators=100;, score=0.870 total time=   0.2s\n",
      "[CV 1/5] END xgbclassifier__learning_rate=0.01, xgbclassifier__max_depth=7, xgbclassifier__n_estimators=200;, score=0.858 total time=   0.5s\n",
      "[CV 2/5] END xgbclassifier__learning_rate=0.01, xgbclassifier__max_depth=7, xgbclassifier__n_estimators=200;, score=0.860 total time=   0.5s\n",
      "[CV 3/5] END xgbclassifier__learning_rate=0.01, xgbclassifier__max_depth=7, xgbclassifier__n_estimators=200;, score=0.859 total time=   0.5s\n",
      "[CV 4/5] END xgbclassifier__learning_rate=0.01, xgbclassifier__max_depth=7, xgbclassifier__n_estimators=200;, score=0.858 total time=   0.5s\n",
      "[CV 5/5] END xgbclassifier__learning_rate=0.01, xgbclassifier__max_depth=7, xgbclassifier__n_estimators=200;, score=0.871 total time=   0.5s\n",
      "[CV 1/5] END xgbclassifier__learning_rate=0.01, xgbclassifier__max_depth=7, xgbclassifier__n_estimators=300;, score=0.860 total time=   0.8s\n",
      "[CV 2/5] END xgbclassifier__learning_rate=0.01, xgbclassifier__max_depth=7, xgbclassifier__n_estimators=300;, score=0.859 total time=   0.8s\n",
      "[CV 3/5] END xgbclassifier__learning_rate=0.01, xgbclassifier__max_depth=7, xgbclassifier__n_estimators=300;, score=0.862 total time=   0.8s\n",
      "[CV 4/5] END xgbclassifier__learning_rate=0.01, xgbclassifier__max_depth=7, xgbclassifier__n_estimators=300;, score=0.863 total time=   0.9s\n",
      "[CV 5/5] END xgbclassifier__learning_rate=0.01, xgbclassifier__max_depth=7, xgbclassifier__n_estimators=300;, score=0.868 total time=   0.8s\n",
      "[CV 1/5] END xgbclassifier__learning_rate=0.1, xgbclassifier__max_depth=3, xgbclassifier__n_estimators=100;, score=0.862 total time=   0.1s\n",
      "[CV 2/5] END xgbclassifier__learning_rate=0.1, xgbclassifier__max_depth=3, xgbclassifier__n_estimators=100;, score=0.856 total time=   0.1s\n",
      "[CV 3/5] END xgbclassifier__learning_rate=0.1, xgbclassifier__max_depth=3, xgbclassifier__n_estimators=100;, score=0.865 total time=   0.1s\n",
      "[CV 4/5] END xgbclassifier__learning_rate=0.1, xgbclassifier__max_depth=3, xgbclassifier__n_estimators=100;, score=0.869 total time=   0.1s\n",
      "[CV 5/5] END xgbclassifier__learning_rate=0.1, xgbclassifier__max_depth=3, xgbclassifier__n_estimators=100;, score=0.875 total time=   0.1s\n",
      "[CV 1/5] END xgbclassifier__learning_rate=0.1, xgbclassifier__max_depth=3, xgbclassifier__n_estimators=200;, score=0.858 total time=   0.2s\n",
      "[CV 2/5] END xgbclassifier__learning_rate=0.1, xgbclassifier__max_depth=3, xgbclassifier__n_estimators=200;, score=0.856 total time=   0.2s\n",
      "[CV 3/5] END xgbclassifier__learning_rate=0.1, xgbclassifier__max_depth=3, xgbclassifier__n_estimators=200;, score=0.861 total time=   0.2s\n",
      "[CV 4/5] END xgbclassifier__learning_rate=0.1, xgbclassifier__max_depth=3, xgbclassifier__n_estimators=200;, score=0.865 total time=   0.2s\n",
      "[CV 5/5] END xgbclassifier__learning_rate=0.1, xgbclassifier__max_depth=3, xgbclassifier__n_estimators=200;, score=0.871 total time=   0.2s\n",
      "[CV 1/5] END xgbclassifier__learning_rate=0.1, xgbclassifier__max_depth=3, xgbclassifier__n_estimators=300;, score=0.861 total time=   0.4s\n",
      "[CV 2/5] END xgbclassifier__learning_rate=0.1, xgbclassifier__max_depth=3, xgbclassifier__n_estimators=300;, score=0.856 total time=   0.4s\n",
      "[CV 3/5] END xgbclassifier__learning_rate=0.1, xgbclassifier__max_depth=3, xgbclassifier__n_estimators=300;, score=0.861 total time=   0.4s\n"
     ]
    },
    {
     "name": "stdout",
     "output_type": "stream",
     "text": [
      "[CV 4/5] END xgbclassifier__learning_rate=0.1, xgbclassifier__max_depth=3, xgbclassifier__n_estimators=300;, score=0.863 total time=   0.3s\n",
      "[CV 5/5] END xgbclassifier__learning_rate=0.1, xgbclassifier__max_depth=3, xgbclassifier__n_estimators=300;, score=0.869 total time=   0.3s\n",
      "[CV 1/5] END xgbclassifier__learning_rate=0.1, xgbclassifier__max_depth=5, xgbclassifier__n_estimators=100;, score=0.854 total time=   0.2s\n",
      "[CV 2/5] END xgbclassifier__learning_rate=0.1, xgbclassifier__max_depth=5, xgbclassifier__n_estimators=100;, score=0.859 total time=   0.1s\n",
      "[CV 3/5] END xgbclassifier__learning_rate=0.1, xgbclassifier__max_depth=5, xgbclassifier__n_estimators=100;, score=0.864 total time=   0.2s\n",
      "[CV 4/5] END xgbclassifier__learning_rate=0.1, xgbclassifier__max_depth=5, xgbclassifier__n_estimators=100;, score=0.866 total time=   0.1s\n",
      "[CV 5/5] END xgbclassifier__learning_rate=0.1, xgbclassifier__max_depth=5, xgbclassifier__n_estimators=100;, score=0.870 total time=   0.1s\n",
      "[CV 1/5] END xgbclassifier__learning_rate=0.1, xgbclassifier__max_depth=5, xgbclassifier__n_estimators=200;, score=0.855 total time=   0.3s\n",
      "[CV 2/5] END xgbclassifier__learning_rate=0.1, xgbclassifier__max_depth=5, xgbclassifier__n_estimators=200;, score=0.863 total time=   0.4s\n",
      "[CV 3/5] END xgbclassifier__learning_rate=0.1, xgbclassifier__max_depth=5, xgbclassifier__n_estimators=200;, score=0.860 total time=   0.3s\n",
      "[CV 4/5] END xgbclassifier__learning_rate=0.1, xgbclassifier__max_depth=5, xgbclassifier__n_estimators=200;, score=0.861 total time=   0.4s\n",
      "[CV 5/5] END xgbclassifier__learning_rate=0.1, xgbclassifier__max_depth=5, xgbclassifier__n_estimators=200;, score=0.864 total time=   0.4s\n",
      "[CV 1/5] END xgbclassifier__learning_rate=0.1, xgbclassifier__max_depth=5, xgbclassifier__n_estimators=300;, score=0.859 total time=   0.6s\n",
      "[CV 2/5] END xgbclassifier__learning_rate=0.1, xgbclassifier__max_depth=5, xgbclassifier__n_estimators=300;, score=0.855 total time=   0.6s\n",
      "[CV 3/5] END xgbclassifier__learning_rate=0.1, xgbclassifier__max_depth=5, xgbclassifier__n_estimators=300;, score=0.860 total time=   0.6s\n",
      "[CV 4/5] END xgbclassifier__learning_rate=0.1, xgbclassifier__max_depth=5, xgbclassifier__n_estimators=300;, score=0.851 total time=   0.6s\n",
      "[CV 5/5] END xgbclassifier__learning_rate=0.1, xgbclassifier__max_depth=5, xgbclassifier__n_estimators=300;, score=0.862 total time=   0.6s\n",
      "[CV 1/5] END xgbclassifier__learning_rate=0.1, xgbclassifier__max_depth=7, xgbclassifier__n_estimators=100;, score=0.854 total time=   0.2s\n",
      "[CV 2/5] END xgbclassifier__learning_rate=0.1, xgbclassifier__max_depth=7, xgbclassifier__n_estimators=100;, score=0.856 total time=   0.2s\n",
      "[CV 3/5] END xgbclassifier__learning_rate=0.1, xgbclassifier__max_depth=7, xgbclassifier__n_estimators=100;, score=0.858 total time=   0.2s\n",
      "[CV 4/5] END xgbclassifier__learning_rate=0.1, xgbclassifier__max_depth=7, xgbclassifier__n_estimators=100;, score=0.858 total time=   0.2s\n",
      "[CV 5/5] END xgbclassifier__learning_rate=0.1, xgbclassifier__max_depth=7, xgbclassifier__n_estimators=100;, score=0.863 total time=   0.2s\n",
      "[CV 1/5] END xgbclassifier__learning_rate=0.1, xgbclassifier__max_depth=7, xgbclassifier__n_estimators=200;, score=0.854 total time=   0.6s\n",
      "[CV 2/5] END xgbclassifier__learning_rate=0.1, xgbclassifier__max_depth=7, xgbclassifier__n_estimators=200;, score=0.849 total time=   0.6s\n",
      "[CV 3/5] END xgbclassifier__learning_rate=0.1, xgbclassifier__max_depth=7, xgbclassifier__n_estimators=200;, score=0.856 total time=   0.6s\n",
      "[CV 4/5] END xgbclassifier__learning_rate=0.1, xgbclassifier__max_depth=7, xgbclassifier__n_estimators=200;, score=0.859 total time=   0.6s\n",
      "[CV 5/5] END xgbclassifier__learning_rate=0.1, xgbclassifier__max_depth=7, xgbclassifier__n_estimators=200;, score=0.859 total time=   0.6s\n",
      "[CV 1/5] END xgbclassifier__learning_rate=0.1, xgbclassifier__max_depth=7, xgbclassifier__n_estimators=300;, score=0.860 total time=   0.9s\n",
      "[CV 2/5] END xgbclassifier__learning_rate=0.1, xgbclassifier__max_depth=7, xgbclassifier__n_estimators=300;, score=0.850 total time=   0.9s\n",
      "[CV 3/5] END xgbclassifier__learning_rate=0.1, xgbclassifier__max_depth=7, xgbclassifier__n_estimators=300;, score=0.857 total time=   1.1s\n",
      "[CV 4/5] END xgbclassifier__learning_rate=0.1, xgbclassifier__max_depth=7, xgbclassifier__n_estimators=300;, score=0.856 total time=   0.9s\n",
      "[CV 5/5] END xgbclassifier__learning_rate=0.1, xgbclassifier__max_depth=7, xgbclassifier__n_estimators=300;, score=0.859 total time=   0.9s\n",
      "[CV 1/5] END xgbclassifier__learning_rate=1.0, xgbclassifier__max_depth=3, xgbclassifier__n_estimators=100;, score=0.843 total time=   0.1s\n",
      "[CV 2/5] END xgbclassifier__learning_rate=1.0, xgbclassifier__max_depth=3, xgbclassifier__n_estimators=100;, score=0.843 total time=   0.1s\n",
      "[CV 3/5] END xgbclassifier__learning_rate=1.0, xgbclassifier__max_depth=3, xgbclassifier__n_estimators=100;, score=0.844 total time=   0.1s\n",
      "[CV 4/5] END xgbclassifier__learning_rate=1.0, xgbclassifier__max_depth=3, xgbclassifier__n_estimators=100;, score=0.835 total time=   0.1s\n",
      "[CV 5/5] END xgbclassifier__learning_rate=1.0, xgbclassifier__max_depth=3, xgbclassifier__n_estimators=100;, score=0.839 total time=   0.1s\n",
      "[CV 1/5] END xgbclassifier__learning_rate=1.0, xgbclassifier__max_depth=3, xgbclassifier__n_estimators=200;, score=0.846 total time=   0.3s\n",
      "[CV 2/5] END xgbclassifier__learning_rate=1.0, xgbclassifier__max_depth=3, xgbclassifier__n_estimators=200;, score=0.831 total time=   0.2s\n",
      "[CV 3/5] END xgbclassifier__learning_rate=1.0, xgbclassifier__max_depth=3, xgbclassifier__n_estimators=200;, score=0.837 total time=   0.2s\n",
      "[CV 4/5] END xgbclassifier__learning_rate=1.0, xgbclassifier__max_depth=3, xgbclassifier__n_estimators=200;, score=0.834 total time=   0.2s\n",
      "[CV 5/5] END xgbclassifier__learning_rate=1.0, xgbclassifier__max_depth=3, xgbclassifier__n_estimators=200;, score=0.826 total time=   0.2s\n",
      "[CV 1/5] END xgbclassifier__learning_rate=1.0, xgbclassifier__max_depth=3, xgbclassifier__n_estimators=300;, score=0.836 total time=   0.4s\n",
      "[CV 2/5] END xgbclassifier__learning_rate=1.0, xgbclassifier__max_depth=3, xgbclassifier__n_estimators=300;, score=0.836 total time=   0.4s\n",
      "[CV 3/5] END xgbclassifier__learning_rate=1.0, xgbclassifier__max_depth=3, xgbclassifier__n_estimators=300;, score=0.839 total time=   0.4s\n",
      "[CV 4/5] END xgbclassifier__learning_rate=1.0, xgbclassifier__max_depth=3, xgbclassifier__n_estimators=300;, score=0.830 total time=   0.4s\n",
      "[CV 5/5] END xgbclassifier__learning_rate=1.0, xgbclassifier__max_depth=3, xgbclassifier__n_estimators=300;, score=0.828 total time=   0.4s\n",
      "[CV 1/5] END xgbclassifier__learning_rate=1.0, xgbclassifier__max_depth=5, xgbclassifier__n_estimators=100;, score=0.834 total time=   0.2s\n",
      "[CV 2/5] END xgbclassifier__learning_rate=1.0, xgbclassifier__max_depth=5, xgbclassifier__n_estimators=100;, score=0.835 total time=   0.2s\n",
      "[CV 3/5] END xgbclassifier__learning_rate=1.0, xgbclassifier__max_depth=5, xgbclassifier__n_estimators=100;, score=0.841 total time=   0.2s\n",
      "[CV 4/5] END xgbclassifier__learning_rate=1.0, xgbclassifier__max_depth=5, xgbclassifier__n_estimators=100;, score=0.827 total time=   0.2s\n",
      "[CV 5/5] END xgbclassifier__learning_rate=1.0, xgbclassifier__max_depth=5, xgbclassifier__n_estimators=100;, score=0.837 total time=   0.2s\n",
      "[CV 1/5] END xgbclassifier__learning_rate=1.0, xgbclassifier__max_depth=5, xgbclassifier__n_estimators=200;, score=0.831 total time=   0.5s\n",
      "[CV 2/5] END xgbclassifier__learning_rate=1.0, xgbclassifier__max_depth=5, xgbclassifier__n_estimators=200;, score=0.836 total time=   0.5s\n",
      "[CV 3/5] END xgbclassifier__learning_rate=1.0, xgbclassifier__max_depth=5, xgbclassifier__n_estimators=200;, score=0.839 total time=   0.4s\n",
      "[CV 4/5] END xgbclassifier__learning_rate=1.0, xgbclassifier__max_depth=5, xgbclassifier__n_estimators=200;, score=0.831 total time=   0.4s\n",
      "[CV 5/5] END xgbclassifier__learning_rate=1.0, xgbclassifier__max_depth=5, xgbclassifier__n_estimators=200;, score=0.839 total time=   0.4s\n",
      "[CV 1/5] END xgbclassifier__learning_rate=1.0, xgbclassifier__max_depth=5, xgbclassifier__n_estimators=300;, score=0.835 total time=   0.6s\n",
      "[CV 2/5] END xgbclassifier__learning_rate=1.0, xgbclassifier__max_depth=5, xgbclassifier__n_estimators=300;, score=0.840 total time=   0.6s\n"
     ]
    },
    {
     "name": "stdout",
     "output_type": "stream",
     "text": [
      "[CV 3/5] END xgbclassifier__learning_rate=1.0, xgbclassifier__max_depth=5, xgbclassifier__n_estimators=300;, score=0.843 total time=   0.6s\n",
      "[CV 4/5] END xgbclassifier__learning_rate=1.0, xgbclassifier__max_depth=5, xgbclassifier__n_estimators=300;, score=0.828 total time=   0.6s\n",
      "[CV 5/5] END xgbclassifier__learning_rate=1.0, xgbclassifier__max_depth=5, xgbclassifier__n_estimators=300;, score=0.839 total time=   0.6s\n",
      "[CV 1/5] END xgbclassifier__learning_rate=1.0, xgbclassifier__max_depth=7, xgbclassifier__n_estimators=100;, score=0.842 total time=   0.3s\n",
      "[CV 2/5] END xgbclassifier__learning_rate=1.0, xgbclassifier__max_depth=7, xgbclassifier__n_estimators=100;, score=0.838 total time=   0.3s\n",
      "[CV 3/5] END xgbclassifier__learning_rate=1.0, xgbclassifier__max_depth=7, xgbclassifier__n_estimators=100;, score=0.841 total time=   0.3s\n",
      "[CV 4/5] END xgbclassifier__learning_rate=1.0, xgbclassifier__max_depth=7, xgbclassifier__n_estimators=100;, score=0.834 total time=   0.2s\n",
      "[CV 5/5] END xgbclassifier__learning_rate=1.0, xgbclassifier__max_depth=7, xgbclassifier__n_estimators=100;, score=0.835 total time=   0.2s\n",
      "[CV 1/5] END xgbclassifier__learning_rate=1.0, xgbclassifier__max_depth=7, xgbclassifier__n_estimators=200;, score=0.841 total time=   0.5s\n",
      "[CV 2/5] END xgbclassifier__learning_rate=1.0, xgbclassifier__max_depth=7, xgbclassifier__n_estimators=200;, score=0.839 total time=   0.5s\n",
      "[CV 3/5] END xgbclassifier__learning_rate=1.0, xgbclassifier__max_depth=7, xgbclassifier__n_estimators=200;, score=0.845 total time=   0.5s\n",
      "[CV 4/5] END xgbclassifier__learning_rate=1.0, xgbclassifier__max_depth=7, xgbclassifier__n_estimators=200;, score=0.833 total time=   0.5s\n",
      "[CV 5/5] END xgbclassifier__learning_rate=1.0, xgbclassifier__max_depth=7, xgbclassifier__n_estimators=200;, score=0.829 total time=   0.5s\n",
      "[CV 1/5] END xgbclassifier__learning_rate=1.0, xgbclassifier__max_depth=7, xgbclassifier__n_estimators=300;, score=0.844 total time=   0.7s\n",
      "[CV 2/5] END xgbclassifier__learning_rate=1.0, xgbclassifier__max_depth=7, xgbclassifier__n_estimators=300;, score=0.841 total time=   0.7s\n",
      "[CV 3/5] END xgbclassifier__learning_rate=1.0, xgbclassifier__max_depth=7, xgbclassifier__n_estimators=300;, score=0.843 total time=   0.7s\n",
      "[CV 4/5] END xgbclassifier__learning_rate=1.0, xgbclassifier__max_depth=7, xgbclassifier__n_estimators=300;, score=0.832 total time=   0.7s\n",
      "[CV 5/5] END xgbclassifier__learning_rate=1.0, xgbclassifier__max_depth=7, xgbclassifier__n_estimators=300;, score=0.834 total time=   0.7s\n",
      "Best Hyperparameters for XGBoost: {'xgbclassifier__learning_rate': 0.1, 'xgbclassifier__max_depth': 3, 'xgbclassifier__n_estimators': 100}\n",
      "Best Score for XGBoost: 0.8652857142857142\n",
      "Training Data Score: 0.8725714285714286\n",
      "Testing Data Score: 0.8646666666666667\n"
     ]
    }
   ],
   "source": [
    "\n",
    "from xgboost import XGBClassifier\n",
    "\n",
    "# Define the pipeline\n",
    "XGB_model = make_pipeline(preprocess, XGBClassifier(random_state=random_state))\n",
    "\n",
    "# Define the parameter grid\n",
    "xgb_param_grid = {\n",
    "    'xgbclassifier__n_estimators': [100, 200, 300],\n",
    "    'xgbclassifier__learning_rate': [0.01, 0.1, 1.0],\n",
    "    'xgbclassifier__max_depth': [3, 5, 7]\n",
    "}\n",
    "\n",
    "# Create the GridSearchCV model\n",
    "xgb_grid = GridSearchCV(XGB_model, xgb_param_grid, verbose=3, cv=5, scoring='accuracy')\n",
    "\n",
    "# Fit the GridSearchCV object to the training data\n",
    "xgb_grid.fit(X_train, y_train)\n",
    "\n",
    "# Get the best hyperparameters and best score for XGBoost\n",
    "best_params = xgb_grid.best_params_\n",
    "best_score = xgb_grid.best_score_\n",
    "print(\"Best Hyperparameters for XGBoost:\", best_params)\n",
    "print(\"Best Score for XGBoost:\", best_score)\n",
    "\n",
    "print(f\"Training Data Score: {xgb_grid.score(X_train, y_train)}\")\n",
    "print(f\"Testing Data Score: {xgb_grid.score(X_test, y_test)}\")\n",
    "\n",
    "# Use the best estimator to make predictions on new data (X_test)\n",
    "y_pred = xgb_grid.best_estimator_.predict(X_test)\n",
    "\n"
   ]
  },
  {
   "cell_type": "code",
   "execution_count": 46,
   "id": "bf39ebca",
   "metadata": {},
   "outputs": [
    {
     "name": "stdout",
     "output_type": "stream",
     "text": [
      "Classification Report:\n",
      "              precision    recall  f1-score   support\n",
      "\n",
      "           0       0.87      0.97      0.92      2389\n",
      "           1       0.80      0.45      0.57       611\n",
      "\n",
      "    accuracy                           0.86      3000\n",
      "   macro avg       0.84      0.71      0.75      3000\n",
      "weighted avg       0.86      0.86      0.85      3000\n",
      "\n"
     ]
    }
   ],
   "source": [
    "# Calculate the classification report\n",
    "\n",
    "classification_rep_XGB = classification_report(y_test, y_pred)\n",
    "print(\"Classification Report:\")\n",
    "print(classification_rep_XGB)"
   ]
  },
  {
   "cell_type": "code",
   "execution_count": 47,
   "id": "3d94d3d7",
   "metadata": {},
   "outputs": [
    {
     "name": "stdout",
     "output_type": "stream",
     "text": [
      "Confusion Matrix:\n",
      "[[2320   69]\n",
      " [ 337  274]]\n"
     ]
    }
   ],
   "source": [
    " # Calculate the confusion matrix\n",
    "confusion_mat_XGB = confusion_matrix(y_test, y_pred)\n",
    "print(\"Confusion Matrix:\")\n",
    "print(confusion_mat_XGB)"
   ]
  },
  {
   "cell_type": "raw",
   "id": "73f07268",
   "metadata": {},
   "source": [
    "#SUMMARY FOR ALL THE MODELS>...\n",
    "\n",
    "\n",
    "\n",
    "\n",
    "#Random Forest (RF): It has the highest precision, recall, and F1-score for class 1, along with a high accuracy.\n",
    "Gradient Boosting (GB) and XGBoost (XGB): Both models have comparable performance with good precision, recall, and F1-scores for class 1.\n",
    "\n",
    "#Support Vector Classifier (SVC): It also performs well with a balanced precision, recall, and F1-score for both classes.\n",
    "\n",
    "#Decision Tree (DT): It has decent performance but relatively lower recall and F1-score for class 1 compared to the top models.\n",
    "\n",
    "#Logistic Regression (LR) and K-Nearest Neighbors (KNN): Both models have relatively lower performance metrics compared to the other models.\n",
    "\n",
    "best model:\n",
    "\n",
    "Random Forest (RF) seems to be the best choice among the given models, as it achieves high precision, recall, and F1-scores for class 1, along with a high accuracy"
   ]
  },
  {
   "cell_type": "code",
   "execution_count": 49,
   "id": "ce562dc8",
   "metadata": {},
   "outputs": [
    {
     "data": {
      "image/png": "[encoded data removed]",
      "text/plain": [
       "<Figure size 576x288 with 1 Axes>"
      ]
     },
     "metadata": {
      "needs_background": "light"
     },
     "output_type": "display_data"
    },
    {
     "data": {
      "image/png": "[encoded data removed]",
      "text/plain": [
       "<Figure size 576x288 with 1 Axes>"
      ]
     },
     "metadata": {
      "needs_background": "light"
     },
     "output_type": "display_data"
    },
    {
     "data": {
      "image/png": "[encoded data removed]",
      "text/plain": [
       "<Figure size 576x288 with 1 Axes>"
      ]
     },
     "metadata": {
      "needs_background": "light"
     },
     "output_type": "display_data"
    }
   ],
   "source": [
    "#visualize best model report \n",
    "\n",
    "\n",
    "import matplotlib.pyplot as plt\n",
    "\n",
    "# Extract the metrics from the classification report\n",
    "precision = [0.87, 0.80]\n",
    "recall = [0.97, 0.44]\n",
    "f1_score = [0.92, 0.57]\n",
    "class_labels = ['Class 0', 'Class 1']\n",
    "\n",
    "# Plot precision\n",
    "plt.figure(figsize=(8, 4))\n",
    "plt.bar(class_labels, precision,color=['red','green'])\n",
    "plt.xlabel('Class')\n",
    "plt.ylabel('Precision')\n",
    "plt.title('Precision per Class')\n",
    "plt.show()\n",
    "\n",
    "# Plot recall\n",
    "plt.figure(figsize=(8, 4))\n",
    "plt.bar(class_labels, recall,color=['yellow','violet'])\n",
    "plt.xlabel('Class')\n",
    "plt.ylabel('Recall')\n",
    "plt.title('Recall per Class')\n",
    "plt.show()\n",
    "\n",
    "# Plot F1-score\n",
    "plt.figure(figsize=(8, 4))\n",
    "plt.bar(class_labels, f1_score,color=['E75480','green'])\n",
    "plt.xlabel('Class')\n",
    "plt.ylabel('F1-score')\n",
    "plt.title('F1-score per Class')\n",
    "plt.show()\n"
   ]
  },
  {
   "cell_type": "code",
   "execution_count": null,
   "id": "255aea4a",
   "metadata": {},
   "outputs": [],
   "source": []
  }
 ],
 "metadata": {
  "kernelspec": {
   "display_name": "Python 3 (ipykernel)",
   "language": "python",
   "name": "python3"
  },
  "language_info": {
   "codemirror_mode": {
    "name": "ipython",
    "version": 3
   },
   "file_extension": ".py",
   "mimetype": "text/x-python",
   "name": "python",
   "nbconvert_exporter": "python",
   "pygments_lexer": "ipython3",
   "version": "3.9.7"
  }
 },
 "nbformat": 4,
 "nbformat_minor": 5
}
