{
 "cells": [
  {
   "cell_type": "code",
   "execution_count": 1,
   "id": "cb524f24",
   "metadata": {},
   "outputs": [],
   "source": [
    "#importing the required libararies\n",
    "\n",
    "import pandas as pd\n",
    "import numpy as np\n",
    "import matplotlib.pyplot as plt\n",
    "%matplotlib inline\n",
    "import seaborn as sns"
   ]
  },
  {
   "cell_type": "code",
   "execution_count": 2,
   "id": "5dae8655",
   "metadata": {},
   "outputs": [],
   "source": [
    "# load dataset\n",
    "df=pd.read_csv('Bank Customer Churn Prediction.csv')"
   ]
  },
  {
   "cell_type": "code",
   "execution_count": 3,
   "id": "4c782d16",
   "metadata": {},
   "outputs": [
    {
     "data": {
      "text/html": [
       "<div>\n",
       "<style scoped>\n",
       "    .dataframe tbody tr th:only-of-type {\n",
       "        vertical-align: middle;\n",
       "    }\n",
       "\n",
       "    .dataframe tbody tr th {\n",
       "        vertical-align: top;\n",
       "    }\n",
       "\n",
       "    .dataframe thead th {\n",
       "        text-align: right;\n",
       "    }\n",
       "</style>\n",
       "<table border=\"1\" class=\"dataframe\">\n",
       "  <thead>\n",
       "    <tr style=\"text-align: right;\">\n",
       "      <th></th>\n",
       "      <th>customer_id</th>\n",
       "      <th>credit_score</th>\n",
       "      <th>country</th>\n",
       "      <th>gender</th>\n",
       "      <th>age</th>\n",
       "      <th>tenure</th>\n",
       "      <th>balance</th>\n",
       "      <th>products_number</th>\n",
       "      <th>credit_card</th>\n",
       "      <th>active_member</th>\n",
       "      <th>estimated_salary</th>\n",
       "      <th>churn</th>\n",
       "    </tr>\n",
       "  </thead>\n",
       "  <tbody>\n",
       "    <tr>\n",
       "      <th>0</th>\n",
       "      <td>15634602</td>\n",
       "      <td>619</td>\n",
       "      <td>France</td>\n",
       "      <td>Female</td>\n",
       "      <td>42</td>\n",
       "      <td>2</td>\n",
       "      <td>0.00</td>\n",
       "      <td>1</td>\n",
       "      <td>1</td>\n",
       "      <td>1</td>\n",
       "      <td>101348.88</td>\n",
       "      <td>1</td>\n",
       "    </tr>\n",
       "    <tr>\n",
       "      <th>1</th>\n",
       "      <td>15647311</td>\n",
       "      <td>608</td>\n",
       "      <td>Spain</td>\n",
       "      <td>Female</td>\n",
       "      <td>41</td>\n",
       "      <td>1</td>\n",
       "      <td>83807.86</td>\n",
       "      <td>1</td>\n",
       "      <td>0</td>\n",
       "      <td>1</td>\n",
       "      <td>112542.58</td>\n",
       "      <td>0</td>\n",
       "    </tr>\n",
       "    <tr>\n",
       "      <th>2</th>\n",
       "      <td>15619304</td>\n",
       "      <td>502</td>\n",
       "      <td>France</td>\n",
       "      <td>Female</td>\n",
       "      <td>42</td>\n",
       "      <td>8</td>\n",
       "      <td>159660.80</td>\n",
       "      <td>3</td>\n",
       "      <td>1</td>\n",
       "      <td>0</td>\n",
       "      <td>113931.57</td>\n",
       "      <td>1</td>\n",
       "    </tr>\n",
       "    <tr>\n",
       "      <th>3</th>\n",
       "      <td>15701354</td>\n",
       "      <td>699</td>\n",
       "      <td>France</td>\n",
       "      <td>Female</td>\n",
       "      <td>39</td>\n",
       "      <td>1</td>\n",
       "      <td>0.00</td>\n",
       "      <td>2</td>\n",
       "      <td>0</td>\n",
       "      <td>0</td>\n",
       "      <td>93826.63</td>\n",
       "      <td>0</td>\n",
       "    </tr>\n",
       "    <tr>\n",
       "      <th>4</th>\n",
       "      <td>15737888</td>\n",
       "      <td>850</td>\n",
       "      <td>Spain</td>\n",
       "      <td>Female</td>\n",
       "      <td>43</td>\n",
       "      <td>2</td>\n",
       "      <td>125510.82</td>\n",
       "      <td>1</td>\n",
       "      <td>1</td>\n",
       "      <td>1</td>\n",
       "      <td>79084.10</td>\n",
       "      <td>0</td>\n",
       "    </tr>\n",
       "  </tbody>\n",
       "</table>\n",
       "</div>"
      ],
      "text/plain": [
       "   customer_id  credit_score country  gender  age  tenure    balance  \\\n",
       "0     15634602           619  France  Female   42       2       0.00   \n",
       "1     15647311           608   Spain  Female   41       1   83807.86   \n",
       "2     15619304           502  France  Female   42       8  159660.80   \n",
       "3     15701354           699  France  Female   39       1       0.00   \n",
       "4     15737888           850   Spain  Female   43       2  125510.82   \n",
       "\n",
       "   products_number  credit_card  active_member  estimated_salary  churn  \n",
       "0                1            1              1         101348.88      1  \n",
       "1                1            0              1         112542.58      0  \n",
       "2                3            1              0         113931.57      1  \n",
       "3                2            0              0          93826.63      0  \n",
       "4                1            1              1          79084.10      0  "
      ]
     },
     "execution_count": 3,
     "metadata": {},
     "output_type": "execute_result"
    }
   ],
   "source": [
    "#print 1 st five rows to understand  what information in th data \n",
    "#useful for quickly inspecting the structure and content of the data.\n",
    "df.head()"
   ]
  },
  {
   "cell_type": "code",
   "execution_count": 4,
   "id": "7020943b",
   "metadata": {},
   "outputs": [
    {
     "data": {
      "text/plain": [
       "(10000, 12)"
      ]
     },
     "execution_count": 4,
     "metadata": {},
     "output_type": "execute_result"
    }
   ],
   "source": [
    "#get the information about no of rows and and columns\n",
    "#10000--rows and 12--columns\n",
    "df.shape"
   ]
  },
  {
   "cell_type": "code",
   "execution_count": 5,
   "id": "d5e58d95",
   "metadata": {},
   "outputs": [
    {
     "name": "stdout",
     "output_type": "stream",
     "text": [
      "<class 'pandas.core.frame.DataFrame'>\n",
      "RangeIndex: 10000 entries, 0 to 9999\n",
      "Data columns (total 12 columns):\n",
      " #   Column            Non-Null Count  Dtype  \n",
      "---  ------            --------------  -----  \n",
      " 0   customer_id       10000 non-null  int64  \n",
      " 1   credit_score      10000 non-null  int64  \n",
      " 2   country           10000 non-null  object \n",
      " 3   gender            10000 non-null  object \n",
      " 4   age               10000 non-null  int64  \n",
      " 5   tenure            10000 non-null  int64  \n",
      " 6   balance           10000 non-null  float64\n",
      " 7   products_number   10000 non-null  int64  \n",
      " 8   credit_card       10000 non-null  int64  \n",
      " 9   active_member     10000 non-null  int64  \n",
      " 10  estimated_salary  10000 non-null  float64\n",
      " 11  churn             10000 non-null  int64  \n",
      "dtypes: float64(2), int64(8), object(2)\n",
      "memory usage: 937.6+ KB\n"
     ]
    }
   ],
   "source": [
    "##its indicates shape of the dataframe and total memory usage and the data types of the columns. \n",
    "#It also indicates whether there are any missing values in the DataFrame.\n",
    "\n",
    "df.info()\n",
    "\n",
    "\n",
    "#[customer_id ,credit_score ,age,tenure,products_number,credit_card,active_member,churn] this are column have integer datatype\n",
    "#[country, gender]-object datatyep means its contain string format\n",
    "#[balance,estimated_salary]--deciaml no contain-datatype is float"
   ]
  },
  {
   "cell_type": "code",
   "execution_count": 6,
   "id": "51ada9c0",
   "metadata": {},
   "outputs": [
    {
     "data": {
      "text/plain": [
       "10000"
      ]
     },
     "execution_count": 6,
     "metadata": {},
     "output_type": "execute_result"
    }
   ],
   "source": [
    "#find list of cutomer unique id that helps to get dataframe have any duplicate values\n",
    "df.customer_id.nunique()"
   ]
  },
  {
   "cell_type": "code",
   "execution_count": 7,
   "id": "fbc6a1eb",
   "metadata": {},
   "outputs": [
    {
     "data": {
      "text/plain": [
       "0"
      ]
     },
     "execution_count": 7,
     "metadata": {},
     "output_type": "execute_result"
    }
   ],
   "source": [
    "df.duplicated().sum()\n",
    "\n",
    "#customer id is unique so thats means in dataframe doesnot have duplicate value"
   ]
  },
  {
   "cell_type": "code",
   "execution_count": 8,
   "id": "c2b62c45",
   "metadata": {},
   "outputs": [],
   "source": [
    "# customer id is unique for every person so this not useful in our analysis\n",
    "df.drop('customer_id',axis=1,inplace=True)"
   ]
  },
  {
   "cell_type": "code",
   "execution_count": 9,
   "id": "cc100850",
   "metadata": {},
   "outputs": [
    {
     "data": {
      "text/html": [
       "<div>\n",
       "<style scoped>\n",
       "    .dataframe tbody tr th:only-of-type {\n",
       "        vertical-align: middle;\n",
       "    }\n",
       "\n",
       "    .dataframe tbody tr th {\n",
       "        vertical-align: top;\n",
       "    }\n",
       "\n",
       "    .dataframe thead th {\n",
       "        text-align: right;\n",
       "    }\n",
       "</style>\n",
       "<table border=\"1\" class=\"dataframe\">\n",
       "  <thead>\n",
       "    <tr style=\"text-align: right;\">\n",
       "      <th></th>\n",
       "      <th>credit_score</th>\n",
       "      <th>country</th>\n",
       "      <th>gender</th>\n",
       "      <th>age</th>\n",
       "      <th>tenure</th>\n",
       "      <th>balance</th>\n",
       "      <th>products_number</th>\n",
       "      <th>credit_card</th>\n",
       "      <th>active_member</th>\n",
       "      <th>estimated_salary</th>\n",
       "      <th>churn</th>\n",
       "    </tr>\n",
       "  </thead>\n",
       "  <tbody>\n",
       "    <tr>\n",
       "      <th>0</th>\n",
       "      <td>619</td>\n",
       "      <td>France</td>\n",
       "      <td>Female</td>\n",
       "      <td>42</td>\n",
       "      <td>2</td>\n",
       "      <td>0.00</td>\n",
       "      <td>1</td>\n",
       "      <td>1</td>\n",
       "      <td>1</td>\n",
       "      <td>101348.88</td>\n",
       "      <td>1</td>\n",
       "    </tr>\n",
       "    <tr>\n",
       "      <th>1</th>\n",
       "      <td>608</td>\n",
       "      <td>Spain</td>\n",
       "      <td>Female</td>\n",
       "      <td>41</td>\n",
       "      <td>1</td>\n",
       "      <td>83807.86</td>\n",
       "      <td>1</td>\n",
       "      <td>0</td>\n",
       "      <td>1</td>\n",
       "      <td>112542.58</td>\n",
       "      <td>0</td>\n",
       "    </tr>\n",
       "    <tr>\n",
       "      <th>2</th>\n",
       "      <td>502</td>\n",
       "      <td>France</td>\n",
       "      <td>Female</td>\n",
       "      <td>42</td>\n",
       "      <td>8</td>\n",
       "      <td>159660.80</td>\n",
       "      <td>3</td>\n",
       "      <td>1</td>\n",
       "      <td>0</td>\n",
       "      <td>113931.57</td>\n",
       "      <td>1</td>\n",
       "    </tr>\n",
       "    <tr>\n",
       "      <th>3</th>\n",
       "      <td>699</td>\n",
       "      <td>France</td>\n",
       "      <td>Female</td>\n",
       "      <td>39</td>\n",
       "      <td>1</td>\n",
       "      <td>0.00</td>\n",
       "      <td>2</td>\n",
       "      <td>0</td>\n",
       "      <td>0</td>\n",
       "      <td>93826.63</td>\n",
       "      <td>0</td>\n",
       "    </tr>\n",
       "    <tr>\n",
       "      <th>4</th>\n",
       "      <td>850</td>\n",
       "      <td>Spain</td>\n",
       "      <td>Female</td>\n",
       "      <td>43</td>\n",
       "      <td>2</td>\n",
       "      <td>125510.82</td>\n",
       "      <td>1</td>\n",
       "      <td>1</td>\n",
       "      <td>1</td>\n",
       "      <td>79084.10</td>\n",
       "      <td>0</td>\n",
       "    </tr>\n",
       "  </tbody>\n",
       "</table>\n",
       "</div>"
      ],
      "text/plain": [
       "   credit_score country  gender  age  tenure    balance  products_number  \\\n",
       "0           619  France  Female   42       2       0.00                1   \n",
       "1           608   Spain  Female   41       1   83807.86                1   \n",
       "2           502  France  Female   42       8  159660.80                3   \n",
       "3           699  France  Female   39       1       0.00                2   \n",
       "4           850   Spain  Female   43       2  125510.82                1   \n",
       "\n",
       "   credit_card  active_member  estimated_salary  churn  \n",
       "0            1              1         101348.88      1  \n",
       "1            0              1         112542.58      0  \n",
       "2            1              0         113931.57      1  \n",
       "3            0              0          93826.63      0  \n",
       "4            1              1          79084.10      0  "
      ]
     },
     "execution_count": 9,
     "metadata": {},
     "output_type": "execute_result"
    }
   ],
   "source": [
    "df.head()"
   ]
  },
  {
   "cell_type": "code",
   "execution_count": 10,
   "id": "06b06878",
   "metadata": {},
   "outputs": [
    {
     "data": {
      "text/html": [
       "<div>\n",
       "<style scoped>\n",
       "    .dataframe tbody tr th:only-of-type {\n",
       "        vertical-align: middle;\n",
       "    }\n",
       "\n",
       "    .dataframe tbody tr th {\n",
       "        vertical-align: top;\n",
       "    }\n",
       "\n",
       "    .dataframe thead th {\n",
       "        text-align: right;\n",
       "    }\n",
       "</style>\n",
       "<table border=\"1\" class=\"dataframe\">\n",
       "  <thead>\n",
       "    <tr style=\"text-align: right;\">\n",
       "      <th></th>\n",
       "      <th>credit_score</th>\n",
       "      <th>age</th>\n",
       "      <th>tenure</th>\n",
       "      <th>balance</th>\n",
       "      <th>products_number</th>\n",
       "      <th>credit_card</th>\n",
       "      <th>active_member</th>\n",
       "      <th>estimated_salary</th>\n",
       "      <th>churn</th>\n",
       "    </tr>\n",
       "  </thead>\n",
       "  <tbody>\n",
       "    <tr>\n",
       "      <th>count</th>\n",
       "      <td>10000.000000</td>\n",
       "      <td>10000.000000</td>\n",
       "      <td>10000.000000</td>\n",
       "      <td>10000.000000</td>\n",
       "      <td>10000.000000</td>\n",
       "      <td>10000.00000</td>\n",
       "      <td>10000.000000</td>\n",
       "      <td>10000.000000</td>\n",
       "      <td>10000.000000</td>\n",
       "    </tr>\n",
       "    <tr>\n",
       "      <th>mean</th>\n",
       "      <td>650.528800</td>\n",
       "      <td>38.921800</td>\n",
       "      <td>5.012800</td>\n",
       "      <td>76485.889288</td>\n",
       "      <td>1.530200</td>\n",
       "      <td>0.70550</td>\n",
       "      <td>0.515100</td>\n",
       "      <td>100090.239881</td>\n",
       "      <td>0.203700</td>\n",
       "    </tr>\n",
       "    <tr>\n",
       "      <th>std</th>\n",
       "      <td>96.653299</td>\n",
       "      <td>10.487806</td>\n",
       "      <td>2.892174</td>\n",
       "      <td>62397.405202</td>\n",
       "      <td>0.581654</td>\n",
       "      <td>0.45584</td>\n",
       "      <td>0.499797</td>\n",
       "      <td>57510.492818</td>\n",
       "      <td>0.402769</td>\n",
       "    </tr>\n",
       "    <tr>\n",
       "      <th>min</th>\n",
       "      <td>350.000000</td>\n",
       "      <td>18.000000</td>\n",
       "      <td>0.000000</td>\n",
       "      <td>0.000000</td>\n",
       "      <td>1.000000</td>\n",
       "      <td>0.00000</td>\n",
       "      <td>0.000000</td>\n",
       "      <td>11.580000</td>\n",
       "      <td>0.000000</td>\n",
       "    </tr>\n",
       "    <tr>\n",
       "      <th>25%</th>\n",
       "      <td>584.000000</td>\n",
       "      <td>32.000000</td>\n",
       "      <td>3.000000</td>\n",
       "      <td>0.000000</td>\n",
       "      <td>1.000000</td>\n",
       "      <td>0.00000</td>\n",
       "      <td>0.000000</td>\n",
       "      <td>51002.110000</td>\n",
       "      <td>0.000000</td>\n",
       "    </tr>\n",
       "    <tr>\n",
       "      <th>50%</th>\n",
       "      <td>652.000000</td>\n",
       "      <td>37.000000</td>\n",
       "      <td>5.000000</td>\n",
       "      <td>97198.540000</td>\n",
       "      <td>1.000000</td>\n",
       "      <td>1.00000</td>\n",
       "      <td>1.000000</td>\n",
       "      <td>100193.915000</td>\n",
       "      <td>0.000000</td>\n",
       "    </tr>\n",
       "    <tr>\n",
       "      <th>75%</th>\n",
       "      <td>718.000000</td>\n",
       "      <td>44.000000</td>\n",
       "      <td>7.000000</td>\n",
       "      <td>127644.240000</td>\n",
       "      <td>2.000000</td>\n",
       "      <td>1.00000</td>\n",
       "      <td>1.000000</td>\n",
       "      <td>149388.247500</td>\n",
       "      <td>0.000000</td>\n",
       "    </tr>\n",
       "    <tr>\n",
       "      <th>max</th>\n",
       "      <td>850.000000</td>\n",
       "      <td>92.000000</td>\n",
       "      <td>10.000000</td>\n",
       "      <td>250898.090000</td>\n",
       "      <td>4.000000</td>\n",
       "      <td>1.00000</td>\n",
       "      <td>1.000000</td>\n",
       "      <td>199992.480000</td>\n",
       "      <td>1.000000</td>\n",
       "    </tr>\n",
       "  </tbody>\n",
       "</table>\n",
       "</div>"
      ],
      "text/plain": [
       "       credit_score           age        tenure        balance  \\\n",
       "count  10000.000000  10000.000000  10000.000000   10000.000000   \n",
       "mean     650.528800     38.921800      5.012800   76485.889288   \n",
       "std       96.653299     10.487806      2.892174   62397.405202   \n",
       "min      350.000000     18.000000      0.000000       0.000000   \n",
       "25%      584.000000     32.000000      3.000000       0.000000   \n",
       "50%      652.000000     37.000000      5.000000   97198.540000   \n",
       "75%      718.000000     44.000000      7.000000  127644.240000   \n",
       "max      850.000000     92.000000     10.000000  250898.090000   \n",
       "\n",
       "       products_number  credit_card  active_member  estimated_salary  \\\n",
       "count     10000.000000  10000.00000   10000.000000      10000.000000   \n",
       "mean          1.530200      0.70550       0.515100     100090.239881   \n",
       "std           0.581654      0.45584       0.499797      57510.492818   \n",
       "min           1.000000      0.00000       0.000000         11.580000   \n",
       "25%           1.000000      0.00000       0.000000      51002.110000   \n",
       "50%           1.000000      1.00000       1.000000     100193.915000   \n",
       "75%           2.000000      1.00000       1.000000     149388.247500   \n",
       "max           4.000000      1.00000       1.000000     199992.480000   \n",
       "\n",
       "              churn  \n",
       "count  10000.000000  \n",
       "mean       0.203700  \n",
       "std        0.402769  \n",
       "min        0.000000  \n",
       "25%        0.000000  \n",
       "50%        0.000000  \n",
       "75%        0.000000  \n",
       "max        1.000000  "
      ]
     },
     "execution_count": 10,
     "metadata": {},
     "output_type": "execute_result"
    }
   ],
   "source": [
    "# summary of statitics\n",
    "\n",
    "df.describe()"
   ]
  },
  {
   "cell_type": "raw",
   "id": "4178891e",
   "metadata": {},
   "source": [
    "#tenure: typically refers to the length of time a customer has been associated with the bank \n",
    "#or the duration of their customer relationship\n",
    "\n",
    "##\"products_number\" typically represents the number of financial products or services that a customer has with the bank.\n",
    "#it include Savings accounts\n",
    "'''Checking accounts\n",
    "Credit cards\n",
    "Loans (e.g., personal loans, mortgage loans, auto loans)\n",
    "Investment accounts (e.g., brokerage accounts, mutual funds)\n",
    "Insurance policies'''\n",
    "\n",
    "#credit_score:\n",
    "''' higher credit score generally suggests a lower credit risk, \n",
    "indicating that the customer is more likely to repay their debts on time and manage credit obligations effectively.'''\n",
    "\n",
    "#active_member:\n",
    "'''1 indicates that the customer is an active member.\n",
    "0 indicates that the customer is not an active member.'''\n",
    "\n",
    "#credit_card:\n",
    "'''1 indicates that the customer has a credit card.\n",
    "0 indicates that the customer does not have a credit card.'''\n"
   ]
  },
  {
   "cell_type": "markdown",
   "id": "579d5317",
   "metadata": {},
   "source": [
    "# FOR CREDIT CARD_COLUMN"
   ]
  },
  {
   "cell_type": "code",
   "execution_count": 11,
   "id": "669c5ef3",
   "metadata": {},
   "outputs": [
    {
     "data": {
      "text/plain": [
       "1    7055\n",
       "0    2945\n",
       "Name: credit_card, dtype: int64"
      ]
     },
     "execution_count": 11,
     "metadata": {},
     "output_type": "execute_result"
    }
   ],
   "source": [
    "#credit_card\n",
    "credit_card_counts=df['credit_card'].value_counts()\n",
    "credit_card_counts\n",
    "#7055-customers has credit card\n",
    "#2945 -doesn't have credit card"
   ]
  },
  {
   "cell_type": "code",
   "execution_count": 12,
   "id": "411e411e",
   "metadata": {},
   "outputs": [
    {
     "data": {
      "image/png": "[encoded data removed]",
      "text/plain": [
       "<Figure size 720x576 with 1 Axes>"
      ]
     },
     "metadata": {},
     "output_type": "display_data"
    }
   ],
   "source": [
    "plt.figure(figsize=(10, 8))\n",
    "\n",
    "# Define custom labels\n",
    "\n",
    "labels = ['With Credit Card', 'Without Credit Card']\n",
    "colors = ['#FF7F7F', '#7FBEFF']\n",
    "\n",
    "# Plotting the pie chart with custom labels\n",
    "plt.pie(credit_card_counts.values, labels=labels, autopct='%1.1f%%',colors=colors,textprops={'fontsize': 14})\n",
    "\n",
    "# Customize the title\n",
    "title_params = {\n",
    "    'fontsize': 14,\n",
    "    'fontweight': plt.rcParams['axes.titleweight']\n",
    "}\n",
    "plt.title('Distribution of Customers with and without Credit Cards', **title_params)\n",
    "\n",
    "# Displaying the plot\n",
    "plt.show()\n"
   ]
  },
  {
   "cell_type": "code",
   "execution_count": 13,
   "id": "04749205",
   "metadata": {},
   "outputs": [],
   "source": [
    "#segement_analysis: \"credit_card\" column in conjunction with other customer attributes \n",
    "age_credit_card_segmentation=df.groupby('age')['credit_card'].mean()\n",
    "gender_credit_card_segmentation=df.groupby('gender')['credit_card'].mean()\n",
    "tenure_credit_card_segmentation=df.groupby('tenure')['credit_card'].mean()\n",
    "products_number_credit_card_segmentation=df.groupby('products_number')['credit_card'].mean()"
   ]
  },
  {
   "cell_type": "code",
   "execution_count": 14,
   "id": "c12ef3bd",
   "metadata": {},
   "outputs": [
    {
     "data": {
      "text/plain": [
       "age\n",
       "18    0.636364\n",
       "19    0.814815\n",
       "20    0.650000\n",
       "21    0.716981\n",
       "22    0.690476\n",
       "        ...   \n",
       "83    0.000000\n",
       "84    0.500000\n",
       "85    1.000000\n",
       "88    1.000000\n",
       "92    0.500000\n",
       "Name: credit_card, Length: 70, dtype: float64"
      ]
     },
     "execution_count": 14,
     "metadata": {},
     "output_type": "execute_result"
    }
   ],
   "source": [
    "age_credit_card_segmentation #average credit card usage across different age segments."
   ]
  },
  {
   "cell_type": "code",
   "execution_count": 15,
   "id": "9002c9a2",
   "metadata": {},
   "outputs": [
    {
     "data": {
      "image/png": "[encoded data removed]",
      "text/plain": [
       "<Figure size 432x288 with 1 Axes>"
      ]
     },
     "metadata": {
      "needs_background": "light"
     },
     "output_type": "display_data"
    }
   ],
   "source": [
    "\n",
    "\n",
    "# Assuming age_credit_card_segmentation is a pandas Series object\n",
    "age = age_credit_card_segmentation.index\n",
    "credit_card_mean = age_credit_card_segmentation.values\n",
    "\n",
    "# Create the scatter plot\n",
    "plt.scatter(age, credit_card_mean)\n",
    "\n",
    "# Add labels and title to the plot\n",
    "plt.xlabel('Age')\n",
    "plt.ylabel('Mean Credit Card')\n",
    "plt.title('Age vs. Mean Credit Card')\n",
    "\n",
    "# Display the plot\n",
    "plt.show()"
   ]
  },
  {
   "cell_type": "code",
   "execution_count": 16,
   "id": "41b9c625",
   "metadata": {},
   "outputs": [
    {
     "data": {
      "text/plain": [
       "gender\n",
       "Female    0.702619\n",
       "Male      0.707898\n",
       "Name: credit_card, dtype: float64"
      ]
     },
     "execution_count": 16,
     "metadata": {},
     "output_type": "execute_result"
    }
   ],
   "source": [
    "gender_credit_card_segmentation ##average credit card usage across different gender segments."
   ]
  },
  {
   "cell_type": "code",
   "execution_count": 17,
   "id": "7ef26aed",
   "metadata": {},
   "outputs": [
    {
     "data": {
      "image/png": "[encoded data removed]",
      "text/plain": [
       "<Figure size 576x432 with 1 Axes>"
      ]
     },
     "metadata": {
      "needs_background": "light"
     },
     "output_type": "display_data"
    }
   ],
   "source": [
    "# Create the box plot\n",
    "import matplotlib.pyplot as plt\n",
    "\n",
    "# Group the data and calculate credit card usage for each segment\n",
    "segment_data = df.groupby('products_number')['credit_card'].mean()\n",
    "\n",
    "# Create the box plot\n",
    "plt.figure(figsize=(8, 6))\n",
    "plt.boxplot(segment_data.values) \n",
    "plt.xticks(range(1, len(segment_data)+1), segment_data.index)  \n",
    "plt.xlabel('products_number')\n",
    "plt.ylabel('Credit Card Usage')\n",
    "plt.title('Credit Card Usage by products_number Group ')\n",
    "plt.show()"
   ]
  },
  {
   "cell_type": "raw",
   "id": "0b14405a",
   "metadata": {},
   "source": [
    "## The longer whisker on one side indicates that the data has a tail that extends in that direction.\n",
    "#This suggests that there are some customers with a significantly higher number of products compared to the majority of customers."
   ]
  },
  {
   "cell_type": "code",
   "execution_count": 18,
   "id": "7771e126",
   "metadata": {},
   "outputs": [
    {
     "data": {
      "image/png": "[encoded data removed]",
      "text/plain": [
       "<Figure size 432x288 with 1 Axes>"
      ]
     },
     "metadata": {
      "needs_background": "light"
     },
     "output_type": "display_data"
    }
   ],
   "source": [
    "# Group the data and calculate credit card usage for each segment\n",
    "country_segment_data = df.groupby('country')['credit_card'].mean()\n",
    "\n",
    "\n",
    "# Assuming segment_data is a pandas Series object\n",
    "countries = segment_data.index\n",
    "credit_card_mean = segment_data.values\n",
    "\n",
    "# Create the bar chart\n",
    "plt.bar(countries, credit_card_mean)\n",
    "\n",
    "# Rotate x-axis labels for better readability\n",
    "plt.xticks(rotation=90)\n",
    "\n",
    "# Add labels and title to the plot\n",
    "plt.xlabel('Country')\n",
    "plt.ylabel('Mean Credit Card')\n",
    "plt.title('Mean Credit Card by Country')\n",
    "\n",
    "# Display the plot\n",
    "plt.show()"
   ]
  },
  {
   "cell_type": "code",
   "execution_count": 19,
   "id": "5f260cd7",
   "metadata": {},
   "outputs": [
    {
     "data": {
      "text/plain": [
       "products_number\n",
       "1    0.703777\n",
       "2    0.707190\n",
       "3    0.714286\n",
       "4    0.683333\n",
       "Name: credit_card, dtype: float64"
      ]
     },
     "execution_count": 19,
     "metadata": {},
     "output_type": "execute_result"
    }
   ],
   "source": [
    "segment_data "
   ]
  },
  {
   "cell_type": "code",
   "execution_count": 20,
   "id": "8224b7d8",
   "metadata": {},
   "outputs": [],
   "source": [
    "###churn analysis\n",
    "\n",
    "\n",
    "churn_analysis_data = df.groupby('churn')['credit_card'].mean()"
   ]
  },
  {
   "cell_type": "code",
   "execution_count": 21,
   "id": "2fffd802",
   "metadata": {},
   "outputs": [
    {
     "data": {
      "text/plain": [
       "churn\n",
       "0    0.707146\n",
       "1    0.699067\n",
       "Name: credit_card, dtype: float64"
      ]
     },
     "execution_count": 21,
     "metadata": {},
     "output_type": "execute_result"
    }
   ],
   "source": [
    "churn_analysis_data"
   ]
  },
  {
   "cell_type": "raw",
   "id": "d5f621bf",
   "metadata": {},
   "source": [
    "## churn rate for customers without credit cards is slightly higher (0.707146) compared to the churn rate for customers with credit cards (0.699067). However, the difference between the two churn rates is relatively small.\n",
    "\n",
    "1.The mean account balance for customers without credit cards is slightly higher compared to customers with credit cards, but the difference is not substantial."
   ]
  },
  {
   "cell_type": "code",
   "execution_count": 22,
   "id": "6079bc4f",
   "metadata": {},
   "outputs": [],
   "source": [
    "## cross analysis\n",
    "# Group data by credit_card and calculate summary statistics\n",
    "grouped_data = df.groupby('credit_card')['balance'].describe()"
   ]
  },
  {
   "cell_type": "code",
   "execution_count": 23,
   "id": "abacd0f2",
   "metadata": {},
   "outputs": [
    {
     "data": {
      "text/html": [
       "<div>\n",
       "<style scoped>\n",
       "    .dataframe tbody tr th:only-of-type {\n",
       "        vertical-align: middle;\n",
       "    }\n",
       "\n",
       "    .dataframe tbody tr th {\n",
       "        vertical-align: top;\n",
       "    }\n",
       "\n",
       "    .dataframe thead th {\n",
       "        text-align: right;\n",
       "    }\n",
       "</style>\n",
       "<table border=\"1\" class=\"dataframe\">\n",
       "  <thead>\n",
       "    <tr style=\"text-align: right;\">\n",
       "      <th></th>\n",
       "      <th>count</th>\n",
       "      <th>mean</th>\n",
       "      <th>std</th>\n",
       "      <th>min</th>\n",
       "      <th>25%</th>\n",
       "      <th>50%</th>\n",
       "      <th>75%</th>\n",
       "      <th>max</th>\n",
       "    </tr>\n",
       "    <tr>\n",
       "      <th>credit_card</th>\n",
       "      <th></th>\n",
       "      <th></th>\n",
       "      <th></th>\n",
       "      <th></th>\n",
       "      <th></th>\n",
       "      <th></th>\n",
       "      <th></th>\n",
       "      <th></th>\n",
       "    </tr>\n",
       "  </thead>\n",
       "  <tbody>\n",
       "    <tr>\n",
       "      <th>0</th>\n",
       "      <td>2945.0</td>\n",
       "      <td>77920.787552</td>\n",
       "      <td>61951.756426</td>\n",
       "      <td>0.0</td>\n",
       "      <td>0.0</td>\n",
       "      <td>97990.49</td>\n",
       "      <td>127269.750</td>\n",
       "      <td>250898.09</td>\n",
       "    </tr>\n",
       "    <tr>\n",
       "      <th>1</th>\n",
       "      <td>7055.0</td>\n",
       "      <td>75886.913330</td>\n",
       "      <td>62577.134010</td>\n",
       "      <td>0.0</td>\n",
       "      <td>0.0</td>\n",
       "      <td>96877.21</td>\n",
       "      <td>127761.655</td>\n",
       "      <td>221532.80</td>\n",
       "    </tr>\n",
       "  </tbody>\n",
       "</table>\n",
       "</div>"
      ],
      "text/plain": [
       "              count          mean           std  min  25%       50%  \\\n",
       "credit_card                                                           \n",
       "0            2945.0  77920.787552  61951.756426  0.0  0.0  97990.49   \n",
       "1            7055.0  75886.913330  62577.134010  0.0  0.0  96877.21   \n",
       "\n",
       "                    75%        max  \n",
       "credit_card                         \n",
       "0            127269.750  250898.09  \n",
       "1            127761.655  221532.80  "
      ]
     },
     "execution_count": 23,
     "metadata": {},
     "output_type": "execute_result"
    }
   ],
   "source": [
    "grouped_data"
   ]
  },
  {
   "cell_type": "code",
   "execution_count": 24,
   "id": "f5730cde",
   "metadata": {},
   "outputs": [
    {
     "data": {
      "image/png": "[encoded data removed]",
      "text/plain": [
       "<Figure size 432x288 with 1 Axes>"
      ]
     },
     "metadata": {
      "needs_background": "light"
     },
     "output_type": "display_data"
    }
   ],
   "source": [
    "# Create the violin plot\n",
    "sns.violinplot(data=df, x='credit_card', y='balance')\n",
    "\n",
    "# Add labels and title to the plot\n",
    "plt.xlabel('Credit Card Ownership')\n",
    "plt.ylabel('Account Balance')\n",
    "plt.title('Account Balance by Credit Card Ownership')\n",
    "\n",
    "# Display the plot\n",
    "plt.show()"
   ]
  },
  {
   "cell_type": "code",
   "execution_count": 25,
   "id": "60c505f2",
   "metadata": {},
   "outputs": [
    {
     "name": "stdout",
     "output_type": "stream",
     "text": [
      "Chi-square test results:\n",
      "Chi-square statistic: 0.47133779904440803\n",
      "p-value: 0.49237236141554686\n"
     ]
    }
   ],
   "source": [
    "##statistical analysis\n",
    "\n",
    "import scipy.stats as stats\n",
    "\n",
    "\n",
    "\n",
    "# Chi-square test\n",
    "contingency_table = pd.crosstab(df['credit_card'], df['churn'])\n",
    "chi2, p_val, _, _ = stats.chi2_contingency(contingency_table)\n",
    "print(\"Chi-square test results:\")\n",
    "print(\"Chi-square statistic:\", chi2)\n",
    "print(\"p-value:\", p_val)"
   ]
  },
  {
   "cell_type": "raw",
   "id": "6383b28c",
   "metadata": {},
   "source": [
    "chi-square statistic is 0.4713, which measures the overall association between the \"credit_card\" and \"churn\" variables. It quantifies the difference between the observed frequencies and the frequencies that would be expected if there was no association between the variables.\n",
    "Card ownership does not have a statistically significant impact on customer churn.."
   ]
  },
  {
   "cell_type": "code",
   "execution_count": 26,
   "id": "23431310",
   "metadata": {},
   "outputs": [
    {
     "name": "stdout",
     "output_type": "stream",
     "text": [
      "\n",
      "Independent t-test results:\n",
      "t-statistic: 1.4919967485693244\n",
      "p-value: 0.1357566864563077\n"
     ]
    }
   ],
   "source": [
    "# Independent t-test\n",
    "credit_card_0 = df[df['credit_card'] == 0]['balance']\n",
    "credit_card_1 = df[df['credit_card'] == 1]['balance']\n",
    "t_stat, p_val = stats.ttest_ind(credit_card_0, credit_card_1, equal_var=False)\n",
    "print(\"\\nIndependent t-test results:\")\n",
    "print(\"t-statistic:\", t_stat)\n",
    "print(\"p-value:\", p_val)"
   ]
  },
  {
   "cell_type": "raw",
   "id": "e0873f23",
   "metadata": {},
   "source": [
    "there is no statistically significant difference in account balances between customers with and without credit cards"
   ]
  },
  {
   "cell_type": "markdown",
   "id": "b144ade9",
   "metadata": {},
   "source": [
    "# FOR COUNTRY COLUMN"
   ]
  },
  {
   "cell_type": "code",
   "execution_count": 27,
   "id": "18a5aec7",
   "metadata": {},
   "outputs": [
    {
     "name": "stdout",
     "output_type": "stream",
     "text": [
      "country\n",
      "France     0.161548\n",
      "Germany    0.324432\n",
      "Spain      0.166734\n",
      "Name: churn, dtype: float64\n"
     ]
    }
   ],
   "source": [
    "# find customer churn rate on the basis of coutry\n",
    "country_churn_rate=df.groupby('country')['churn'].mean()\n",
    "print(country_churn_rate)"
   ]
  },
  {
   "cell_type": "raw",
   "id": "6c25df14",
   "metadata": {},
   "source": [
    "churn rate for customers in Germany is relatively higher at approximately 32.44%. This suggests that a larger proportion of customers from Germany have churned compared to France and spain."
   ]
  },
  {
   "cell_type": "code",
   "execution_count": 28,
   "id": "869bcb32",
   "metadata": {},
   "outputs": [
    {
     "name": "stdout",
     "output_type": "stream",
     "text": [
      "Chi-square test results:\n",
      "Chi-square statistic: 301.25533682434536\n",
      "p-value: 3.8303176053541544e-66\n"
     ]
    }
   ],
   "source": [
    "#chi-square test is commonly used to assess the independence or association between two categorical variables..\n",
    "#statistical analysis\n",
    "\n",
    "\n",
    "# Chi-square test\n",
    "contingency_table = pd.crosstab(df['country'], df['churn'])\n",
    "chi2, p_val, _, _ = stats.chi2_contingency(contingency_table)\n",
    "print(\"Chi-square test results:\")\n",
    "print(\"Chi-square statistic:\", chi2)\n",
    "print(\"p-value:\", p_val)\n"
   ]
  },
  {
   "cell_type": "raw",
   "id": "68bbe268",
   "metadata": {},
   "source": [
    "extremely low p-value, we can conclude that there is a significant association between the country variable and churn. \n",
    "In other words, the differences in churn rates across countries are unlikely to have occurred by chance. This suggests that the country variable plays a role in influencing customer churn."
   ]
  },
  {
   "cell_type": "code",
   "execution_count": 29,
   "id": "283c71bc",
   "metadata": {},
   "outputs": [
    {
     "name": "stdout",
     "output_type": "stream",
     "text": [
      "ANOVA results for credit_score\n",
      "F-statistic: 0.3994198989465179\n",
      "p-value: 0.6707197151786737\n",
      "\n",
      "ANOVA results for age\n",
      "F-statistic: 12.106270732485994\n",
      "p-value: 5.60622043878216e-06\n",
      "\n",
      "ANOVA results for balance\n",
      "F-statistic: 958.4254463368385\n",
      "p-value: 0.0\n",
      "\n",
      "ANOVA results for products_number\n",
      "F-statistic: 0.7175834902822299\n",
      "p-value: 0.487955050430974\n",
      "\n",
      "ANOVA results for estimated_salary\n",
      "F-statistic: 0.5827609114534064\n",
      "p-value: 0.5583736355799094\n",
      "\n"
     ]
    }
   ],
   "source": [
    "#To find the correlation between a categorical variable like \"country\" and other numerical columns,\n",
    "from scipy.stats import f_oneway\n",
    "from scipy.stats import f_oneway\n",
    "\n",
    "numerical_columns = ['credit_score', 'age', 'balance', 'products_number', 'estimated_salary']\n",
    "categorical_column = 'country'\n",
    "\n",
    "for i in numerical_columns:\n",
    "    grouped_data = df.groupby(categorical_column)[i] \n",
    "    # here we grouped data with each numerical coland country col\n",
    "    anova_result = f_oneway(*[grouped_data.get_group(country) for country in df[categorical_column].unique()])\n",
    "    #* before the list is used to unpack the list, so each group is passed as a separate argument to the f_oneway. \n",
    "    print(\"ANOVA results for\", i)\n",
    "    print(\"F-statistic:\", anova_result.statistic)\n",
    "    print(\"p-value:\", anova_result.pvalue)\n",
    "    print()"
   ]
  },
  {
   "cell_type": "raw",
   "id": "38b6dd63",
   "metadata": {},
   "source": [
    "1. there is no significant difference in credit scores and estimated_salsry and no_of_products column among different countries\n",
    "2.p-value is extremely low (close to 0), indicating a highly significant difference in account balances among different countries. \n",
    "The country variable has a strong impact on the balance of customer accounts. and also age  have some impact on country column\n",
    "but we dont know why age col imapch on country there might be another reson beyond our analysis.."
   ]
  },
  {
   "cell_type": "code",
   "execution_count": 30,
   "id": "657942e8",
   "metadata": {},
   "outputs": [],
   "source": [
    "#[country for country in df[categorical_column].unique()] --this used to get unique country\n",
    "#[grouped_data.get_group(country) for country in df[categorical_column].unique()]"
   ]
  },
  {
   "cell_type": "code",
   "execution_count": 31,
   "id": "9ab492ce",
   "metadata": {},
   "outputs": [
    {
     "name": "stdout",
     "output_type": "stream",
     "text": [
      "         credit_score        age    tenure        balance  products_number  \\\n",
      "country                                                                      \n",
      "France     649.668329  38.511767  5.004587   62092.636516         1.530913   \n",
      "Germany    651.453567  39.771622  5.009964  119730.116134         1.519729   \n",
      "Spain      651.333872  38.890997  5.032297   61818.147763         1.539362   \n",
      "\n",
      "         credit_card  active_member  estimated_salary     churn  \n",
      "country                                                          \n",
      "France      0.706621       0.516753      99899.180814  0.161548  \n",
      "Germany     0.713830       0.497409     101113.435102  0.324432  \n",
      "Spain       0.694792       0.529673      99440.572281  0.166734  \n"
     ]
    }
   ],
   "source": [
    "#customer segmentation based on country..\n",
    "\n",
    "# Group data by country and calculate summary statistics\n",
    "country_stats = df.groupby('country').agg({\n",
    "    'credit_score': 'mean',\n",
    "    'age': 'mean',\n",
    "    'tenure': 'mean',\n",
    "    'balance': 'mean',\n",
    "    'products_number': 'mean',\n",
    "    'credit_card': 'mean',\n",
    "    'active_member': 'mean',\n",
    "    'estimated_salary': 'mean',\n",
    "    'churn': 'mean'\n",
    "})\n",
    "\n",
    "print(country_stats)"
   ]
  },
  {
   "cell_type": "code",
   "execution_count": 32,
   "id": "4d6330ea",
   "metadata": {},
   "outputs": [],
   "source": [
    "#frquency distribution\n",
    "country_frequncy=df['country'].value_counts()"
   ]
  },
  {
   "cell_type": "code",
   "execution_count": 33,
   "id": "1f79fa39",
   "metadata": {},
   "outputs": [
    {
     "data": {
      "image/png": "[encoded data removed]",
      "text/plain": [
       "<Figure size 720x432 with 1 Axes>"
      ]
     },
     "metadata": {
      "needs_background": "light"
     },
     "output_type": "display_data"
    }
   ],
   "source": [
    "plt.figure(figsize=(10, 6))\n",
    "country_frequncy.plot(kind='bar',color=['b', 'g','r'])\n",
    "plt.title('Country Distribution')\n",
    "plt.xlabel('Country')\n",
    "plt.ylabel('Frequency')\n",
    "plt.show()\n"
   ]
  },
  {
   "cell_type": "raw",
   "id": "85555ed5",
   "metadata": {},
   "source": [
    "#Majority of customers are from France, about 50%, and from Germany and Spain around 25% each."
   ]
  },
  {
   "cell_type": "markdown",
   "id": "4a36db7f",
   "metadata": {},
   "source": [
    "# FOR GENDER COLUMN"
   ]
  },
  {
   "cell_type": "code",
   "execution_count": 34,
   "id": "99175972",
   "metadata": {},
   "outputs": [
    {
     "data": {
      "image/png": "[encoded data removed]",
      "text/plain": [
       "<Figure size 720x432 with 1 Axes>"
      ]
     },
     "metadata": {
      "needs_background": "light"
     },
     "output_type": "display_data"
    }
   ],
   "source": [
    "#frequency distribution\n",
    "gender_frequncy=df['gender'].value_counts()\n",
    "plt.figure(figsize=(10, 6))\n",
    "gender_frequncy.plot(kind='bar',color=['y','g'])\n",
    "plt.title('Country Distribution')\n",
    "plt.xlabel('Country')\n",
    "plt.ylabel('Frequency')\n",
    "plt.show()\n",
    "# males are more thal females in our dataset"
   ]
  },
  {
   "cell_type": "code",
   "execution_count": 35,
   "id": "c21ee931",
   "metadata": {},
   "outputs": [],
   "source": [
    "#gender analysis --with each column\n",
    "\n",
    "male_data=df[df['gender']== 'Male']\n",
    "female_data=df[df['gender']== 'Female']"
   ]
  },
  {
   "cell_type": "code",
   "execution_count": 36,
   "id": "88aca052",
   "metadata": {},
   "outputs": [
    {
     "name": "stdout",
     "output_type": "stream",
     "text": [
      "male_credit_score_mean 650.2768920652373\n",
      "male_balance_mean 77173.97450613906\n",
      "male_churn_mean 0.16455928165658787\n"
     ]
    }
   ],
   "source": [
    "#for male\n",
    "male_credit_score_mean=male_data['credit_score'].mean()\n",
    "male_balance_mean=male_data['balance'].mean()\n",
    "male_churn_mean=male_data['churn'].mean()\n",
    "print('male_credit_score_mean',male_credit_score_mean)\n",
    "print('male_balance_mean',male_balance_mean)\n",
    "print('male_churn_mean',male_churn_mean)"
   ]
  },
  {
   "cell_type": "code",
   "execution_count": 37,
   "id": "588fcde3",
   "metadata": {},
   "outputs": [
    {
     "name": "stdout",
     "output_type": "stream",
     "text": [
      "female_credit_score_mean 650.831388950033\n",
      "female_balance_mean 75659.36913933513\n",
      "female_churn_mean 0.2507153863086066\n"
     ]
    }
   ],
   "source": [
    "#for female\n",
    "female_credit_score_mean=female_data['credit_score'].mean()\n",
    "female_balance_mean=female_data['balance'].mean()\n",
    "female_churn_mean=female_data['churn'].mean()\n",
    "print('female_credit_score_mean',female_credit_score_mean)\n",
    "print('female_balance_mean',female_balance_mean)\n",
    "print('female_churn_mean',female_churn_mean)"
   ]
  },
  {
   "cell_type": "raw",
   "id": "c58669c6",
   "metadata": {},
   "source": [
    "#1.Female customers have a significantly higher churn rate compared to male customers\n",
    "2.Male customers have a higher average balance compared to female customers"
   ]
  },
  {
   "cell_type": "code",
   "execution_count": 38,
   "id": "536d05ab",
   "metadata": {},
   "outputs": [
    {
     "name": "stderr",
     "output_type": "stream",
     "text": [
      "C:\\Users\\Tejas\\AppData\\Local\\Temp/ipykernel_25068/1886188817.py:10: MatplotlibDeprecationWarning: normalize=None does not normalize if the sum is less than 1 but this behavior is deprecated since 3.3 until two minor releases later. After the deprecation period the default value will be normalize=True. To prevent normalization pass normalize=False \n",
      "  plt.pie(values, labels=labels, autopct='%1.1f%%',colors=colors)\n"
     ]
    },
    {
     "data": {
      "image/png": "[encoded data removed]",
      "text/plain": [
       "<Figure size 432x288 with 1 Axes>"
      ]
     },
     "metadata": {},
     "output_type": "display_data"
    }
   ],
   "source": [
    "import matplotlib.pyplot as plt\n",
    "\n",
    "churn_rate_male = 0.1646\n",
    "churn_rate_female = 0.2507\n",
    "\n",
    "labels = ['Male', 'Female']\n",
    "values = [churn_rate_male, churn_rate_female]\n",
    "colors = ['yellow', 'orange']\n",
    "\n",
    "plt.pie(values, labels=labels, autopct='%1.1f%%',colors=colors)\n",
    "plt.title('Churn Rate by Gender')\n",
    "plt.axis('equal')\n",
    "plt.show()"
   ]
  },
  {
   "cell_type": "code",
   "execution_count": 39,
   "id": "cccef6d7",
   "metadata": {},
   "outputs": [
    {
     "data": {
      "image/png": "[encoded data removed]",
      "text/plain": [
       "<Figure size 432x288 with 1 Axes>"
      ]
     },
     "metadata": {},
     "output_type": "display_data"
    }
   ],
   "source": [
    "sns.set(style='whitegrid')\n",
    "sns.countplot(x='tenure',hue='gender',data=df)\n",
    "plt.xlabel('tenure')\n",
    "plt.ylabel('Count')\n",
    "plt.title('Gender Distribution by tenure')\n",
    "plt.show()"
   ]
  },
  {
   "cell_type": "code",
   "execution_count": 40,
   "id": "053daee1",
   "metadata": {},
   "outputs": [
    {
     "data": {
      "text/html": [
       "<div>\n",
       "<style scoped>\n",
       "    .dataframe tbody tr th:only-of-type {\n",
       "        vertical-align: middle;\n",
       "    }\n",
       "\n",
       "    .dataframe tbody tr th {\n",
       "        vertical-align: top;\n",
       "    }\n",
       "\n",
       "    .dataframe thead th {\n",
       "        text-align: right;\n",
       "    }\n",
       "</style>\n",
       "<table border=\"1\" class=\"dataframe\">\n",
       "  <thead>\n",
       "    <tr style=\"text-align: right;\">\n",
       "      <th></th>\n",
       "      <th>credit_score</th>\n",
       "      <th>age</th>\n",
       "      <th>tenure</th>\n",
       "      <th>balance</th>\n",
       "      <th>products_number</th>\n",
       "      <th>credit_card</th>\n",
       "      <th>active_member</th>\n",
       "      <th>estimated_salary</th>\n",
       "      <th>churn</th>\n",
       "    </tr>\n",
       "  </thead>\n",
       "  <tbody>\n",
       "    <tr>\n",
       "      <th>credit_score</th>\n",
       "      <td>1.000000</td>\n",
       "      <td>-0.003965</td>\n",
       "      <td>0.000842</td>\n",
       "      <td>0.006268</td>\n",
       "      <td>0.012238</td>\n",
       "      <td>-0.005458</td>\n",
       "      <td>0.025651</td>\n",
       "      <td>-0.001384</td>\n",
       "      <td>-0.027094</td>\n",
       "    </tr>\n",
       "    <tr>\n",
       "      <th>age</th>\n",
       "      <td>-0.003965</td>\n",
       "      <td>1.000000</td>\n",
       "      <td>-0.009997</td>\n",
       "      <td>0.028308</td>\n",
       "      <td>-0.030680</td>\n",
       "      <td>-0.011721</td>\n",
       "      <td>0.085472</td>\n",
       "      <td>-0.007201</td>\n",
       "      <td>0.285323</td>\n",
       "    </tr>\n",
       "    <tr>\n",
       "      <th>tenure</th>\n",
       "      <td>0.000842</td>\n",
       "      <td>-0.009997</td>\n",
       "      <td>1.000000</td>\n",
       "      <td>-0.012254</td>\n",
       "      <td>0.013444</td>\n",
       "      <td>0.022583</td>\n",
       "      <td>-0.028362</td>\n",
       "      <td>0.007784</td>\n",
       "      <td>-0.014001</td>\n",
       "    </tr>\n",
       "    <tr>\n",
       "      <th>balance</th>\n",
       "      <td>0.006268</td>\n",
       "      <td>0.028308</td>\n",
       "      <td>-0.012254</td>\n",
       "      <td>1.000000</td>\n",
       "      <td>-0.304180</td>\n",
       "      <td>-0.014858</td>\n",
       "      <td>-0.010084</td>\n",
       "      <td>0.012797</td>\n",
       "      <td>0.118533</td>\n",
       "    </tr>\n",
       "    <tr>\n",
       "      <th>products_number</th>\n",
       "      <td>0.012238</td>\n",
       "      <td>-0.030680</td>\n",
       "      <td>0.013444</td>\n",
       "      <td>-0.304180</td>\n",
       "      <td>1.000000</td>\n",
       "      <td>0.003183</td>\n",
       "      <td>0.009612</td>\n",
       "      <td>0.014204</td>\n",
       "      <td>-0.047820</td>\n",
       "    </tr>\n",
       "    <tr>\n",
       "      <th>credit_card</th>\n",
       "      <td>-0.005458</td>\n",
       "      <td>-0.011721</td>\n",
       "      <td>0.022583</td>\n",
       "      <td>-0.014858</td>\n",
       "      <td>0.003183</td>\n",
       "      <td>1.000000</td>\n",
       "      <td>-0.011866</td>\n",
       "      <td>-0.009933</td>\n",
       "      <td>-0.007138</td>\n",
       "    </tr>\n",
       "    <tr>\n",
       "      <th>active_member</th>\n",
       "      <td>0.025651</td>\n",
       "      <td>0.085472</td>\n",
       "      <td>-0.028362</td>\n",
       "      <td>-0.010084</td>\n",
       "      <td>0.009612</td>\n",
       "      <td>-0.011866</td>\n",
       "      <td>1.000000</td>\n",
       "      <td>-0.011421</td>\n",
       "      <td>-0.156128</td>\n",
       "    </tr>\n",
       "    <tr>\n",
       "      <th>estimated_salary</th>\n",
       "      <td>-0.001384</td>\n",
       "      <td>-0.007201</td>\n",
       "      <td>0.007784</td>\n",
       "      <td>0.012797</td>\n",
       "      <td>0.014204</td>\n",
       "      <td>-0.009933</td>\n",
       "      <td>-0.011421</td>\n",
       "      <td>1.000000</td>\n",
       "      <td>0.012097</td>\n",
       "    </tr>\n",
       "    <tr>\n",
       "      <th>churn</th>\n",
       "      <td>-0.027094</td>\n",
       "      <td>0.285323</td>\n",
       "      <td>-0.014001</td>\n",
       "      <td>0.118533</td>\n",
       "      <td>-0.047820</td>\n",
       "      <td>-0.007138</td>\n",
       "      <td>-0.156128</td>\n",
       "      <td>0.012097</td>\n",
       "      <td>1.000000</td>\n",
       "    </tr>\n",
       "  </tbody>\n",
       "</table>\n",
       "</div>"
      ],
      "text/plain": [
       "                  credit_score       age    tenure   balance  products_number  \\\n",
       "credit_score          1.000000 -0.003965  0.000842  0.006268         0.012238   \n",
       "age                  -0.003965  1.000000 -0.009997  0.028308        -0.030680   \n",
       "tenure                0.000842 -0.009997  1.000000 -0.012254         0.013444   \n",
       "balance               0.006268  0.028308 -0.012254  1.000000        -0.304180   \n",
       "products_number       0.012238 -0.030680  0.013444 -0.304180         1.000000   \n",
       "credit_card          -0.005458 -0.011721  0.022583 -0.014858         0.003183   \n",
       "active_member         0.025651  0.085472 -0.028362 -0.010084         0.009612   \n",
       "estimated_salary     -0.001384 -0.007201  0.007784  0.012797         0.014204   \n",
       "churn                -0.027094  0.285323 -0.014001  0.118533        -0.047820   \n",
       "\n",
       "                  credit_card  active_member  estimated_salary     churn  \n",
       "credit_score        -0.005458       0.025651         -0.001384 -0.027094  \n",
       "age                 -0.011721       0.085472         -0.007201  0.285323  \n",
       "tenure               0.022583      -0.028362          0.007784 -0.014001  \n",
       "balance             -0.014858      -0.010084          0.012797  0.118533  \n",
       "products_number      0.003183       0.009612          0.014204 -0.047820  \n",
       "credit_card          1.000000      -0.011866         -0.009933 -0.007138  \n",
       "active_member       -0.011866       1.000000         -0.011421 -0.156128  \n",
       "estimated_salary    -0.009933      -0.011421          1.000000  0.012097  \n",
       "churn               -0.007138      -0.156128          0.012097  1.000000  "
      ]
     },
     "execution_count": 40,
     "metadata": {},
     "output_type": "execute_result"
    }
   ],
   "source": [
    "# Calculate correlation coefficients\n",
    "correlation_matrix = df.corr()\n",
    "correlation_matrix"
   ]
  },
  {
   "cell_type": "code",
   "execution_count": 41,
   "id": "629a6075",
   "metadata": {},
   "outputs": [
    {
     "data": {
      "image/png": "[encoded data removed]",
      "text/plain": [
       "<Figure size 432x288 with 1 Axes>"
      ]
     },
     "metadata": {},
     "output_type": "display_data"
    }
   ],
   "source": [
    "# Create scatter plots\n",
    "sns.scatterplot(x='gender', y='credit_score', data=df)\n",
    "plt.xlabel('Gender')\n",
    "plt.ylabel('Credit Score')\n",
    "plt.title('Scatter Plot: Gender vs Credit Score')\n",
    "plt.show()\n"
   ]
  },
  {
   "cell_type": "code",
   "execution_count": 42,
   "id": "d7a9240e",
   "metadata": {},
   "outputs": [
    {
     "data": {
      "image/png": "[encoded data removed]",
      "text/plain": [
       "<Figure size 432x288 with 1 Axes>"
      ]
     },
     "metadata": {},
     "output_type": "display_data"
    }
   ],
   "source": [
    "sns.scatterplot(x='gender', y='balance', data=df)\n",
    "plt.xlabel('Gender',)\n",
    "plt.ylabel('Balance')\n",
    "plt.title('Scatter Plot: Gender vs Balance')\n",
    "plt.show()\n",
    "\n",
    "# Repeat the above steps for other variables of interest"
   ]
  },
  {
   "cell_type": "code",
   "execution_count": 43,
   "id": "20b0445c",
   "metadata": {},
   "outputs": [
    {
     "name": "stdout",
     "output_type": "stream",
     "text": [
      "                    gender  credit_score       age   balance  products_number  \\\n",
      "gender            1.000000      0.002857  0.027544 -0.012087         0.021859   \n",
      "credit_score      0.002857      1.000000 -0.003965  0.006268         0.012238   \n",
      "age               0.027544     -0.003965  1.000000  0.028308        -0.030680   \n",
      "balance          -0.012087      0.006268  0.028308  1.000000        -0.304180   \n",
      "products_number   0.021859      0.012238 -0.030680 -0.304180         1.000000   \n",
      "estimated_salary  0.008112     -0.001384 -0.007201  0.012797         0.014204   \n",
      "\n",
      "                  estimated_salary  \n",
      "gender                    0.008112  \n",
      "credit_score             -0.001384  \n",
      "age                      -0.007201  \n",
      "balance                   0.012797  \n",
      "products_number           0.014204  \n",
      "estimated_salary          1.000000  \n"
     ]
    }
   ],
   "source": [
    "# Assuming 'gender' is encoded as 0 for male and 1 for female\n",
    "df['gender'] = df['gender'].map({'Male': 0, 'Female': 1})\n",
    "\n",
    "# Calculate correlation coefficients\n",
    "correlation = df[['gender', 'credit_score', 'age', 'balance', 'products_number', 'estimated_salary']].corr()\n",
    "\n",
    "print(correlation)"
   ]
  },
  {
   "cell_type": "raw",
   "id": "b8065161",
   "metadata": {},
   "source": [
    "#1. very weak positive correlation between gender with (credit score,age,estimated salary,no of products)\n",
    "2.very weak negative correlation between gender and balance"
   ]
  },
  {
   "cell_type": "code",
   "execution_count": 44,
   "id": "fe6de5bf",
   "metadata": {},
   "outputs": [],
   "source": [
    "#for numerical variable to categorical : , you can use a t-test or ANOVA to compare means or variances between genders\n",
    "#for categorical to categorical:  chi-square test of independence to examine the association between the variable and gender."
   ]
  },
  {
   "cell_type": "code",
   "execution_count": 45,
   "id": "960f25d3",
   "metadata": {},
   "outputs": [
    {
     "name": "stdout",
     "output_type": "stream",
     "text": [
      "Mann-Whitney U test for credit_score:\n",
      "U-statistic: 12352291.5\n",
      "p-value: 0.7633186115494625\n",
      "\n",
      "Mann-Whitney U test for age:\n",
      "U-statistic: 11967721.5\n",
      "p-value: 0.002898242014868076\n",
      "\n",
      "Mann-Whitney U test for balance:\n",
      "U-statistic: 12585030.5\n",
      "p-value: 0.17689812313038744\n",
      "\n",
      "Mann-Whitney U test for products_number:\n",
      "U-statistic: 12233300.5\n",
      "p-value: 0.19879736680815863\n",
      "\n",
      "Mann-Whitney U test for estimated_salary:\n",
      "U-statistic: 12276729.0\n",
      "p-value: 0.4083453950040178\n",
      "\n"
     ]
    }
   ],
   "source": [
    "import scipy.stats as stats\n",
    "#used to compare the means or medians of a numerical variable between two groups\n",
    "\n",
    "# Example: Comparing credit scores between genders\n",
    "male_scores = df[df['gender'] == 'Male']['credit_score']\n",
    "female_scores = df[df['gender'] == 'Female']['credit_score']\n",
    "numerical_columns = ['credit_score', 'age', 'balance', 'products_number', 'estimated_salary']\n",
    "\n",
    "# Perform mann whitney-test\n",
    "for column in numerical_columns:\n",
    "    u_statistic, p_value = stats.mannwhitneyu(male_data[column], female_data[column])\n",
    "    print(f\"Mann-Whitney U test for {column}:\")\n",
    "    print(f\"U-statistic: {u_statistic}\")\n",
    "    print(f\"p-value: {p_value}\\n\")"
   ]
  },
  {
   "cell_type": "raw",
   "id": "b10e3990",
   "metadata": {},
   "source": [
    "#do not have enought evidence to conclude significant difference between gender and other numerical column \n",
    "#only age column have differ."
   ]
  },
  {
   "cell_type": "markdown",
   "id": "199d76ac",
   "metadata": {},
   "source": [
    "# FOR TENURE COLUMN"
   ]
  },
  {
   "cell_type": "code",
   "execution_count": 46,
   "id": "c30a4cd3",
   "metadata": {},
   "outputs": [
    {
     "name": "stdout",
     "output_type": "stream",
     "text": [
      "tenure_stattistics count    10000.000000\n",
      "mean         5.012800\n",
      "std          2.892174\n",
      "min          0.000000\n",
      "25%          3.000000\n",
      "50%          5.000000\n",
      "75%          7.000000\n",
      "max         10.000000\n",
      "Name: tenure, dtype: float64\n"
     ]
    }
   ],
   "source": [
    "#summary statistics\n",
    "tenure_stat=df['tenure'].describe()\n",
    "print('tenure_stattistics',tenure_stat)"
   ]
  },
  {
   "cell_type": "code",
   "execution_count": 47,
   "id": "440db0c5",
   "metadata": {},
   "outputs": [
    {
     "data": {
      "text/plain": [
       "2     1048\n",
       "1     1035\n",
       "7     1028\n",
       "8     1025\n",
       "5     1012\n",
       "3     1009\n",
       "4      989\n",
       "9      984\n",
       "6      967\n",
       "10     490\n",
       "0      413\n",
       "Name: tenure, dtype: int64"
      ]
     },
     "execution_count": 47,
     "metadata": {},
     "output_type": "execute_result"
    }
   ],
   "source": [
    "tenure_counts=df['tenure'].value_counts()\n",
    "tenure_counts"
   ]
  },
  {
   "cell_type": "code",
   "execution_count": 48,
   "id": "1874b8a9",
   "metadata": {},
   "outputs": [
    {
     "data": {
      "image/png": "[encoded data removed]",
      "text/plain": [
       "<Figure size 432x288 with 1 Axes>"
      ]
     },
     "metadata": {},
     "output_type": "display_data"
    }
   ],
   "source": [
    "#frequency distribution\n",
    "import matplotlib.pyplot as plt\n",
    "\n",
    "# Plotting histogram\n",
    "plt.hist(df['tenure'], bins=10, edgecolor='k',color='r')\n",
    "\n",
    "# Adding labels and title\n",
    "plt.xlabel('Tenure',fontsize=16)\n",
    "plt.ylabel('Frequency',fontsize=16)\n",
    "plt.title('Distribution of Tenure',fontsize=16)\n",
    "\n",
    "# Displaying the histogram\n",
    "plt.show()\n"
   ]
  },
  {
   "cell_type": "code",
   "execution_count": 49,
   "id": "4158bb1e",
   "metadata": {},
   "outputs": [
    {
     "data": {
      "image/png": "[encoded data removed]",
      "text/plain": [
       "<Figure size 432x288 with 1 Axes>"
      ]
     },
     "metadata": {},
     "output_type": "display_data"
    }
   ],
   "source": [
    "import seaborn as sns\n",
    "import matplotlib.pyplot as plt\n",
    "\n",
    "# Bar plot\n",
    "sns.barplot(x='gender', y='tenure', data=df, ci=None)\n",
    "\n",
    "# Add labels and title\n",
    "plt.xlabel('Gender Column')\n",
    "plt.ylabel('Average Tenure')\n",
    "plt.title('Average Tenure across Groups')\n",
    "\n",
    "# Display the plot\n",
    "plt.show()\n",
    "#0--male 1-female"
   ]
  },
  {
   "cell_type": "code",
   "execution_count": 50,
   "id": "51d640b4",
   "metadata": {},
   "outputs": [
    {
     "data": {
      "image/png": "[encoded data removed]",
      "text/plain": [
       "<Figure size 432x288 with 1 Axes>"
      ]
     },
     "metadata": {},
     "output_type": "display_data"
    }
   ],
   "source": [
    "# Define custom colors for each country\n",
    "colors = ['red', 'orange', 'yellow']\n",
    "\n",
    "# Create the bar plot with custom colors\n",
    "sns.barplot(x='country', y='tenure', data=df, palette=colors)\n",
    "\n",
    "# Add labels and title\n",
    "plt.xlabel('Country')\n",
    "plt.ylabel('Tenure')\n",
    "plt.title('Comparison of Tenure across Countries')\n",
    "\n",
    "# Show the plot\n",
    "plt.show()\n"
   ]
  },
  {
   "cell_type": "code",
   "execution_count": 51,
   "id": "3e592e9e",
   "metadata": {},
   "outputs": [
    {
     "name": "stdout",
     "output_type": "stream",
     "text": [
      "                    tenure  credit_score       age   balance  products_number  \\\n",
      "tenure            1.000000      0.000842 -0.009997 -0.012254         0.013444   \n",
      "credit_score      0.000842      1.000000 -0.003965  0.006268         0.012238   \n",
      "age              -0.009997     -0.003965  1.000000  0.028308        -0.030680   \n",
      "balance          -0.012254      0.006268  0.028308  1.000000        -0.304180   \n",
      "products_number   0.013444      0.012238 -0.030680 -0.304180         1.000000   \n",
      "estimated_salary  0.007784     -0.001384 -0.007201  0.012797         0.014204   \n",
      "\n",
      "                  estimated_salary  \n",
      "tenure                    0.007784  \n",
      "credit_score             -0.001384  \n",
      "age                      -0.007201  \n",
      "balance                   0.012797  \n",
      "products_number           0.014204  \n",
      "estimated_salary          1.000000  \n"
     ]
    }
   ],
   "source": [
    "\n",
    "# Calculate correlation coefficients\n",
    "correlation_tenure = df[['tenure', 'credit_score', 'age', 'balance', 'products_number', 'estimated_salary']].corr()\n",
    "\n",
    "print(correlation_tenure)"
   ]
  },
  {
   "cell_type": "raw",
   "id": "420156dc",
   "metadata": {},
   "source": [
    "#1.very wek positive relation--[estimated_salary,product_numbers,credit_score]\n",
    "2.vey weak negative realation--[age,balance]"
   ]
  },
  {
   "cell_type": "code",
   "execution_count": 52,
   "id": "b54bc108",
   "metadata": {},
   "outputs": [
    {
     "data": {
      "image/png": "[encoded data removed]",
      "text/plain": [
       "<Figure size 432x288 with 1 Axes>"
      ]
     },
     "metadata": {},
     "output_type": "display_data"
    }
   ],
   "source": [
    "import matplotlib.pyplot as plt\n",
    "\n",
    "plt.scatter(df['tenure'], df['balance'],color='red')\n",
    "plt.xlabel('Tenure')\n",
    "plt.ylabel('balance')\n",
    "plt.title('Scatter Plot: Tenure vs.balance')\n",
    "\n",
    "plt.show()\n",
    "#negative realtion between balance and tenure"
   ]
  },
  {
   "cell_type": "markdown",
   "id": "c3ceb969",
   "metadata": {},
   "source": [
    "# FOR ACTIVE_MEMBER_COLUMN"
   ]
  },
  {
   "cell_type": "code",
   "execution_count": 53,
   "id": "4e756f19",
   "metadata": {},
   "outputs": [
    {
     "data": {
      "text/plain": [
       "active_member\n",
       "0    0.268509\n",
       "1    0.142691\n",
       "Name: churn, dtype: float64"
      ]
     },
     "execution_count": 53,
     "metadata": {},
     "output_type": "execute_result"
    }
   ],
   "source": [
    "churn_rate_active_member=df.groupby('active_member')['churn'].mean()\n",
    "churn_rate_active_member"
   ]
  },
  {
   "cell_type": "raw",
   "id": "b99610ed",
   "metadata": {},
   "source": [
    "customers who are not active members (active_member = 0), the churn rate is approximately 26.85%."
   ]
  },
  {
   "cell_type": "code",
   "execution_count": 54,
   "id": "fa3ebb12",
   "metadata": {},
   "outputs": [
    {
     "data": {
      "image/png": "[encoded data removed]",
      "text/plain": [
       "<Figure size 432x288 with 1 Axes>"
      ]
     },
     "metadata": {},
     "output_type": "display_data"
    }
   ],
   "source": [
    "churn_rate=[0.268509,0.142691]\n",
    "categories = ['Not Active', 'Active']\n",
    "color=['red','green']\n",
    "\n",
    "sns.barplot(x=categories, y=churn_rate,palette=color)\n",
    "\n",
    "plt.xlabel('Active Member')\n",
    "plt.ylabel('Churn Rate')\n",
    "plt.title('Churn Rate for Active Members')\n",
    "\n",
    "plt.show()"
   ]
  },
  {
   "cell_type": "code",
   "execution_count": 55,
   "id": "58fa2214",
   "metadata": {},
   "outputs": [
    {
     "data": {
      "image/png": "[encoded data removed]",
      "text/plain": [
       "<Figure size 432x288 with 1 Axes>"
      ]
     },
     "metadata": {},
     "output_type": "display_data"
    }
   ],
   "source": [
    "#frequency distribution\n",
    "color=['yellow','orange']\n",
    "\n",
    "\n",
    "# Assigning labels to x-axis tick labels\n",
    "active_labels = ['Not Active', 'Active']\n",
    "\n",
    "sns.countplot(x='active_member', data=df,palette=color)\n",
    "plt.xticks(ticks=[0, 1], labels=active_labels)\n",
    "\n",
    "plt.xlabel('Active Member')\n",
    "plt.ylabel('Count')\n",
    "plt.title('Frequency Distribution of Active Members')\n",
    "\n",
    "plt.show()\n",
    "#, we can see that the number of customers who are  active members (1) is higher compared to the number of customers who are not active members (0)."
   ]
  },
  {
   "cell_type": "code",
   "execution_count": 56,
   "id": "3d232338",
   "metadata": {},
   "outputs": [
    {
     "data": {
      "text/plain": [
       "('active_member_value',\n",
       " '--->',\n",
       " 1    51.51\n",
       " 0    48.49\n",
       " Name: active_member, dtype: float64)"
      ]
     },
     "execution_count": 56,
     "metadata": {},
     "output_type": "execute_result"
    }
   ],
   "source": [
    "#percentage of active member\n",
    "active_member_value=df['active_member'].value_counts(normalize=True) * 100\n",
    "'active_member_value','--->',active_member_value"
   ]
  },
  {
   "cell_type": "code",
   "execution_count": 57,
   "id": "17cb1b3a",
   "metadata": {},
   "outputs": [
    {
     "name": "stdout",
     "output_type": "stream",
     "text": [
      "cross_tab_gender  gender            0     1\n",
      "active_member            \n",
      "0              2590  2259\n",
      "1              2867  2284\n",
      "cross_tab_coutry  country        France  Germany  Spain\n",
      "active_member                        \n",
      "0                2423     1261   1165\n",
      "1                2591     1248   1312\n"
     ]
    }
   ],
   "source": [
    "#cross tabulation also called contingencyy table -->useful in understanding the relationship between two categorical variables.\n",
    "\n",
    "\n",
    "# Perform cross-tabulation between 'active_member' and 'country'\n",
    "cross_tab_country = pd.crosstab(df['active_member'], df['country'])\n",
    "                                                \n",
    "# Perform cross-tabulation between 'active_member' and 'gender'\n",
    "cross_tab_gender = pd.crosstab(df['active_member'], df['gender'])\n",
    "\n",
    "# Print the cross-tabulation table\n",
    "print('cross_tab_gender ',cross_tab_gender)\n",
    "print('cross_tab_coutry ',cross_tab_country)"
   ]
  },
  {
   "cell_type": "raw",
   "id": "8a1fc763",
   "metadata": {},
   "source": [
    "Among customers who are not active members-0 there are 2590 males and 2259 females.\n",
    "Among customers who are active members-1 there are 2867 males and 2284 females."
   ]
  },
  {
   "cell_type": "code",
   "execution_count": 58,
   "id": "5180fbbc",
   "metadata": {},
   "outputs": [
    {
     "name": "stdout",
     "output_type": "stream",
     "text": [
      "cross_tab_churn  churn             0     1\n",
      "active_member            \n",
      "0              3547  1302\n",
      "1              4416   735\n"
     ]
    }
   ],
   "source": [
    "# Perform cross-tabulation between 'active_member' and 'gender'\n",
    "cross_tab_churn = pd.crosstab(df['active_member'], df['churn'])\n",
    "print('cross_tab_churn ',cross_tab_churn)"
   ]
  },
  {
   "cell_type": "code",
   "execution_count": 59,
   "id": "8411b3f9",
   "metadata": {},
   "outputs": [
    {
     "name": "stdout",
     "output_type": "stream",
     "text": [
      "Chi-square statistic: 242.98534164287963\n",
      "P-value: 8.785858269303703e-55\n",
      "Degrees of freedom: 1\n"
     ]
    }
   ],
   "source": [
    "\n",
    "from scipy.stats import chi2_contingency\n",
    "\n",
    "\n",
    "# Perform the chi-square test\n",
    "chi2, p_value, dof, expected = chi2_contingency(cross_tab_churn)\n",
    "\n",
    "# Print the test results\n",
    "print(\"Chi-square statistic:\", chi2)\n",
    "print(\"P-value:\", p_value)\n",
    "print(\"Degrees of freedom:\", dof)"
   ]
  },
  {
   "cell_type": "raw",
   "id": "289af203",
   "metadata": {},
   "source": [
    "1.#statistically significant association between \"active_member\" and \"churn\"\n",
    "2.higher counts of both churned and not churned customers among inactive members compared to active members. This suggests that inactive members have a higher proportion of churned customers compared to active members."
   ]
  },
  {
   "cell_type": "markdown",
   "id": "6b1fcff0",
   "metadata": {},
   "source": [
    "# FOR CREDIT_SCORE_COLUMN"
   ]
  },
  {
   "cell_type": "code",
   "execution_count": 60,
   "id": "b67f9ea1",
   "metadata": {},
   "outputs": [
    {
     "name": "stdout",
     "output_type": "stream",
     "text": [
      "credit_score_stat count    10000.000000\n",
      "mean       650.528800\n",
      "std         96.653299\n",
      "min        350.000000\n",
      "25%        584.000000\n",
      "50%        652.000000\n",
      "75%        718.000000\n",
      "max        850.000000\n",
      "Name: credit_score, dtype: float64\n"
     ]
    }
   ],
   "source": [
    "credit_score_stats=df['credit_score'].describe()\n",
    "print('credit_score_stat',credit_score_stats)"
   ]
  },
  {
   "cell_type": "code",
   "execution_count": 61,
   "id": "51b7a811",
   "metadata": {},
   "outputs": [
    {
     "data": {
      "image/png": "[encoded data removed]",
      "text/plain": [
       "<Figure size 432x288 with 1 Axes>"
      ]
     },
     "metadata": {},
     "output_type": "display_data"
    }
   ],
   "source": [
    "import seaborn as sns\n",
    "import matplotlib.pyplot as plt\n",
    "\n",
    "sns.scatterplot(x='credit_score', y='balance', data=df,color='green')\n",
    "plt.xlabel('Credit Score')\n",
    "plt.ylabel('balance')\n",
    "plt.title('Scatter Plot: Credit Score vs Variable Name')\n",
    "plt.show()"
   ]
  },
  {
   "cell_type": "code",
   "execution_count": 62,
   "id": "17b56709",
   "metadata": {},
   "outputs": [
    {
     "data": {
      "text/plain": [
       "0.006268381616008714"
      ]
     },
     "execution_count": 62,
     "metadata": {},
     "output_type": "execute_result"
    }
   ],
   "source": [
    "correlation_balance=df['credit_score'].corr(df['balance'])\n",
    "correlation_balance"
   ]
  },
  {
   "cell_type": "code",
   "execution_count": null,
   "id": "318aa8cb",
   "metadata": {},
   "outputs": [],
   "source": [
    "## Categorical variable: Country,credit_card,activemember"
   ]
  },
  {
   "cell_type": "code",
   "execution_count": 65,
   "id": "82883dd1",
   "metadata": {},
   "outputs": [
    {
     "name": "stdout",
     "output_type": "stream",
     "text": [
      "average_credit_score_country country\n",
      "France     649.668329\n",
      "Germany    651.453567\n",
      "Spain      651.333872\n",
      "Name: credit_score, dtype: float64\n",
      "\n",
      "average_credit_score_credit_card credit_card\n",
      "0    651.345331\n",
      "1    650.187952\n",
      "Name: credit_score, dtype: float64\n",
      "\n",
      "average_credit_score_membership active_member\n",
      "0    647.973603\n",
      "1    652.934188\n",
      "Name: credit_score, dtype: float64\n"
     ]
    }
   ],
   "source": [
    "average_credit_score_country = df.groupby('country')['credit_score'].mean()\n",
    "\n",
    "average_credit_score_credit_card = df.groupby('credit_card')['credit_score'].mean()\n",
    "\n",
    "average_credit_score_membership = df.groupby('active_member')['credit_score'].mean()\n",
    "\n",
    "print('average_credit_score_country',average_credit_score_country)\n",
    "\n",
    "print('\\naverage_credit_score_credit_card',average_credit_score_credit_card)\n",
    "\n",
    "print('\\naverage_credit_score_membership',average_credit_score_membership)"
   ]
  },
  {
   "cell_type": "raw",
   "id": "ac5e0903",
   "metadata": {},
   "source": [
    "1.that individuals who are active members tend to have a slightly higher average credit score compared to non-active members.\n",
    "\n",
    "2.this suggests that individuals who do not use a credit card have a slightly higher average credit score compared to those who use a credit card."
   ]
  },
  {
   "cell_type": "code",
   "execution_count": 66,
   "id": "ceef2e60",
   "metadata": {},
   "outputs": [],
   "source": [
    "# Define age groups and corresponding labels\n",
    "age_groups = [18, 30, 40, 50, 60, 70, 80, 90]\n",
    "age_labels = ['18-30', '31-40', '41-50', '51-60', '61-70', '71-80', '81-90']\n",
    "\n",
    "# Assign age groups to data\n",
    "df['age_group'] = pd.cut(df['age'], bins=age_groups, labels=age_labels, right=False)"
   ]
  },
  {
   "cell_type": "code",
   "execution_count": 67,
   "id": "68d45c54",
   "metadata": {},
   "outputs": [
    {
     "data": {
      "image/png": "[encoded data removed]",
      "text/plain": [
       "<Figure size 432x288 with 1 Axes>"
      ]
     },
     "metadata": {},
     "output_type": "display_data"
    }
   ],
   "source": [
    "# Create violin plot for credit score distribution across age groups\n",
    "sns.violinplot(x='age_group', y='credit_score', data=df)\n",
    "plt.xlabel('Age Group')\n",
    "plt.ylabel('Credit Score')\n",
    "plt.title('Credit Score Distribution by Age Group (Violin Plot)')\n",
    "plt.show()"
   ]
  },
  {
   "cell_type": "code",
   "execution_count": 68,
   "id": "f4f05cb3",
   "metadata": {},
   "outputs": [
    {
     "name": "stdout",
     "output_type": "stream",
     "text": [
      "            count        mean         std    min     25%    50%     75%    max\n",
      "age_group                                                                     \n",
      "18-30      1641.0  651.140768   95.935606  363.0  583.00  652.0  717.00  850.0\n",
      "31-40      4346.0  651.649563   97.423944  350.0  584.00  654.0  720.00  850.0\n",
      "41-50      2618.0  649.065317   94.912477  350.0  584.00  649.0  714.00  850.0\n",
      "51-60       869.0  646.355581   97.760694  350.0  582.00  647.0  712.00  850.0\n",
      "61-70       375.0  647.986667  100.402518  350.0  580.00  650.0  722.00  850.0\n",
      "71-80       136.0  665.492647   91.840925  434.0  605.75  656.5  732.25  850.0\n",
      "81-90        13.0  677.000000  133.349166  408.0  624.00  682.0  787.00  850.0\n"
     ]
    }
   ],
   "source": [
    "# Group the data by age groups and calculate mean credit score\n",
    "age_groups = df.groupby('age_group')['credit_score'].describe()\n",
    "\n",
    "# Print the mean credit score for each age group\n",
    "print(age_groups)\n"
   ]
  },
  {
   "cell_type": "raw",
   "id": "5fa5f521",
   "metadata": {},
   "source": [
    "we can see that the 81-90 age group has the highest average credit score, while the 51-60 age group has the lowest average credit score. \n",
    "2.81-90 age group has the highest minimum credit score (408) and the highest maximum credit score (850)"
   ]
  },
  {
   "cell_type": "code",
   "execution_count": 69,
   "id": "fdbdf291",
   "metadata": {},
   "outputs": [
    {
     "data": {
      "image/png": "[encoded data removed]",
      "text/plain": [
       "<Figure size 720x576 with 2 Axes>"
      ]
     },
     "metadata": {},
     "output_type": "display_data"
    }
   ],
   "source": [
    "import pandas as pd\n",
    "\n",
    "# Select the relevant numerical variables\n",
    "numerical_variables = ['age', 'tenure', 'balance', 'products_number', 'estimated_salary']\n",
    "\n",
    "# Calculate the correlation coefficients\n",
    "correlation_matrix = df[numerical_variables].corr()\n",
    "\n",
    "# Create a correlation matrix or heatmap\n",
    "import seaborn as sns\n",
    "import matplotlib.pyplot as plt\n",
    "\n",
    "plt.figure(figsize=(10, 8))\n",
    "sns.heatmap(correlation_matrix, annot=True, cmap='coolwarm', square=True)\n",
    "plt.title('Correlation Matrix')\n",
    "plt.show()\n"
   ]
  },
  {
   "cell_type": "markdown",
   "id": "f2e335fd",
   "metadata": {},
   "source": [
    "# FOR BALANCE COLUMN"
   ]
  },
  {
   "cell_type": "code",
   "execution_count": 72,
   "id": "609b0b9a",
   "metadata": {},
   "outputs": [
    {
     "data": {
      "image/png": "[encoded data removed]",
      "text/plain": [
       "<Figure size 576x432 with 1 Axes>"
      ]
     },
     "metadata": {},
     "output_type": "display_data"
    },
    {
     "data": {
      "image/png": "[encoded data removed]",
      "text/plain": [
       "<Figure size 576x432 with 1 Axes>"
      ]
     },
     "metadata": {},
     "output_type": "display_data"
    }
   ],
   "source": [
    "# Plot a histogram of the \"balance\" column\n",
    "plt.figure(figsize=(8, 6))\n",
    "sns.histplot(data=df, x='balance', kde=True,color='red')\n",
    "plt.title('Distribution of Balance')\n",
    "plt.xlabel('Balance')\n",
    "plt.ylabel('Count')\n",
    "plt.show()\n",
    "\n",
    "# Plot a density plot of the \"balance\" column\n",
    "plt.figure(figsize=(8, 6))\n",
    "sns.kdeplot(data=df, x='balance',color='green')\n",
    "plt.title('Density Plot of Balance')\n",
    "plt.xlabel('Balance')\n",
    "plt.ylabel('Density')\n",
    "plt.show()"
   ]
  },
  {
   "cell_type": "code",
   "execution_count": 74,
   "id": "9aea4006",
   "metadata": {},
   "outputs": [
    {
     "name": "stdout",
     "output_type": "stream",
     "text": [
      "Skewness: -0.14110871094154384\n",
      "Kurtosis: -1.489411767941925\n"
     ]
    }
   ],
   "source": [
    "# Calculate skewness and kurtosis\n",
    "skewness = df['balance'].skew()\n",
    "kurtosis = df['balance'].kurtosis()\n",
    "print(\"Skewness:\", skewness)\n",
    "print(\"Kurtosis:\", kurtosis)"
   ]
  },
  {
   "cell_type": "raw",
   "id": "6267fbbc",
   "metadata": {},
   "source": [
    "1.The first peak, representing balances between 0 and 5000, indicates a concentration of observations with relatively lower balances\n",
    "\n",
    "2.The second peak, representing balances above 5000, suggests another group of observations with higher balances. This cluster could include individuals with more substantial account balances, potentially indicating higher \n",
    "savings or investment\n",
    "3.A skewness value of -0.141 indicates a slight left-skewed distribution. In other words, the distribution has a longer left tail, which suggests that there may be some observations with lower balances that deviate \n",
    "from the majority of the data.\n",
    "4.A negative kurtosis value of -1.489 indicates that the distribution has light tails compared to a normal distribution. \n",
    "It suggests that the distribution has fewer extreme outliers or heavy tails compared to a normal distribution"
   ]
  },
  {
   "cell_type": "code",
   "execution_count": 75,
   "id": "c00ccb51",
   "metadata": {},
   "outputs": [
    {
     "name": "stdout",
     "output_type": "stream",
     "text": [
      "country\n",
      "France      62092.636516\n",
      "Germany    119730.116134\n",
      "Spain       61818.147763\n",
      "Name: balance, dtype: float64\n"
     ]
    }
   ],
   "source": [
    "# Group the data by a categorical variable (e.g., country) and calculate the average balance\n",
    "average_balance_by_country = df.groupby('country')['balance'].mean()\n",
    "\n",
    "# Print the average balances by country\n",
    "print(average_balance_by_country)\n"
   ]
  },
  {
   "cell_type": "raw",
   "id": "009ce27c",
   "metadata": {},
   "source": [
    "\n",
    "Customers in Germany tend to have the highest average balances,\n",
    "while customers in France and Spain have lower average balances.\n"
   ]
  },
  {
   "cell_type": "code",
   "execution_count": 79,
   "id": "74b977ad",
   "metadata": {},
   "outputs": [
    {
     "data": {
      "image/png": "[encoded data removed]",
      "text/plain": [
       "<Figure size 576x432 with 1 Axes>"
      ]
     },
     "metadata": {},
     "output_type": "display_data"
    }
   ],
   "source": [
    "import matplotlib.pyplot as plt\n",
    "\n",
    "# Define colors for each country\n",
    "colors = [\"red\", \"#ff7f0e\", \"#2ca02c\"]\n",
    "\n",
    "# Plot a bar chart of the average balances by country with custom colors\n",
    "plt.figure(figsize=(8, 6))\n",
    "average_balance_by_country.plot(kind='bar', color=colors)\n",
    "plt.title('Average Balance by Country')\n",
    "plt.xlabel('Country')\n",
    "plt.ylabel('Average Balance')\n",
    "plt.show()\n"
   ]
  },
  {
   "cell_type": "code",
   "execution_count": 80,
   "id": "fff30815",
   "metadata": {},
   "outputs": [],
   "source": [
    "average_balance_by_gender = df.groupby('gender')['balance'].mean()\n",
    "average_balance_by_active_member= df.groupby('active_member')['balance'].mean()"
   ]
  },
  {
   "cell_type": "code",
   "execution_count": 82,
   "id": "fdc1e9ec",
   "metadata": {},
   "outputs": [
    {
     "name": "stdout",
     "output_type": "stream",
     "text": [
      "average_balance_by_active_member active_member\n",
      "0    77134.376863\n",
      "1    75875.422145\n",
      "Name: balance, dtype: float64\n",
      "\n",
      "average_balance_by_gender  gender\n",
      "0    77173.974506\n",
      "1    75659.369139\n",
      "Name: balance, dtype: float64\n"
     ]
    }
   ],
   "source": [
    "print('average_balance_by_active_member',average_balance_by_active_member)\n",
    "print('\\naverage_balance_by_gender ',average_balance_by_gender )"
   ]
  },
  {
   "cell_type": "raw",
   "id": "76c09f27",
   "metadata": {},
   "source": [
    "1.on average, female customers tend to have a relatively lower balance compared to male customers.\n",
    "2.on average, active members have slightly lower balances compared to inactive members."
   ]
  },
  {
   "cell_type": "code",
   "execution_count": 83,
   "id": "0607aa17",
   "metadata": {},
   "outputs": [],
   "source": [
    "#outlier analysis--techniqe--iqr,z-score-method,boxplot\n",
    "Q1 = df['balance'].quantile(0.25)\n",
    "Q3 = df['balance'].quantile(0.75)\n",
    "IQR = Q3 - Q1\n",
    "\n",
    "lower_bound = Q1 - 1.5 * IQR\n",
    "upper_bound = Q3 + 1.5 * IQR\n",
    "\n",
    "outliers = df[(df['balance'] < lower_bound) | (df['balance'] > upper_bound)]\n"
   ]
  },
  {
   "cell_type": "raw",
   "id": "c78b95ea",
   "metadata": {},
   "source": [
    " #another method \n",
    "from scipy import stats\n",
    "\n",
    "z_scores = stats.zscore(df['balance'])\n",
    "outliers = df[abs(z_scores) > 3]"
   ]
  },
  {
   "cell_type": "code",
   "execution_count": 84,
   "id": "f9afa5ca",
   "metadata": {},
   "outputs": [
    {
     "data": {
      "text/html": [
       "<div>\n",
       "<style scoped>\n",
       "    .dataframe tbody tr th:only-of-type {\n",
       "        vertical-align: middle;\n",
       "    }\n",
       "\n",
       "    .dataframe tbody tr th {\n",
       "        vertical-align: top;\n",
       "    }\n",
       "\n",
       "    .dataframe thead th {\n",
       "        text-align: right;\n",
       "    }\n",
       "</style>\n",
       "<table border=\"1\" class=\"dataframe\">\n",
       "  <thead>\n",
       "    <tr style=\"text-align: right;\">\n",
       "      <th></th>\n",
       "      <th>credit_score</th>\n",
       "      <th>country</th>\n",
       "      <th>gender</th>\n",
       "      <th>age</th>\n",
       "      <th>tenure</th>\n",
       "      <th>balance</th>\n",
       "      <th>products_number</th>\n",
       "      <th>credit_card</th>\n",
       "      <th>active_member</th>\n",
       "      <th>estimated_salary</th>\n",
       "      <th>churn</th>\n",
       "      <th>age_group</th>\n",
       "    </tr>\n",
       "  </thead>\n",
       "  <tbody>\n",
       "  </tbody>\n",
       "</table>\n",
       "</div>"
      ],
      "text/plain": [
       "Empty DataFrame\n",
       "Columns: [credit_score, country, gender, age, tenure, balance, products_number, credit_card, active_member, estimated_salary, churn, age_group]\n",
       "Index: []"
      ]
     },
     "execution_count": 84,
     "metadata": {},
     "output_type": "execute_result"
    }
   ],
   "source": [
    "outliers"
   ]
  },
  {
   "cell_type": "code",
   "execution_count": 85,
   "id": "66b98f55",
   "metadata": {},
   "outputs": [],
   "source": [
    "#  no outlier detection"
   ]
  },
  {
   "cell_type": "markdown",
   "id": "41965ee2",
   "metadata": {},
   "source": [
    "# FOR ESTIMATED_SALARY_COLUMN\n"
   ]
  },
  {
   "cell_type": "code",
   "execution_count": 86,
   "id": "8185af53",
   "metadata": {},
   "outputs": [],
   "source": [
    "average_salary_by_country = df.groupby('country')['estimated_salary'].mean()\n",
    "average_salary_by_gender = df.groupby('gender')['estimated_salary'].mean()\n",
    "average_salary_by_active_member = df.groupby('active_member')['estimated_salary'].mean()"
   ]
  },
  {
   "cell_type": "code",
   "execution_count": 89,
   "id": "6e0b0516",
   "metadata": {},
   "outputs": [
    {
     "name": "stdout",
     "output_type": "stream",
     "text": [
      "average_salary_by_country country\n",
      "France      99899.180814\n",
      "Germany    101113.435102\n",
      "Spain       99440.572281\n",
      "Name: estimated_salary, dtype: float64\n",
      "\n",
      "average_salary_by_gender gender\n",
      "0     99664.576931\n",
      "1    100601.541382\n",
      "Name: estimated_salary, dtype: float64\n",
      "\n",
      "average_salary_by_active_member active_member\n",
      "0    100767.203854\n",
      "1     99452.965894\n",
      "Name: estimated_salary, dtype: float64\n"
     ]
    }
   ],
   "source": [
    "print('average_salary_by_country',average_salary_by_country)\n",
    "print('\\naverage_salary_by_gender',average_salary_by_gender)\n",
    "print('\\naverage_salary_by_active_member',average_salary_by_active_member)"
   ]
  },
  {
   "cell_type": "raw",
   "id": "4e248cb4",
   "metadata": {},
   "source": [
    "1.average estimated salary is highest in Germany, followed by France and then Spain.\n",
    "2.average estimated salary for females is slightly higher compared to males, indicating a small gender pay gap in favor of females.\n",
    "3.non-active members have a slightly higher average estimated salary compared to active members"
   ]
  },
  {
   "cell_type": "code",
   "execution_count": 91,
   "id": "2bf5fcba",
   "metadata": {},
   "outputs": [
    {
     "name": "stdout",
     "output_type": "stream",
     "text": [
      "Skewness: 0.0020853576615585162\n",
      "Kurtosis: -1.1815184473915485\n"
     ]
    }
   ],
   "source": [
    "# Calculate skewness and kurtosis\n",
    "skewness = df['estimated_salary'].skew()\n",
    "kurtosis = df['estimated_salary'].kurtosis()\n",
    "print(\"Skewness:\", skewness)\n",
    "print(\"Kurtosis:\", kurtosis)"
   ]
  },
  {
   "cell_type": "raw",
   "id": "fbd330c9",
   "metadata": {},
   "source": [
    "#1.negative kurtosis value indicates a slightly flatter or less peaked distribution compared to a normal distribution.\n",
    "2.distribution of estimated salaries is almost symmetric or very close to a normal distribution"
   ]
  },
  {
   "cell_type": "code",
   "execution_count": 97,
   "id": "df08037a",
   "metadata": {},
   "outputs": [
    {
     "data": {
      "image/png": "[encoded data removed]",
      "text/plain": [
       "<Figure size 432x288 with 1 Axes>"
      ]
     },
     "metadata": {},
     "output_type": "display_data"
    }
   ],
   "source": [
    "sns.set_style(\"whitegrid\")\n",
    "sns.kdeplot(df['estimated_salary'], shade=True,color='#9B26B6')\n",
    "plt.title('Density Plot of Estimated Salary')\n",
    "plt.xlabel('Estimated Salary')\n",
    "plt.ylabel('Density')\n",
    "plt.show()\n"
   ]
  },
  {
   "cell_type": "markdown",
   "id": "b0485214",
   "metadata": {},
   "source": [
    "# FOR PRODUCTS_NO_COL"
   ]
  },
  {
   "cell_type": "code",
   "execution_count": 99,
   "id": "da9c0e72",
   "metadata": {},
   "outputs": [
    {
     "name": "stdout",
     "output_type": "stream",
     "text": [
      "Skewness: 0.7455678882823168\n",
      "Kurtosis: 0.5829807629457178\n"
     ]
    }
   ],
   "source": [
    "# Calculate skewness and kurtosis\n",
    "skewness = df['products_number'].skew()\n",
    "kurtosis = df['products_number'].kurtosis()\n",
    "print(\"Skewness:\", skewness)\n",
    "print(\"Kurtosis:\", kurtosis)"
   ]
  },
  {
   "cell_type": "raw",
   "id": "8760dbfa",
   "metadata": {},
   "source": [
    " 1.positive skewness value indicates that the tail of the distribution of the \"products_number\" column is skewed to the right, meaning there are more occurrences of lower product numbers and relatively fewer occurrences of higher product numbers.\n",
    "  \n",
    "  2.platykurtic distribution-->indicates that the distribution of product numbers has less extreme values"
   ]
  },
  {
   "cell_type": "markdown",
   "id": "0b370f6e",
   "metadata": {},
   "source": [
    "# FOR CHURN COLUMN "
   ]
  },
  {
   "cell_type": "code",
   "execution_count": 100,
   "id": "5f076015",
   "metadata": {},
   "outputs": [],
   "source": [
    "churn_count=df['churn'].value_counts()"
   ]
  },
  {
   "cell_type": "code",
   "execution_count": 101,
   "id": "3f6df220",
   "metadata": {},
   "outputs": [
    {
     "data": {
      "text/plain": [
       "0    7963\n",
       "1    2037\n",
       "Name: churn, dtype: int64"
      ]
     },
     "execution_count": 101,
     "metadata": {},
     "output_type": "execute_result"
    }
   ],
   "source": [
    "churn_count"
   ]
  },
  {
   "cell_type": "code",
   "execution_count": 106,
   "id": "8bbed430",
   "metadata": {},
   "outputs": [
    {
     "data": {
      "image/png": "[encoded data removed]",
      "text/plain": [
       "<Figure size 576x432 with 1 Axes>"
      ]
     },
     "metadata": {},
     "output_type": "display_data"
    }
   ],
   "source": [
    "\n",
    "# Define a color palette for the plot\n",
    "palette = [\"green\", \"#9B26B6\"]\n",
    "\n",
    "# Plotting the count of churned and non-churned customers\n",
    "plt.figure(figsize=(8, 6))\n",
    "sns.countplot(data=df, x='churn', palette=palette)\n",
    "plt.title('Distribution of Churn')\n",
    "plt.xlabel('Churn')\n",
    "plt.ylabel('Count')\n",
    "plt.show()"
   ]
  },
  {
   "cell_type": "raw",
   "id": "070c4cab",
   "metadata": {},
   "source": [
    "majority of customers (7963) are classified as non-churned, while a smaller portion (2037) are classified as churned."
   ]
  },
  {
   "cell_type": "code",
   "execution_count": 107,
   "id": "0b8a8da7",
   "metadata": {},
   "outputs": [
    {
     "data": {
      "text/plain": [
       "0    79.63\n",
       "1    20.37\n",
       "Name: churn, dtype: float64"
      ]
     },
     "execution_count": 107,
     "metadata": {},
     "output_type": "execute_result"
    }
   ],
   "source": [
    "churn_percentage = churn_count / len(df) * 100\n",
    "churn_percentage "
   ]
  },
  {
   "cell_type": "code",
   "execution_count": 108,
   "id": "314874a3",
   "metadata": {},
   "outputs": [
    {
     "name": "stdout",
     "output_type": "stream",
     "text": [
      "Average Balance for Churned Customers: 91108.53933726063\n",
      "Average Balance for Non-Churned Customers: 72745.29677885193\n"
     ]
    }
   ],
   "source": [
    "# Calculate the average balance for churned and non-churned customers\n",
    "mean_balance_churned = df[df['churn'] == 1]['balance'].mean()\n",
    "mean_balance_nonchurned = df[df['churn'] == 0]['balance'].mean()\n",
    "\n",
    "# Print the average balances\n",
    "print(\"Average Balance for Churned Customers:\", mean_balance_churned)\n",
    "print(\"Average Balance for Non-Churned Customers:\", mean_balance_nonchurned)"
   ]
  },
  {
   "cell_type": "code",
   "execution_count": 110,
   "id": "1bf8bd23",
   "metadata": {},
   "outputs": [
    {
     "name": "stdout",
     "output_type": "stream",
     "text": [
      "T-Statistic: 11.936240300013841\n",
      "P-Value: 1.2755633191525477e-32\n"
     ]
    }
   ],
   "source": [
    "from scipy.stats import ttest_ind\n",
    "# Perform a t-test for balance between churned and non-churned customers\n",
    "balance_churned = df[df['churn'] == 1]['balance']\n",
    "balance_nonchurned = df[df['churn'] == 0]['balance']\n",
    "t_statistic, p_value = ttest_ind(balance_churned, balance_nonchurned)\n",
    "\n",
    "# Print the t-statistic and p-value\n",
    "print(\"T-Statistic:\", t_statistic)\n",
    "print(\"P-Value:\", p_value)\n"
   ]
  },
  {
   "cell_type": "raw",
   "id": "c3f51664",
   "metadata": {},
   "source": [
    "we can conclude that there is a significant association between churn and balance, and customers who churn tend to have different average balances compared to customers who do not churn"
   ]
  },
  {
   "cell_type": "code",
   "execution_count": 111,
   "id": "7f6f9cc0",
   "metadata": {},
   "outputs": [
    {
     "name": "stdout",
     "output_type": "stream",
     "text": [
      "Average credit_score for Churned Customers: 645.3514972999509\n",
      "Average credit_score for Non-Churned Customers: 651.8531960316463\n"
     ]
    }
   ],
   "source": [
    "# Calculate the average balance for churned and non-churned customers\n",
    "mean_balance_churned = df[df['churn'] == 1]['credit_score'].mean()\n",
    "mean_balance_nonchurned = df[df['churn'] == 0]['credit_score'].mean()\n",
    "\n",
    "# Print the average balances\n",
    "print(\"Average credit_score for Churned Customers:\", mean_balance_churned)\n",
    "print(\"Average credit_score for Non-Churned Customers:\", mean_balance_nonchurned)"
   ]
  },
  {
   "cell_type": "markdown",
   "id": "23cfcb82",
   "metadata": {},
   "source": [
    "# final if you want to get primary report for reading purpose used pandas profiling..\n",
    "\n",
    "\n",
    "import pandas_profiling as pp\n",
    "\n",
    "profile = pp.ProfileReport(df)\n",
    "\n",
    "profile.to_file(\"output_bank.html\")\n"
   ]
  },
  {
   "cell_type": "code",
   "execution_count": null,
   "id": "1a3a74c8",
   "metadata": {},
   "outputs": [],
   "source": []
  }
 ],
 "metadata": {
  "kernelspec": {
   "display_name": "Python 3 (ipykernel)",
   "language": "python",
   "name": "python3"
  },
  "language_info": {
   "codemirror_mode": {
    "name": "ipython",
    "version": 3
   },
   "file_extension": ".py",
   "mimetype": "text/x-python",
   "name": "python",
   "nbconvert_exporter": "python",
   "pygments_lexer": "ipython3",
   "version": "3.9.7"
  }
 },
 "nbformat": 4,
 "nbformat_minor": 5
}
